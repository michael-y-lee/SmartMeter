{
 "cells": [
  {
   "cell_type": "markdown",
   "id": "narrative-physiology",
   "metadata": {},
   "source": [
    "# Smart Meter Analysis Final Project\n",
    "\n",
    "Michael Lee <br/>\n",
    "CSCI E-63 Big Data Analytics Spring 2021"
   ]
  },
  {
   "cell_type": "code",
   "execution_count": 1,
   "id": "transparent-disposition",
   "metadata": {},
   "outputs": [],
   "source": [
    "from pyspark.sql.functions import countDistinct, col, dayofweek, month, hour, minute, when\n",
    "from pyspark.sql.functions import isnan, when, count, spark_partition_id, asc, desc, avg, to_date\n",
    "from pyspark.sql.types import StructType, StructField, StringType, TimestampType, FloatType, IntegerType, StringType, DateType\n",
    "from pyspark.ml.feature import RFormula, VectorAssembler, OneHotEncoder, StringIndexer\n",
    "from pyspark.ml.regression import LinearRegression, DecisionTreeRegressor, RandomForestRegressor, GBTRegressor \n",
    "from pyspark.ml.evaluation import RegressionEvaluator \n",
    "from pyspark.sql.functions import udf\n",
    "\n",
    "\n",
    "import numpy as np\n",
    "import pandas as pd\n",
    "import matplotlib.pyplot as plt\n",
    "%matplotlib inline"
   ]
  },
  {
   "cell_type": "code",
   "execution_count": 2,
   "id": "further-soundtrack",
   "metadata": {},
   "outputs": [],
   "source": [
    "# citing https://stackoverflow.com/questions/3899980/how-to-change-the-font-size-on-a-matplotlib-plot for reference\n",
    "\n",
    "# set matplotlib plot font sizes\n",
    "SMALL_SIZE = 12\n",
    "MEDIUM_SIZE = 14\n",
    "BIGGER_SIZE = 18\n",
    "\n",
    "plt.rc('font', size=SMALL_SIZE)          # controls default text sizes\n",
    "plt.rc('axes', titlesize=SMALL_SIZE)     # fontsize of the axes title\n",
    "plt.rc('axes', labelsize=MEDIUM_SIZE)    # fontsize of the x and y labels\n",
    "plt.rc('xtick', labelsize=SMALL_SIZE)    # fontsize of the tick labels\n",
    "plt.rc('ytick', labelsize=SMALL_SIZE)    # fontsize of the tick labels\n",
    "plt.rc('legend', fontsize=SMALL_SIZE)    # legend fontsize\n",
    "plt.rc('figure', titlesize=BIGGER_SIZE)  # fontsize of the figure title"
   ]
  },
  {
   "cell_type": "markdown",
   "id": "challenging-reliance",
   "metadata": {},
   "source": [
    "Set SparkSession configuration"
   ]
  },
  {
   "cell_type": "code",
   "execution_count": 3,
   "id": "artificial-fluid",
   "metadata": {},
   "outputs": [],
   "source": [
    "sc.setLogLevel(\"ERROR\")"
   ]
  },
  {
   "cell_type": "code",
   "execution_count": 4,
   "id": "presidential-reality",
   "metadata": {},
   "outputs": [],
   "source": [
    "appName = \"SmartMeter\"\n",
    "master = \"local[8]\"\n",
    "\n",
    "spark = SparkSession.builder \\\n",
    "    .appName(appName) \\\n",
    "    .master(master) \\\n",
    "    .getOrCreate()"
   ]
  },
  {
   "cell_type": "markdown",
   "id": "coordinated-kitchen",
   "metadata": {},
   "source": [
    "# Data Cleaning"
   ]
  },
  {
   "cell_type": "markdown",
   "id": "widespread-furniture",
   "metadata": {},
   "source": [
    "## Load in Data"
   ]
  },
  {
   "cell_type": "markdown",
   "id": "transparent-restriction",
   "metadata": {},
   "source": [
    "- Set Schemas for Imported Data"
   ]
  },
  {
   "cell_type": "code",
   "execution_count": 5,
   "id": "competent-locking",
   "metadata": {},
   "outputs": [],
   "source": [
    "meter_daily_schema = StructType([StructField('LCLid', StringType(), True),\n",
    "                                 StructField('time', DateType(), True),\n",
    "                                 StructField('energy_median', FloatType(), True),\n",
    "                                 StructField('energy_mean', FloatType(), True),\n",
    "                                 StructField('max', FloatType(), True),\n",
    "                                 StructField('energy_count', IntegerType(), True),\n",
    "                                 StructField('std', FloatType(), True),\n",
    "                                 StructField('energy_sum', FloatType(), True),\n",
    "                                 StructField('min', FloatType(), True)])"
   ]
  },
  {
   "cell_type": "code",
   "execution_count": 6,
   "id": "moderate-format",
   "metadata": {},
   "outputs": [],
   "source": [
    "meter_hourly_schema = StructType([StructField('LCLid', StringType(), True),\n",
    "                                  StructField('time', TimestampType(), True),\n",
    "                                  StructField('energy', FloatType(), True)])"
   ]
  },
  {
   "cell_type": "code",
   "execution_count": 7,
   "id": "variable-development",
   "metadata": {},
   "outputs": [],
   "source": [
    "household_schema = StructType([StructField('LCLid', StringType(), True),\n",
    "                               StructField('stdorToU',StringType(), True),\n",
    "                               StructField('Acorn',StringType(), True),\n",
    "                               StructField('Socialeconomic',StringType(), True),\n",
    "                               StructField('File', StringType(), True)])"
   ]
  },
  {
   "cell_type": "code",
   "execution_count": 8,
   "id": "vietnamese-cliff",
   "metadata": {},
   "outputs": [],
   "source": [
    "weather_daily_schema = StructType([StructField('daily', FloatType(), True),\n",
    "                                   StructField('tempMaxTime', TimestampType(), True),\n",
    "                                   StructField('windDir', IntegerType(), True),\n",
    "                                   StructField('icon', StringType(), True),\n",
    "                                   StructField('dew', FloatType(), True),\n",
    "                                   StructField('tempMinTime', TimestampType(), True),\n",
    "                                   StructField('cloudCover', FloatType(), True),\n",
    "                                   StructField('windSpd', FloatType(), True),\n",
    "                                   StructField('pres', FloatType(), True),\n",
    "                                   StructField('appTempMinTime', TimestampType(), True),\n",
    "                                   StructField('appTempHigh', FloatType(), True),\n",
    "                                   StructField('precip', StringType(), True),\n",
    "                                   StructField('vis', FloatType(), True),\n",
    "                                   StructField('humid', FloatType(), True),\n",
    "                                   StructField('appTempHighTime', TimestampType(), True),\n",
    "                                   StructField('appTempLow', FloatType(), True),\n",
    "                                   StructField('appTempMax', FloatType(), True),\n",
    "                                   StructField('uv', StringType(), True),\n",
    "                                   StructField('time', DateType(), True),\n",
    "                                   StructField('sunset', TimestampType(), True),\n",
    "                                   StructField('tempLow', FloatType(), True),\n",
    "                                   StructField('tempMin', FloatType(), True),\n",
    "                                   StructField('tempHigh', FloatType(), True),\n",
    "                                   StructField('sunrise', TimestampType(), True),\n",
    "                                   StructField('tempHighTime', TimestampType(), True),\n",
    "                                   StructField('uvIndexTime', TimestampType(), True),\n",
    "                                   StructField('summary', StringType(), True),\n",
    "                                   StructField('tempLowTime', TimestampType(), True),\n",
    "                                   StructField('appTempMin', FloatType(), True),\n",
    "                                   StructField('appTempMaxTime', TimestampType(), True),\n",
    "                                   StructField('appTempLowTime', TimestampType(), True),\n",
    "                                   StructField('moonPhase', FloatType(), True)])"
   ]
  },
  {
   "cell_type": "code",
   "execution_count": 9,
   "id": "separate-export",
   "metadata": {},
   "outputs": [],
   "source": [
    "weather_hourly_schema = StructType([StructField('vis', FloatType(), True),\n",
    "                             StructField('windDir', IntegerType(), True),\n",
    "                             StructField('temp', FloatType(), True),\n",
    "                             StructField('time', TimestampType(), True),\n",
    "                             StructField('dew', FloatType(), True),\n",
    "                             StructField('pres', FloatType(), True),\n",
    "                             StructField('apptemp', FloatType(), True),\n",
    "                             StructField('windSpd', FloatType(), True),\n",
    "                             StructField('precip', StringType(), True),\n",
    "                             StructField('icon', StringType(), True),\n",
    "                             StructField('humid', FloatType(), True),\n",
    "                             StructField('summary', StringType(), True)])"
   ]
  },
  {
   "cell_type": "code",
   "execution_count": 10,
   "id": "forbidden-anxiety",
   "metadata": {},
   "outputs": [],
   "source": [
    "holiday_schema = StructType([StructField('holiday', DateType(), True),\n",
    "                             StructField('Type', StringType(), True)])"
   ]
  },
  {
   "cell_type": "markdown",
   "id": "personalized-margin",
   "metadata": {},
   "source": [
    "### Load in Daily Meter Data"
   ]
  },
  {
   "cell_type": "code",
   "execution_count": 11,
   "id": "alert-acting",
   "metadata": {},
   "outputs": [],
   "source": [
    "meter_daily_df = spark.read.option(\"header\", \"true\").schema(meter_daily_schema) \\\n",
    ".csv(r\"archive\\daily_dataset\\daily_dataset\\block_*.csv\") "
   ]
  },
  {
   "cell_type": "code",
   "execution_count": 12,
   "id": "smoking-degree",
   "metadata": {},
   "outputs": [
    {
     "name": "stdout",
     "output_type": "stream",
     "text": [
      "root\n",
      " |-- LCLid: string (nullable = true)\n",
      " |-- time: date (nullable = true)\n",
      " |-- energy_median: float (nullable = true)\n",
      " |-- energy_mean: float (nullable = true)\n",
      " |-- max: float (nullable = true)\n",
      " |-- energy_count: integer (nullable = true)\n",
      " |-- std: float (nullable = true)\n",
      " |-- energy_sum: float (nullable = true)\n",
      " |-- min: float (nullable = true)\n",
      "\n"
     ]
    }
   ],
   "source": [
    "meter_daily_df.printSchema()"
   ]
  },
  {
   "cell_type": "code",
   "execution_count": 13,
   "id": "realistic-football",
   "metadata": {},
   "outputs": [
    {
     "name": "stdout",
     "output_type": "stream",
     "text": [
      "+---------+----------+-------------+-----------+-----+------------+-----------+----------+-----+\n",
      "|    LCLid|      time|energy_median|energy_mean|  max|energy_count|        std|energy_sum|  min|\n",
      "+---------+----------+-------------+-----------+-----+------------+-----------+----------+-----+\n",
      "|MAC000048|2011-12-08|        0.107| 0.15921739|0.576|          23| 0.11802117|     3.662|0.087|\n",
      "|MAC000048|2011-12-09|        0.092|    0.12575| 0.57|          48| 0.08927664|     6.036|0.087|\n",
      "|MAC000048|2011-12-10|       0.0925| 0.20964584|1.322|          48| 0.28822446|    10.063|0.087|\n",
      "|MAC000048|2011-12-11|        0.116| 0.24518749|2.001|          48| 0.32513994|    11.769|0.088|\n",
      "|MAC000048|2011-12-12|        0.095|  0.1231875|0.326|          48| 0.05794666|     5.913|0.087|\n",
      "|MAC000048|2011-12-13|        0.089|  0.0948125|0.116|          48|0.010393648|     4.551|0.087|\n",
      "|MAC000048|2011-12-14|        0.089|    0.10025|0.367|          48|0.040702082|     4.812|0.085|\n",
      "|MAC000048|2011-12-15|       0.1005|   0.171625|1.287|          48| 0.20087442|     8.238|0.092|\n",
      "|MAC000048|2011-12-16|        0.532|  0.6125417|1.591|          48| 0.32577893|    29.402|0.095|\n",
      "|MAC000048|2011-12-17|        0.098|  0.2043125|0.995|          48| 0.22246952|     9.807|0.094|\n",
      "|MAC000048|2011-12-18|       0.3665| 0.47897917|2.372|          48|  0.5333164|    22.991|0.096|\n",
      "|MAC000048|2011-12-19|       0.5515|  0.5084375|1.387|          48|  0.3528437|    24.405|0.096|\n",
      "|MAC000048|2011-12-20|       0.1335| 0.17885417|0.807|          48| 0.12852585|     8.585|0.095|\n",
      "|MAC000048|2011-12-21|       0.0825| 0.12616667|0.676|          48| 0.14078358|     6.056|0.056|\n",
      "|MAC000048|2011-12-22|        0.117|  0.1611875|0.859|          48| 0.13566066|     7.737|0.095|\n",
      "|MAC000048|2011-12-23|        0.105| 0.22202083|2.004|          48| 0.37667167|    10.657|0.094|\n",
      "|MAC000048|2011-12-24|       0.1225|  0.1929375|0.591|          48| 0.13049535|     9.261|0.097|\n",
      "|MAC000048|2011-12-25|       0.1125| 0.11814583|0.141|          48| 0.01043315|     5.671|0.108|\n",
      "|MAC000048|2011-12-26|        0.113|  0.1181875| 0.14|          48|0.010317628|     5.673|0.109|\n",
      "|MAC000048|2011-12-27|        0.113|  0.1176875|0.138|          48|0.010310409|     5.649|0.109|\n",
      "+---------+----------+-------------+-----------+-----+------------+-----------+----------+-----+\n",
      "only showing top 20 rows\n",
      "\n"
     ]
    }
   ],
   "source": [
    "meter_daily_df.show()"
   ]
  },
  {
   "cell_type": "code",
   "execution_count": 14,
   "id": "printable-closer",
   "metadata": {},
   "outputs": [
    {
     "data": {
      "text/plain": [
       "3510433"
      ]
     },
     "execution_count": 14,
     "metadata": {},
     "output_type": "execute_result"
    }
   ],
   "source": [
    "meter_daily_df.select(\"energy_sum\").count()"
   ]
  },
  {
   "cell_type": "markdown",
   "id": "substantial-operations",
   "metadata": {},
   "source": [
    "### Load in Hourly Meter Data"
   ]
  },
  {
   "cell_type": "code",
   "execution_count": 15,
   "id": "pharmaceutical-directive",
   "metadata": {},
   "outputs": [],
   "source": [
    "meter_hourly_full_df = spark.read.option(\"header\", \"true\").schema(meter_hourly_schema) \\\n",
    ".csv(r\"archive\\halfhourly_dataset\\halfhourly_dataset\\block_*.csv\")"
   ]
  },
  {
   "cell_type": "code",
   "execution_count": 16,
   "id": "labeled-casting",
   "metadata": {},
   "outputs": [
    {
     "data": {
      "text/plain": [
       "34317084"
      ]
     },
     "execution_count": 16,
     "metadata": {},
     "output_type": "execute_result"
    }
   ],
   "source": [
    "meter_hourly_full_df.select(\"energy\").count()"
   ]
  },
  {
   "cell_type": "markdown",
   "id": "unnecessary-netscape",
   "metadata": {},
   "source": [
    "For the hourly meter data analysis, only a subset of data will be used."
   ]
  },
  {
   "cell_type": "code",
   "execution_count": 17,
   "id": "surprised-details",
   "metadata": {},
   "outputs": [],
   "source": [
    "meter_hourly_df = spark.read.option(\"header\", \"true\").schema(meter_hourly_schema) \\\n",
    ".csv(r\"archive\\halfhourly_dataset\\halfhourly_dataset\\block_0.csv\")\n",
    "meter_hourly_df = meter_hourly_df.filter(col(\"LCLid\") == \"MAC003597\")"
   ]
  },
  {
   "cell_type": "code",
   "execution_count": 18,
   "id": "complete-arctic",
   "metadata": {},
   "outputs": [
    {
     "name": "stdout",
     "output_type": "stream",
     "text": [
      "root\n",
      " |-- LCLid: string (nullable = true)\n",
      " |-- time: timestamp (nullable = true)\n",
      " |-- energy: float (nullable = true)\n",
      "\n"
     ]
    }
   ],
   "source": [
    "meter_hourly_df.printSchema()"
   ]
  },
  {
   "cell_type": "code",
   "execution_count": 19,
   "id": "brazilian-marriage",
   "metadata": {},
   "outputs": [
    {
     "data": {
      "text/plain": [
       "24215"
      ]
     },
     "execution_count": 19,
     "metadata": {},
     "output_type": "execute_result"
    }
   ],
   "source": [
    "meter_hourly_df.select(\"energy\").count()"
   ]
  },
  {
   "cell_type": "markdown",
   "id": "painful-broad",
   "metadata": {},
   "source": [
    "### Load in Household Information"
   ]
  },
  {
   "cell_type": "code",
   "execution_count": 20,
   "id": "operational-pottery",
   "metadata": {},
   "outputs": [],
   "source": [
    "household_df = spark.read.option(\"header\", \"true\").schema(household_schema) \\\n",
    ".csv(r\"archive\\informations_households.csv\")"
   ]
  },
  {
   "cell_type": "code",
   "execution_count": 21,
   "id": "developing-shift",
   "metadata": {},
   "outputs": [
    {
     "name": "stdout",
     "output_type": "stream",
     "text": [
      "+---------+--------+-------+--------------+-------+\n",
      "|    LCLid|stdorToU|  Acorn|Socialeconomic|   File|\n",
      "+---------+--------+-------+--------------+-------+\n",
      "|MAC005492|     ToU| ACORN-|        ACORN-|block_0|\n",
      "|MAC001074|     ToU| ACORN-|        ACORN-|block_0|\n",
      "|MAC000002|     Std|ACORN-A|      Affluent|block_0|\n",
      "|MAC003613|     Std|ACORN-A|      Affluent|block_0|\n",
      "|MAC003597|     Std|ACORN-A|      Affluent|block_0|\n",
      "+---------+--------+-------+--------------+-------+\n",
      "only showing top 5 rows\n",
      "\n"
     ]
    }
   ],
   "source": [
    "household_df.show(5)"
   ]
  },
  {
   "cell_type": "code",
   "execution_count": 22,
   "id": "automatic-respondent",
   "metadata": {},
   "outputs": [
    {
     "name": "stdout",
     "output_type": "stream",
     "text": [
      "root\n",
      " |-- LCLid: string (nullable = true)\n",
      " |-- stdorToU: string (nullable = true)\n",
      " |-- Acorn: string (nullable = true)\n",
      " |-- Socialeconomic: string (nullable = true)\n",
      " |-- File: string (nullable = true)\n",
      "\n"
     ]
    }
   ],
   "source": [
    "household_df.printSchema()"
   ]
  },
  {
   "cell_type": "markdown",
   "id": "facial-myanmar",
   "metadata": {},
   "source": [
    "### Load in Daily Weather Data"
   ]
  },
  {
   "cell_type": "code",
   "execution_count": 23,
   "id": "conditional-oasis",
   "metadata": {},
   "outputs": [],
   "source": [
    "weather_daily_df = spark.read.option(\"header\", \"true\").schema(weather_daily_schema).csv(r\"archive\\weather_daily_darksky.csv\")"
   ]
  },
  {
   "cell_type": "code",
   "execution_count": 24,
   "id": "mounted-knife",
   "metadata": {},
   "outputs": [
    {
     "name": "stdout",
     "output_type": "stream",
     "text": [
      "root\n",
      " |-- daily: float (nullable = true)\n",
      " |-- tempMaxTime: timestamp (nullable = true)\n",
      " |-- windDir: integer (nullable = true)\n",
      " |-- icon: string (nullable = true)\n",
      " |-- dew: float (nullable = true)\n",
      " |-- tempMinTime: timestamp (nullable = true)\n",
      " |-- cloudCover: float (nullable = true)\n",
      " |-- windSpd: float (nullable = true)\n",
      " |-- pres: float (nullable = true)\n",
      " |-- appTempMinTime: timestamp (nullable = true)\n",
      " |-- appTempHigh: float (nullable = true)\n",
      " |-- precip: string (nullable = true)\n",
      " |-- vis: float (nullable = true)\n",
      " |-- humid: float (nullable = true)\n",
      " |-- appTempHighTime: timestamp (nullable = true)\n",
      " |-- appTempLow: float (nullable = true)\n",
      " |-- appTempMax: float (nullable = true)\n",
      " |-- uv: string (nullable = true)\n",
      " |-- time: date (nullable = true)\n",
      " |-- sunset: timestamp (nullable = true)\n",
      " |-- tempLow: float (nullable = true)\n",
      " |-- tempMin: float (nullable = true)\n",
      " |-- tempHigh: float (nullable = true)\n",
      " |-- sunrise: timestamp (nullable = true)\n",
      " |-- tempHighTime: timestamp (nullable = true)\n",
      " |-- uvIndexTime: timestamp (nullable = true)\n",
      " |-- summary: string (nullable = true)\n",
      " |-- tempLowTime: timestamp (nullable = true)\n",
      " |-- appTempMin: float (nullable = true)\n",
      " |-- appTempMaxTime: timestamp (nullable = true)\n",
      " |-- appTempLowTime: timestamp (nullable = true)\n",
      " |-- moonPhase: float (nullable = true)\n",
      "\n",
      "+-----+-------------------+-------+-------------------+----+-------------------+----------+-------+-------+-------------------+-----------+------+-----+-----+-------------------+----------+----------+---+----------+-------------------+-------+-------+--------+-------------------+-------------------+-------------------+--------------------+-------------------+----------+-------------------+-------------------+---------+\n",
      "|daily|        tempMaxTime|windDir|               icon| dew|        tempMinTime|cloudCover|windSpd|   pres|     appTempMinTime|appTempHigh|precip|  vis|humid|    appTempHighTime|appTempLow|appTempMax| uv|      time|             sunset|tempLow|tempMin|tempHigh|            sunrise|       tempHighTime|        uvIndexTime|             summary|        tempLowTime|appTempMin|     appTempMaxTime|     appTempLowTime|moonPhase|\n",
      "+-----+-------------------+-------+-------------------+----+-------------------+----------+-------+-------+-------------------+-----------+------+-----+-----+-------------------+----------+----------+---+----------+-------------------+-------+-------+--------+-------------------+-------------------+-------------------+--------------------+-------------------+----------+-------------------+-------------------+---------+\n",
      "|11.96|2011-11-11 23:00:00|    123|                fog| 9.4|2011-11-11 07:00:00|      0.79|   3.88|1016.08|2011-11-11 07:00:00|      10.87|  rain|  3.3| 0.95|2011-11-11 19:00:00|     10.87|     11.96|1.0|2011-11-11|2011-11-11 16:19:21|  10.87|   8.85|   10.87|2011-11-11 07:12:14|2011-11-11 19:00:00|2011-11-11 11:00:00|Foggy until after...|2011-11-11 19:00:00|      6.48|2011-11-11 23:00:00|2011-11-11 19:00:00|     0.52|\n",
      "| 8.59|2011-12-11 14:00:00|    198|  partly-cloudy-day|4.49|2011-12-11 01:00:00|      0.56|   3.94|1007.71|2011-12-11 02:00:00|       5.62|  rain|12.09| 0.88|2011-12-11 19:00:00|     -0.64|      5.72|1.0|2011-12-11|2011-12-11 15:52:53|   3.09|   2.48|    8.59|2011-12-11 07:57:02|2011-12-11 14:00:00|2011-12-11 12:00:00|Partly cloudy thr...|2011-12-12 07:00:00|      0.11|2011-12-11 20:00:00|2011-12-12 08:00:00|     0.53|\n",
      "|10.33|2011-12-27 02:00:00|    225|  partly-cloudy-day|5.47|2011-12-27 23:00:00|      0.85|   3.54|1032.76|2011-12-27 22:00:00|      10.33|  rain|13.39| 0.74|2011-12-27 14:00:00|      5.52|     10.33|0.0|2011-12-27|2011-12-27 15:57:56|   8.03|   8.03|   10.33|2011-12-27 08:07:06|2011-12-27 14:00:00|2011-12-27 00:00:00|Mostly cloudy thr...|2011-12-27 23:00:00|      5.59|2011-12-27 02:00:00|2011-12-28 00:00:00|      0.1|\n",
      "| 8.07|2011-12-02 23:00:00|    232|               wind|3.69|2011-12-02 07:00:00|      0.32|    3.0|1012.12|2011-12-02 07:00:00|       5.33|  rain|11.89| 0.87|2011-12-02 12:00:00|      3.26|      5.33|1.0|2011-12-02|2011-12-02 15:56:17|   6.33|   2.56|    7.36|2011-12-02 07:46:09|2011-12-02 12:00:00|2011-12-02 10:00:00|Partly cloudy thr...|2011-12-02 19:00:00|      0.46|2011-12-02 12:00:00|2011-12-02 19:00:00|     0.25|\n",
      "| 8.22|2011-12-24 23:00:00|    252|partly-cloudy-night|2.79|2011-12-24 07:00:00|      0.37|   4.46|1028.17|2011-12-24 07:00:00|       5.02|  rain|13.16|  0.8|2011-12-24 15:00:00|      4.37|      5.32|1.0|2011-12-24|2011-12-24 15:55:55|   7.45|   3.17|    7.93|2011-12-24 08:06:15|2011-12-24 15:00:00|2011-12-24 13:00:00|Mostly cloudy thr...|2011-12-24 19:00:00|     -0.51|2011-12-24 23:00:00|2011-12-24 20:00:00|     0.99|\n",
      "+-----+-------------------+-------+-------------------+----+-------------------+----------+-------+-------+-------------------+-----------+------+-----+-----+-------------------+----------+----------+---+----------+-------------------+-------+-------+--------+-------------------+-------------------+-------------------+--------------------+-------------------+----------+-------------------+-------------------+---------+\n",
      "only showing top 5 rows\n",
      "\n"
     ]
    }
   ],
   "source": [
    "weather_daily_df.printSchema()\n",
    "weather_daily_df.show(5)"
   ]
  },
  {
   "cell_type": "markdown",
   "id": "available-greensboro",
   "metadata": {},
   "source": [
    "### Load in Hourly Weather Data"
   ]
  },
  {
   "cell_type": "code",
   "execution_count": 25,
   "id": "radio-remark",
   "metadata": {},
   "outputs": [],
   "source": [
    "weather_hourly_df = spark.read.option(\"header\", \"true\").schema(weather_hourly_schema).csv(r\"archive\\weather_hourly_darksky.csv\")"
   ]
  },
  {
   "cell_type": "code",
   "execution_count": 26,
   "id": "corrected-garlic",
   "metadata": {},
   "outputs": [
    {
     "name": "stdout",
     "output_type": "stream",
     "text": [
      "root\n",
      " |-- vis: float (nullable = true)\n",
      " |-- windDir: integer (nullable = true)\n",
      " |-- temp: float (nullable = true)\n",
      " |-- time: timestamp (nullable = true)\n",
      " |-- dew: float (nullable = true)\n",
      " |-- pres: float (nullable = true)\n",
      " |-- apptemp: float (nullable = true)\n",
      " |-- windSpd: float (nullable = true)\n",
      " |-- precip: string (nullable = true)\n",
      " |-- icon: string (nullable = true)\n",
      " |-- humid: float (nullable = true)\n",
      " |-- summary: string (nullable = true)\n",
      "\n",
      "+----+-------+-----+-------------------+----+-------+-------+-------+------+-------------------+-----+-------------+\n",
      "| vis|windDir| temp|               time| dew|   pres|apptemp|windSpd|precip|               icon|humid|      summary|\n",
      "+----+-------+-----+-------------------+----+-------+-------+-------+------+-------------------+-----+-------------+\n",
      "|5.97|    104|10.24|2011-11-11 00:00:00|8.86|1016.76|  10.24|   2.77|  rain|partly-cloudy-night| 0.91|Partly Cloudy|\n",
      "|4.88|     99| 9.76|2011-11-11 01:00:00|8.83|1016.63|   8.24|   2.95|  rain|partly-cloudy-night| 0.94|Partly Cloudy|\n",
      "| 3.7|     98| 9.46|2011-11-11 02:00:00|8.79|1016.36|   7.76|   3.17|  rain|partly-cloudy-night| 0.96|Partly Cloudy|\n",
      "|3.12|     99| 9.23|2011-11-11 03:00:00|8.63|1016.28|   7.44|   3.25|  rain|                fog| 0.96|        Foggy|\n",
      "|1.85|    111| 9.26|2011-11-11 04:00:00|9.21|1015.98|   7.24|    3.7|  rain|                fog|  1.0|        Foggy|\n",
      "+----+-------+-----+-------------------+----+-------+-------+-------+------+-------------------+-----+-------------+\n",
      "only showing top 5 rows\n",
      "\n"
     ]
    }
   ],
   "source": [
    "weather_hourly_df.printSchema()\n",
    "weather_hourly_df.show(5)"
   ]
  },
  {
   "cell_type": "markdown",
   "id": "graduate-stanford",
   "metadata": {},
   "source": [
    "### Load in Holiday Data"
   ]
  },
  {
   "cell_type": "code",
   "execution_count": 27,
   "id": "increased-match",
   "metadata": {},
   "outputs": [],
   "source": [
    "holiday_df = spark.read.option(\"header\", \"true\").schema(holiday_schema).csv(r\"archive\\uk_bank_holidays.csv\")"
   ]
  },
  {
   "cell_type": "code",
   "execution_count": 28,
   "id": "headed-unemployment",
   "metadata": {},
   "outputs": [
    {
     "name": "stdout",
     "output_type": "stream",
     "text": [
      "root\n",
      " |-- holiday: date (nullable = true)\n",
      " |-- Type: string (nullable = true)\n",
      "\n",
      "+----------+--------------------+\n",
      "|   holiday|                Type|\n",
      "+----------+--------------------+\n",
      "|2012-12-26|          Boxing Day|\n",
      "|2012-12-25|       Christmas Day|\n",
      "|2012-08-27| Summer bank holiday|\n",
      "|2012-05-06|Queen?s Diamond J...|\n",
      "|2012-04-06|Spring bank holid...|\n",
      "|2012-07-05|Early May bank ho...|\n",
      "|2012-09-04|       Easter Monday|\n",
      "|2012-06-04|         Good Friday|\n",
      "|2012-02-01|New Year?s Day (s...|\n",
      "|2013-12-26|          Boxing Day|\n",
      "|2013-12-25|       Christmas Day|\n",
      "|2013-08-26| Summer bank holiday|\n",
      "|2013-05-27| Spring bank holiday|\n",
      "|2013-06-05|Early May bank ho...|\n",
      "|2013-01-04|       Easter Monday|\n",
      "|2013-03-29|         Good Friday|\n",
      "|2013-01-01|      New Year?s Day|\n",
      "|2014-12-26|          Boxing Day|\n",
      "|2014-12-25|       Christmas Day|\n",
      "|2014-08-25| Summer bank holiday|\n",
      "|2014-05-26| Spring bank holiday|\n",
      "|2014-05-05|Early May bank ho...|\n",
      "|2014-04-21|       Easter Monday|\n",
      "|2014-04-18|         Good Friday|\n",
      "|2014-01-01|      New Year?s Day|\n",
      "+----------+--------------------+\n",
      "\n"
     ]
    }
   ],
   "source": [
    "holiday_df.printSchema()\n",
    "holiday_df.show(26)"
   ]
  },
  {
   "cell_type": "markdown",
   "id": "statewide-feeling",
   "metadata": {},
   "source": [
    "## Consolidate Data"
   ]
  },
  {
   "cell_type": "markdown",
   "id": "correct-orchestra",
   "metadata": {},
   "source": [
    "### Join Tables for Daily Data"
   ]
  },
  {
   "cell_type": "code",
   "execution_count": 29,
   "id": "norwegian-illness",
   "metadata": {},
   "outputs": [],
   "source": [
    "# join meter data with household data\n",
    "\n",
    "joinType = \"inner\"\n",
    "joinExpression = [\"LCLid\"] \n",
    "\n",
    "meter_household_daily_df = meter_daily_df.join(household_df, joinExpression, joinType) "
   ]
  },
  {
   "cell_type": "code",
   "execution_count": 30,
   "id": "eastern-michael",
   "metadata": {},
   "outputs": [
    {
     "name": "stdout",
     "output_type": "stream",
     "text": [
      "root\n",
      " |-- LCLid: string (nullable = true)\n",
      " |-- time: date (nullable = true)\n",
      " |-- energy_median: float (nullable = true)\n",
      " |-- energy_mean: float (nullable = true)\n",
      " |-- max: float (nullable = true)\n",
      " |-- energy_count: integer (nullable = true)\n",
      " |-- std: float (nullable = true)\n",
      " |-- energy_sum: float (nullable = true)\n",
      " |-- min: float (nullable = true)\n",
      " |-- stdorToU: string (nullable = true)\n",
      " |-- Acorn: string (nullable = true)\n",
      " |-- Socialeconomic: string (nullable = true)\n",
      " |-- File: string (nullable = true)\n",
      "\n",
      "+---------+----------+-------------+-----------+-----+------------+----------+----------+-----+--------+-------+--------------+--------+\n",
      "|    LCLid|      time|energy_median|energy_mean|  max|energy_count|       std|energy_sum|  min|stdorToU|  Acorn|Socialeconomic|    File|\n",
      "+---------+----------+-------------+-----------+-----+------------+----------+----------+-----+--------+-------+--------------+--------+\n",
      "|MAC000048|2011-12-08|        0.107| 0.15921739|0.576|          23|0.11802117|     3.662|0.087|     ToU|ACORN-E|      Affluent|block_20|\n",
      "|MAC000048|2011-12-09|        0.092|    0.12575| 0.57|          48|0.08927664|     6.036|0.087|     ToU|ACORN-E|      Affluent|block_20|\n",
      "|MAC000048|2011-12-10|       0.0925| 0.20964584|1.322|          48|0.28822446|    10.063|0.087|     ToU|ACORN-E|      Affluent|block_20|\n",
      "|MAC000048|2011-12-11|        0.116| 0.24518749|2.001|          48|0.32513994|    11.769|0.088|     ToU|ACORN-E|      Affluent|block_20|\n",
      "|MAC000048|2011-12-12|        0.095|  0.1231875|0.326|          48|0.05794666|     5.913|0.087|     ToU|ACORN-E|      Affluent|block_20|\n",
      "+---------+----------+-------------+-----------+-----+------------+----------+----------+-----+--------+-------+--------------+--------+\n",
      "only showing top 5 rows\n",
      "\n"
     ]
    }
   ],
   "source": [
    "meter_household_daily_df.printSchema()\n",
    "meter_household_daily_df.show(5)"
   ]
  },
  {
   "cell_type": "code",
   "execution_count": 31,
   "id": "certain-resource",
   "metadata": {},
   "outputs": [],
   "source": [
    "# join combined meter and household data with weather data\n",
    "\n",
    "joinType = \"inner\"\n",
    "joinExpression = [\"time\"]\n",
    "\n",
    "met_hou_wea_daily_df = meter_household_daily_df.join(weather_daily_df, joinExpression, joinType)"
   ]
  },
  {
   "cell_type": "code",
   "execution_count": 32,
   "id": "changed-hygiene",
   "metadata": {},
   "outputs": [
    {
     "name": "stdout",
     "output_type": "stream",
     "text": [
      "+----------+---------+-------------+-----------+-----+------------+----------+----------+-----+--------+-------+--------------+--------+-----+-------------------+-------+-----------------+-----+-------------------+----------+-------+-------+-------------------+-----------+------+-----+-----+-------------------+----------+----------+---+-------------------+-------+-------+--------+-------------------+-------------------+-------------------+--------------------+-------------------+----------+-------------------+-------------------+---------+\n",
      "|      time|    LCLid|energy_median|energy_mean|  max|energy_count|       std|energy_sum|  min|stdorToU|  Acorn|Socialeconomic|    File|daily|        tempMaxTime|windDir|             icon|  dew|        tempMinTime|cloudCover|windSpd|   pres|     appTempMinTime|appTempHigh|precip|  vis|humid|    appTempHighTime|appTempLow|appTempMax| uv|             sunset|tempLow|tempMin|tempHigh|            sunrise|       tempHighTime|        uvIndexTime|             summary|        tempLowTime|appTempMin|     appTempMaxTime|     appTempLowTime|moonPhase|\n",
      "+----------+---------+-------------+-----------+-----+------------+----------+----------+-----+--------+-------+--------------+--------+-----+-------------------+-------+-----------------+-----+-------------------+----------+-------+-------+-------------------+-----------+------+-----+-----+-------------------+----------+----------+---+-------------------+-------+-------+--------+-------------------+-------------------+-------------------+--------------------+-------------------+----------+-------------------+-------------------+---------+\n",
      "|2011-12-08|MAC000048|        0.107| 0.15921739|0.576|          23|0.11802117|     3.662|0.087|     ToU|ACORN-E|      Affluent|block_20|12.89|2011-12-08 18:00:00|    234|             wind| 5.96|2011-12-08 02:00:00|      0.53|   7.01|1010.84|2011-12-08 00:00:00|      12.89|  rain|12.59| 0.81|2011-12-08 18:00:00|     -0.37|     12.89|1.0|2011-12-08 15:53:32|   3.76|   4.27|   12.89|2011-12-08 07:53:46|2011-12-08 18:00:00|2011-12-08 12:00:00|Breezy and mostly...|2011-12-09 08:00:00|      0.63|2011-12-08 18:00:00|2011-12-09 05:00:00|     0.43|\n",
      "|2011-12-09|MAC000048|        0.092|    0.12575| 0.57|          48|0.08927664|     6.036|0.087|     ToU|ACORN-E|      Affluent|block_20| 7.68|2011-12-09 13:00:00|    255|partly-cloudy-day| 0.41|2011-12-09 23:00:00|      0.15|   5.65| 1010.6|2011-12-09 23:00:00|       3.99|  rain|12.83| 0.71|2011-12-09 13:00:00|     -3.42|      3.99|1.0|2011-12-09 15:53:16|  -0.13|   2.03|    7.68|2011-12-09 07:54:54|2011-12-09 13:00:00|2011-12-09 10:00:00|Partly cloudy sta...|2011-12-10 07:00:00|     -1.42|2011-12-09 13:00:00|2011-12-10 07:00:00|     0.46|\n",
      "|2011-12-10|MAC000048|       0.0925| 0.20964584|1.322|          48|0.28822446|    10.063|0.087|     ToU|ACORN-E|      Affluent|block_20| 6.08|2011-12-10 12:00:00|    247|partly-cloudy-day|-0.34|2011-12-10 07:00:00|      0.17|   3.08|1015.58|2011-12-10 07:00:00|       3.14|  rain|12.83| 0.81|2011-12-10 12:00:00|      0.11|      3.14|1.0|2011-12-10 15:53:03|   2.48|  -0.13|    6.08|2011-12-10 07:55:59|2011-12-10 12:00:00|2011-12-10 11:00:00|Partly cloudy unt...|2011-12-11 01:00:00|     -3.42|2011-12-10 12:00:00|2011-12-11 02:00:00|     0.49|\n",
      "|2011-12-11|MAC000048|        0.116| 0.24518749|2.001|          48|0.32513994|    11.769|0.088|     ToU|ACORN-E|      Affluent|block_20| 8.59|2011-12-11 14:00:00|    198|partly-cloudy-day| 4.49|2011-12-11 01:00:00|      0.56|   3.94|1007.71|2011-12-11 02:00:00|       5.62|  rain|12.09| 0.88|2011-12-11 19:00:00|     -0.64|      5.72|1.0|2011-12-11 15:52:53|   3.09|   2.48|    8.59|2011-12-11 07:57:02|2011-12-11 14:00:00|2011-12-11 12:00:00|Partly cloudy thr...|2011-12-12 07:00:00|      0.11|2011-12-11 20:00:00|2011-12-12 08:00:00|     0.53|\n",
      "|2011-12-12|MAC000048|        0.095|  0.1231875|0.326|          48|0.05794666|     5.913|0.087|     ToU|ACORN-E|      Affluent|block_20| 9.82|2011-12-12 23:00:00|    221|             wind|  4.1|2011-12-12 07:00:00|      0.38|   5.02|1002.47|2011-12-12 08:00:00|       5.18|  rain|12.05| 0.84|2011-12-12 16:00:00|      2.71|      5.94|1.0|2011-12-12 15:52:47|   6.88|   3.09|    8.53|2011-12-12 07:58:02|2011-12-12 19:00:00|2011-12-12 11:00:00|Partly cloudy thr...|2011-12-13 08:00:00|     -0.64|2011-12-12 23:00:00|2011-12-13 08:00:00|     0.56|\n",
      "+----------+---------+-------------+-----------+-----+------------+----------+----------+-----+--------+-------+--------------+--------+-----+-------------------+-------+-----------------+-----+-------------------+----------+-------+-------+-------------------+-----------+------+-----+-----+-------------------+----------+----------+---+-------------------+-------+-------+--------+-------------------+-------------------+-------------------+--------------------+-------------------+----------+-------------------+-------------------+---------+\n",
      "only showing top 5 rows\n",
      "\n"
     ]
    }
   ],
   "source": [
    "met_hou_wea_daily_df.show(5)"
   ]
  },
  {
   "cell_type": "code",
   "execution_count": 33,
   "id": "rental-chamber",
   "metadata": {},
   "outputs": [],
   "source": [
    "# add a binary variable to indicate if the date is a holiday\n",
    "\n",
    "combined_daily_df = met_hou_wea_daily_df.withColumn(\"holiday\", col(\"time\")) \\\n",
    ".join(holiday_df.withColumn(\"holiday\", col(\"holiday\")), on=\"holiday\", how=\"left\") \\\n",
    ".select(\"*\", when(col(\"Type\").isNotNull(), \"1\").otherwise(\"0\").alias(\"holiday_binary\")) \\\n",
    ".drop(\"Type\")"
   ]
  },
  {
   "cell_type": "code",
   "execution_count": 34,
   "id": "judicial-leeds",
   "metadata": {},
   "outputs": [
    {
     "data": {
      "text/plain": [
       "DataFrame[holiday: date, time: date, LCLid: string, energy_median: float, energy_mean: float, max: float, energy_count: int, std: float, energy_sum: float, min: float, stdorToU: string, Acorn: string, Socialeconomic: string, File: string, daily: float, tempMaxTime: timestamp, windDir: int, icon: string, dew: float, tempMinTime: timestamp, cloudCover: float, windSpd: float, pres: float, appTempMinTime: timestamp, appTempHigh: float, precip: string, vis: float, humid: float, appTempHighTime: timestamp, appTempLow: float, appTempMax: float, uv: string, sunset: timestamp, tempLow: float, tempMin: float, tempHigh: float, sunrise: timestamp, tempHighTime: timestamp, uvIndexTime: timestamp, summary: string, tempLowTime: timestamp, appTempMin: float, appTempMaxTime: timestamp, appTempLowTime: timestamp, moonPhase: float, holiday_binary: string]"
      ]
     },
     "execution_count": 34,
     "metadata": {},
     "output_type": "execute_result"
    }
   ],
   "source": [
    "combined_daily_df"
   ]
  },
  {
   "cell_type": "code",
   "execution_count": 35,
   "id": "comic-offense",
   "metadata": {},
   "outputs": [
    {
     "name": "stdout",
     "output_type": "stream",
     "text": [
      "+----------+--------------+\n",
      "|   holiday|holiday_binary|\n",
      "+----------+--------------+\n",
      "|2012-02-01|             1|\n",
      "|2012-04-06|             1|\n",
      "|2012-05-06|             1|\n",
      "|2012-06-04|             1|\n",
      "|2012-07-05|             1|\n",
      "|2012-08-27|             1|\n",
      "|2012-09-04|             1|\n",
      "|2012-12-25|             1|\n",
      "|2012-12-26|             1|\n",
      "|2013-01-01|             1|\n",
      "|2013-01-04|             1|\n",
      "|2013-03-29|             1|\n",
      "|2013-05-27|             1|\n",
      "|2013-06-05|             1|\n",
      "|2013-08-26|             1|\n",
      "|2013-12-25|             1|\n",
      "|2013-12-26|             1|\n",
      "|2014-01-01|             1|\n",
      "|2012-02-01|             1|\n",
      "|2012-04-06|             1|\n",
      "+----------+--------------+\n",
      "only showing top 20 rows\n",
      "\n"
     ]
    }
   ],
   "source": [
    "combined_daily_df.select(\"holiday\", \"holiday_binary\").filter(col(\"holiday_binary\") ==1).show(20)"
   ]
  },
  {
   "cell_type": "code",
   "execution_count": 36,
   "id": "foster-guarantee",
   "metadata": {},
   "outputs": [
    {
     "name": "stdout",
     "output_type": "stream",
     "text": [
      "root\n",
      " |-- holiday: date (nullable = true)\n",
      " |-- time: date (nullable = true)\n",
      " |-- LCLid: string (nullable = true)\n",
      " |-- energy_median: float (nullable = true)\n",
      " |-- energy_mean: float (nullable = true)\n",
      " |-- max: float (nullable = true)\n",
      " |-- energy_count: integer (nullable = true)\n",
      " |-- std: float (nullable = true)\n",
      " |-- energy_sum: float (nullable = true)\n",
      " |-- min: float (nullable = true)\n",
      " |-- stdorToU: string (nullable = true)\n",
      " |-- Acorn: string (nullable = true)\n",
      " |-- Socialeconomic: string (nullable = true)\n",
      " |-- File: string (nullable = true)\n",
      " |-- daily: float (nullable = true)\n",
      " |-- tempMaxTime: timestamp (nullable = true)\n",
      " |-- windDir: integer (nullable = true)\n",
      " |-- icon: string (nullable = true)\n",
      " |-- dew: float (nullable = true)\n",
      " |-- tempMinTime: timestamp (nullable = true)\n",
      " |-- cloudCover: float (nullable = true)\n",
      " |-- windSpd: float (nullable = true)\n",
      " |-- pres: float (nullable = true)\n",
      " |-- appTempMinTime: timestamp (nullable = true)\n",
      " |-- appTempHigh: float (nullable = true)\n",
      " |-- precip: string (nullable = true)\n",
      " |-- vis: float (nullable = true)\n",
      " |-- humid: float (nullable = true)\n",
      " |-- appTempHighTime: timestamp (nullable = true)\n",
      " |-- appTempLow: float (nullable = true)\n",
      " |-- appTempMax: float (nullable = true)\n",
      " |-- uv: string (nullable = true)\n",
      " |-- sunset: timestamp (nullable = true)\n",
      " |-- tempLow: float (nullable = true)\n",
      " |-- tempMin: float (nullable = true)\n",
      " |-- tempHigh: float (nullable = true)\n",
      " |-- sunrise: timestamp (nullable = true)\n",
      " |-- tempHighTime: timestamp (nullable = true)\n",
      " |-- uvIndexTime: timestamp (nullable = true)\n",
      " |-- summary: string (nullable = true)\n",
      " |-- tempLowTime: timestamp (nullable = true)\n",
      " |-- appTempMin: float (nullable = true)\n",
      " |-- appTempMaxTime: timestamp (nullable = true)\n",
      " |-- appTempLowTime: timestamp (nullable = true)\n",
      " |-- moonPhase: float (nullable = true)\n",
      " |-- holiday_binary: string (nullable = false)\n",
      "\n"
     ]
    }
   ],
   "source": [
    "combined_daily_df.printSchema()"
   ]
  },
  {
   "cell_type": "code",
   "execution_count": 37,
   "id": "boring-guest",
   "metadata": {},
   "outputs": [],
   "source": [
    "# citing https://stackoverflow.com/questions/25006607/how-to-get-day-of-week-in-sparksql for reference\n",
    "\n",
    "# combined_daily_df = combined_daily_df.select(\"time\", \"energy_mean\")\n",
    "combined_daily_df = combined_daily_df.withColumn(\"month\", month(col(\"time\")).cast(StringType())) \\\n",
    ".withColumn(\"day\", dayofweek(col(\"time\")).cast(StringType())) \\\n",
    ".withColumn(\"hour\", hour(col(\"time\")).cast(StringType()))\n"
   ]
  },
  {
   "cell_type": "code",
   "execution_count": 38,
   "id": "numerical-virgin",
   "metadata": {},
   "outputs": [
    {
     "name": "stdout",
     "output_type": "stream",
     "text": [
      "root\n",
      " |-- holiday: date (nullable = true)\n",
      " |-- time: date (nullable = true)\n",
      " |-- LCLid: string (nullable = true)\n",
      " |-- energy_median: float (nullable = true)\n",
      " |-- energy_mean: float (nullable = true)\n",
      " |-- max: float (nullable = true)\n",
      " |-- energy_count: integer (nullable = true)\n",
      " |-- std: float (nullable = true)\n",
      " |-- energy_sum: float (nullable = true)\n",
      " |-- min: float (nullable = true)\n",
      " |-- stdorToU: string (nullable = true)\n",
      " |-- Acorn: string (nullable = true)\n",
      " |-- Socialeconomic: string (nullable = true)\n",
      " |-- File: string (nullable = true)\n",
      " |-- daily: float (nullable = true)\n",
      " |-- tempMaxTime: timestamp (nullable = true)\n",
      " |-- windDir: integer (nullable = true)\n",
      " |-- icon: string (nullable = true)\n",
      " |-- dew: float (nullable = true)\n",
      " |-- tempMinTime: timestamp (nullable = true)\n",
      " |-- cloudCover: float (nullable = true)\n",
      " |-- windSpd: float (nullable = true)\n",
      " |-- pres: float (nullable = true)\n",
      " |-- appTempMinTime: timestamp (nullable = true)\n",
      " |-- appTempHigh: float (nullable = true)\n",
      " |-- precip: string (nullable = true)\n",
      " |-- vis: float (nullable = true)\n",
      " |-- humid: float (nullable = true)\n",
      " |-- appTempHighTime: timestamp (nullable = true)\n",
      " |-- appTempLow: float (nullable = true)\n",
      " |-- appTempMax: float (nullable = true)\n",
      " |-- uv: string (nullable = true)\n",
      " |-- sunset: timestamp (nullable = true)\n",
      " |-- tempLow: float (nullable = true)\n",
      " |-- tempMin: float (nullable = true)\n",
      " |-- tempHigh: float (nullable = true)\n",
      " |-- sunrise: timestamp (nullable = true)\n",
      " |-- tempHighTime: timestamp (nullable = true)\n",
      " |-- uvIndexTime: timestamp (nullable = true)\n",
      " |-- summary: string (nullable = true)\n",
      " |-- tempLowTime: timestamp (nullable = true)\n",
      " |-- appTempMin: float (nullable = true)\n",
      " |-- appTempMaxTime: timestamp (nullable = true)\n",
      " |-- appTempLowTime: timestamp (nullable = true)\n",
      " |-- moonPhase: float (nullable = true)\n",
      " |-- holiday_binary: string (nullable = false)\n",
      " |-- month: string (nullable = true)\n",
      " |-- day: string (nullable = true)\n",
      " |-- hour: string (nullable = true)\n",
      "\n"
     ]
    }
   ],
   "source": [
    "combined_daily_df.printSchema()"
   ]
  },
  {
   "cell_type": "code",
   "execution_count": 39,
   "id": "hungry-inspector",
   "metadata": {},
   "outputs": [
    {
     "name": "stdout",
     "output_type": "stream",
     "text": [
      "+----------+----------+---------+-------------+-----------+-----+------------+----------+----------+-----+--------+-------+--------------+--------+-----+-------------------+-------+-----------------+-----+-------------------+----------+-------+-------+-------------------+-----------+------+-----+-----+-------------------+----------+----------+---+-------------------+-------+-------+--------+-------------------+-------------------+-------------------+--------------------+-------------------+----------+-------------------+-------------------+---------+--------------+-----+---+----+\n",
      "|   holiday|      time|    LCLid|energy_median|energy_mean|  max|energy_count|       std|energy_sum|  min|stdorToU|  Acorn|Socialeconomic|    File|daily|        tempMaxTime|windDir|             icon|  dew|        tempMinTime|cloudCover|windSpd|   pres|     appTempMinTime|appTempHigh|precip|  vis|humid|    appTempHighTime|appTempLow|appTempMax| uv|             sunset|tempLow|tempMin|tempHigh|            sunrise|       tempHighTime|        uvIndexTime|             summary|        tempLowTime|appTempMin|     appTempMaxTime|     appTempLowTime|moonPhase|holiday_binary|month|day|hour|\n",
      "+----------+----------+---------+-------------+-----------+-----+------------+----------+----------+-----+--------+-------+--------------+--------+-----+-------------------+-------+-----------------+-----+-------------------+----------+-------+-------+-------------------+-----------+------+-----+-----+-------------------+----------+----------+---+-------------------+-------+-------+--------+-------------------+-------------------+-------------------+--------------------+-------------------+----------+-------------------+-------------------+---------+--------------+-----+---+----+\n",
      "|2011-12-08|2011-12-08|MAC000048|        0.107| 0.15921739|0.576|          23|0.11802117|     3.662|0.087|     ToU|ACORN-E|      Affluent|block_20|12.89|2011-12-08 18:00:00|    234|             wind| 5.96|2011-12-08 02:00:00|      0.53|   7.01|1010.84|2011-12-08 00:00:00|      12.89|  rain|12.59| 0.81|2011-12-08 18:00:00|     -0.37|     12.89|1.0|2011-12-08 15:53:32|   3.76|   4.27|   12.89|2011-12-08 07:53:46|2011-12-08 18:00:00|2011-12-08 12:00:00|Breezy and mostly...|2011-12-09 08:00:00|      0.63|2011-12-08 18:00:00|2011-12-09 05:00:00|     0.43|             0|   12|  5|   0|\n",
      "|2011-12-09|2011-12-09|MAC000048|        0.092|    0.12575| 0.57|          48|0.08927664|     6.036|0.087|     ToU|ACORN-E|      Affluent|block_20| 7.68|2011-12-09 13:00:00|    255|partly-cloudy-day| 0.41|2011-12-09 23:00:00|      0.15|   5.65| 1010.6|2011-12-09 23:00:00|       3.99|  rain|12.83| 0.71|2011-12-09 13:00:00|     -3.42|      3.99|1.0|2011-12-09 15:53:16|  -0.13|   2.03|    7.68|2011-12-09 07:54:54|2011-12-09 13:00:00|2011-12-09 10:00:00|Partly cloudy sta...|2011-12-10 07:00:00|     -1.42|2011-12-09 13:00:00|2011-12-10 07:00:00|     0.46|             0|   12|  6|   0|\n",
      "|2011-12-10|2011-12-10|MAC000048|       0.0925| 0.20964584|1.322|          48|0.28822446|    10.063|0.087|     ToU|ACORN-E|      Affluent|block_20| 6.08|2011-12-10 12:00:00|    247|partly-cloudy-day|-0.34|2011-12-10 07:00:00|      0.17|   3.08|1015.58|2011-12-10 07:00:00|       3.14|  rain|12.83| 0.81|2011-12-10 12:00:00|      0.11|      3.14|1.0|2011-12-10 15:53:03|   2.48|  -0.13|    6.08|2011-12-10 07:55:59|2011-12-10 12:00:00|2011-12-10 11:00:00|Partly cloudy unt...|2011-12-11 01:00:00|     -3.42|2011-12-10 12:00:00|2011-12-11 02:00:00|     0.49|             0|   12|  7|   0|\n",
      "|2011-12-11|2011-12-11|MAC000048|        0.116| 0.24518749|2.001|          48|0.32513994|    11.769|0.088|     ToU|ACORN-E|      Affluent|block_20| 8.59|2011-12-11 14:00:00|    198|partly-cloudy-day| 4.49|2011-12-11 01:00:00|      0.56|   3.94|1007.71|2011-12-11 02:00:00|       5.62|  rain|12.09| 0.88|2011-12-11 19:00:00|     -0.64|      5.72|1.0|2011-12-11 15:52:53|   3.09|   2.48|    8.59|2011-12-11 07:57:02|2011-12-11 14:00:00|2011-12-11 12:00:00|Partly cloudy thr...|2011-12-12 07:00:00|      0.11|2011-12-11 20:00:00|2011-12-12 08:00:00|     0.53|             0|   12|  1|   0|\n",
      "|2011-12-12|2011-12-12|MAC000048|        0.095|  0.1231875|0.326|          48|0.05794666|     5.913|0.087|     ToU|ACORN-E|      Affluent|block_20| 9.82|2011-12-12 23:00:00|    221|             wind|  4.1|2011-12-12 07:00:00|      0.38|   5.02|1002.47|2011-12-12 08:00:00|       5.18|  rain|12.05| 0.84|2011-12-12 16:00:00|      2.71|      5.94|1.0|2011-12-12 15:52:47|   6.88|   3.09|    8.53|2011-12-12 07:58:02|2011-12-12 19:00:00|2011-12-12 11:00:00|Partly cloudy thr...|2011-12-13 08:00:00|     -0.64|2011-12-12 23:00:00|2011-12-13 08:00:00|     0.56|             0|   12|  2|   0|\n",
      "+----------+----------+---------+-------------+-----------+-----+------------+----------+----------+-----+--------+-------+--------------+--------+-----+-------------------+-------+-----------------+-----+-------------------+----------+-------+-------+-------------------+-----------+------+-----+-----+-------------------+----------+----------+---+-------------------+-------+-------+--------+-------------------+-------------------+-------------------+--------------------+-------------------+----------+-------------------+-------------------+---------+--------------+-----+---+----+\n",
      "only showing top 5 rows\n",
      "\n"
     ]
    }
   ],
   "source": [
    "combined_daily_df.show(5)"
   ]
  },
  {
   "cell_type": "code",
   "execution_count": 40,
   "id": "healthy-ability",
   "metadata": {},
   "outputs": [
    {
     "name": "stdout",
     "output_type": "stream",
     "text": [
      "+-----+-------------+-----------+---+------------+-----+----------+---+--------+-----+--------------+----+-----+-------+----+---+----------+-------+----+-----------+------+---+-----+----------+----------+----+-------+-------+--------+-------+----------+---------+--------------+-----+---+----+\n",
      "|LCLid|energy_median|energy_mean|max|energy_count|  std|energy_sum|min|stdorToU|Acorn|Socialeconomic|File|daily|windDir|icon|dew|cloudCover|windSpd|pres|appTempHigh|precip|vis|humid|appTempLow|appTempMax|  uv|tempLow|tempMin|tempHigh|summary|appTempMin|moonPhase|holiday_binary|month|day|hour|\n",
      "+-----+-------------+-----------+---+------------+-----+----------+---+--------+-----+--------------+----+-----+-------+----+---+----------+-------+----+-----------+------+---+-----+----------+----------+----+-------+-------+--------+-------+----------+---------+--------------+-----+---+----+\n",
      "|    0|           30|         30| 30|           0|11334|        30| 30|       0|    0|             0|   0|    0|      0|   0|  0|      5099|      0|   0|          0|     0|  0|    0|         0|         0|5099|      0|      0|       0|      0|         0|        0|             0|    0|  0|   0|\n",
      "+-----+-------------+-----------+---+------------+-----+----------+---+--------+-----+--------------+----+-----+-------+----+---+----------+-------+----+-----------+------+---+-----+----------+----------+----+-------+-------+--------+-------+----------+---------+--------------+-----+---+----+\n",
      "\n"
     ]
    }
   ],
   "source": [
    "# check to see if there are any null values\n",
    "daily_timestamp_cols_filtered = [c for c, t in combined_daily_df.dtypes if t != 'date' and t != 'timestamp']\n",
    "\n",
    "daily_data_nullcheck = combined_daily_df.select(*daily_timestamp_cols_filtered) \n",
    "\n",
    "daily_data_nullcheck.select([count(when(isnan(c) | col(c).isNull() | (col(c) == \"NA\") | (col(c) == \"NULL\"),c)) \\\n",
    "        .alias(c) for c in daily_data_nullcheck.columns]).show()"
   ]
  },
  {
   "cell_type": "code",
   "execution_count": 41,
   "id": "protective-protest",
   "metadata": {},
   "outputs": [],
   "source": [
    "# remove all rows which have null values\n",
    "\n",
    "combined_daily_df = combined_daily_df.na.drop()"
   ]
  },
  {
   "cell_type": "code",
   "execution_count": 42,
   "id": "approximate-witch",
   "metadata": {},
   "outputs": [
    {
     "name": "stdout",
     "output_type": "stream",
     "text": [
      "+-----+-------------+-----------+---+------------+---+----------+---+--------+-----+--------------+----+-----+-------+----+---+----------+-------+----+-----------+------+---+-----+----------+----------+---+-------+-------+--------+-------+----------+---------+--------------+-----+---+----+\n",
      "|LCLid|energy_median|energy_mean|max|energy_count|std|energy_sum|min|stdorToU|Acorn|Socialeconomic|File|daily|windDir|icon|dew|cloudCover|windSpd|pres|appTempHigh|precip|vis|humid|appTempLow|appTempMax| uv|tempLow|tempMin|tempHigh|summary|appTempMin|moonPhase|holiday_binary|month|day|hour|\n",
      "+-----+-------------+-----------+---+------------+---+----------+---+--------+-----+--------------+----+-----+-------+----+---+----------+-------+----+-----------+------+---+-----+----------+----------+---+-------+-------+--------+-------+----------+---------+--------------+-----+---+----+\n",
      "|    0|            0|          0|  0|           0|  0|         0|  0|       0|    0|             0|   0|    0|      0|   0|  0|         0|      0|   0|          0|     0|  0|    0|         0|         0|  0|      0|      0|       0|      0|         0|        0|             0|    0|  0|   0|\n",
      "+-----+-------------+-----------+---+------------+---+----------+---+--------+-----+--------------+----+-----+-------+----+---+----------+-------+----+-----------+------+---+-----+----------+----------+---+-------+-------+--------+-------+----------+---------+--------------+-----+---+----+\n",
      "\n"
     ]
    }
   ],
   "source": [
    "daily_data_nullcheck = combined_daily_df.select(*daily_timestamp_cols_filtered) \n",
    "\n",
    "daily_data_nullcheck.select([count(when(isnan(c) | col(c).isNull() | (col(c) == \"NA\") | (col(c) == \"NULL\"),c)) \\\n",
    "        .alias(c) for c in daily_data_nullcheck.columns]).show()"
   ]
  },
  {
   "cell_type": "code",
   "execution_count": 43,
   "id": "departmental-authority",
   "metadata": {},
   "outputs": [
    {
     "name": "stdout",
     "output_type": "stream",
     "text": [
      "+-----------+------+\n",
      "|partitionId| count|\n",
      "+-----------+------+\n",
      "|          0|445113|\n",
      "|          1|461843|\n",
      "|          2|452343|\n",
      "|          3|445403|\n",
      "|          4|439504|\n",
      "|          5|426784|\n",
      "|          6|413649|\n",
      "|          7|405251|\n",
      "+-----------+------+\n",
      "\n"
     ]
    }
   ],
   "source": [
    "combined_daily_df \\\n",
    "    .withColumn(\"partitionId\", spark_partition_id())\\\n",
    "    .groupBy(\"partitionId\")\\\n",
    "    .count()\\\n",
    "    .orderBy(asc(\"partitionID\"))\\\n",
    "    .show()"
   ]
  },
  {
   "cell_type": "markdown",
   "id": "detected-rehabilitation",
   "metadata": {},
   "source": [
    "### Join Tables for Hourly Data"
   ]
  },
  {
   "cell_type": "code",
   "execution_count": 44,
   "id": "conservative-weekly",
   "metadata": {},
   "outputs": [],
   "source": [
    "joinType = \"inner\"\n",
    "joinExpression = [\"LCLid\"] \n",
    "\n",
    "meter_household_hourly_df = meter_hourly_df.join(household_df, joinExpression, joinType) "
   ]
  },
  {
   "cell_type": "code",
   "execution_count": 45,
   "id": "sporting-azerbaijan",
   "metadata": {},
   "outputs": [
    {
     "name": "stdout",
     "output_type": "stream",
     "text": [
      "root\n",
      " |-- LCLid: string (nullable = true)\n",
      " |-- time: timestamp (nullable = true)\n",
      " |-- energy: float (nullable = true)\n",
      " |-- stdorToU: string (nullable = true)\n",
      " |-- Acorn: string (nullable = true)\n",
      " |-- Socialeconomic: string (nullable = true)\n",
      " |-- File: string (nullable = true)\n",
      "\n",
      "+---------+-------------------+------+--------+-------+--------------+-------+\n",
      "|    LCLid|               time|energy|stdorToU|  Acorn|Socialeconomic|   File|\n",
      "+---------+-------------------+------+--------+-------+--------------+-------+\n",
      "|MAC003597|2012-10-10 12:30:00| 0.535|     Std|ACORN-A|      Affluent|block_0|\n",
      "|MAC003597|2012-10-10 13:00:00| 0.436|     Std|ACORN-A|      Affluent|block_0|\n",
      "|MAC003597|2012-10-10 13:30:00| 0.513|     Std|ACORN-A|      Affluent|block_0|\n",
      "|MAC003597|2012-10-10 14:00:00| 0.609|     Std|ACORN-A|      Affluent|block_0|\n",
      "|MAC003597|2012-10-10 14:30:00| 0.961|     Std|ACORN-A|      Affluent|block_0|\n",
      "+---------+-------------------+------+--------+-------+--------------+-------+\n",
      "only showing top 5 rows\n",
      "\n"
     ]
    }
   ],
   "source": [
    "meter_household_hourly_df.printSchema()\n",
    "meter_household_hourly_df.show(5)"
   ]
  },
  {
   "cell_type": "code",
   "execution_count": 46,
   "id": "awful-indonesia",
   "metadata": {},
   "outputs": [],
   "source": [
    "joinType = \"inner\"\n",
    "joinExpression = [\"time\"]\n",
    "\n",
    "met_hou_wea_hourly_df = meter_household_hourly_df.join(weather_hourly_df, joinExpression, joinType)"
   ]
  },
  {
   "cell_type": "code",
   "execution_count": 47,
   "id": "polyphonic-orlando",
   "metadata": {},
   "outputs": [],
   "source": [
    "# add date column for holiday join\n",
    "\n",
    "met_hou_wea_hourly_df = met_hou_wea_hourly_df.withColumn(\"date\", to_date(col(\"time\")))"
   ]
  },
  {
   "cell_type": "code",
   "execution_count": 48,
   "id": "saving-metabolism",
   "metadata": {},
   "outputs": [
    {
     "name": "stdout",
     "output_type": "stream",
     "text": [
      "root\n",
      " |-- time: timestamp (nullable = true)\n",
      " |-- LCLid: string (nullable = true)\n",
      " |-- energy: float (nullable = true)\n",
      " |-- stdorToU: string (nullable = true)\n",
      " |-- Acorn: string (nullable = true)\n",
      " |-- Socialeconomic: string (nullable = true)\n",
      " |-- File: string (nullable = true)\n",
      " |-- vis: float (nullable = true)\n",
      " |-- windDir: integer (nullable = true)\n",
      " |-- temp: float (nullable = true)\n",
      " |-- dew: float (nullable = true)\n",
      " |-- pres: float (nullable = true)\n",
      " |-- apptemp: float (nullable = true)\n",
      " |-- windSpd: float (nullable = true)\n",
      " |-- precip: string (nullable = true)\n",
      " |-- icon: string (nullable = true)\n",
      " |-- humid: float (nullable = true)\n",
      " |-- summary: string (nullable = true)\n",
      " |-- date: date (nullable = true)\n",
      "\n"
     ]
    }
   ],
   "source": [
    "met_hou_wea_hourly_df.printSchema()"
   ]
  },
  {
   "cell_type": "code",
   "execution_count": 49,
   "id": "strange-transcript",
   "metadata": {},
   "outputs": [],
   "source": [
    "# add a binary variable to indicate if the date is a holiday\n",
    "\n",
    "combined_hourly_df = met_hou_wea_hourly_df.withColumn(\"holiday\", col(\"date\")) \\\n",
    ".join(holiday_df.withColumn(\"holiday\", col(\"holiday\")), on=\"holiday\", how=\"left\") \\\n",
    ".select(\"*\", when(col(\"Type\").isNotNull(), \"1\").otherwise(\"0\").alias(\"holiday_binary\")) \\\n",
    ".drop(\"Type\")"
   ]
  },
  {
   "cell_type": "code",
   "execution_count": 50,
   "id": "large-basin",
   "metadata": {},
   "outputs": [
    {
     "name": "stdout",
     "output_type": "stream",
     "text": [
      "+-------------------+--------------+\n",
      "|               time|holiday_binary|\n",
      "+-------------------+--------------+\n",
      "|2012-12-25 00:00:00|             1|\n",
      "|2012-12-25 01:00:00|             1|\n",
      "|2012-12-25 02:00:00|             1|\n",
      "|2012-12-25 03:00:00|             1|\n",
      "|2012-12-25 04:00:00|             1|\n",
      "+-------------------+--------------+\n",
      "only showing top 5 rows\n",
      "\n"
     ]
    }
   ],
   "source": [
    "# check to see that holiday_binary is included\n",
    "combined_hourly_df.select(\"time\", \"holiday_binary\").filter(col(\"holiday_binary\") == 1).show(5)"
   ]
  },
  {
   "cell_type": "code",
   "execution_count": 51,
   "id": "living-ministry",
   "metadata": {},
   "outputs": [],
   "source": [
    "# convert time to month, day, and hour class variables\n",
    "combined_hourly_df = combined_hourly_df.withColumn(\"month\", month(col(\"time\")).cast(StringType())) \\\n",
    ".withColumn(\"day\", dayofweek(col(\"time\")).cast(StringType())) \\\n",
    ".withColumn(\"hour\", hour(col(\"time\")).cast(StringType()))"
   ]
  },
  {
   "cell_type": "code",
   "execution_count": 52,
   "id": "superb-smile",
   "metadata": {},
   "outputs": [
    {
     "name": "stdout",
     "output_type": "stream",
     "text": [
      "root\n",
      " |-- holiday: date (nullable = true)\n",
      " |-- time: timestamp (nullable = true)\n",
      " |-- LCLid: string (nullable = true)\n",
      " |-- energy: float (nullable = true)\n",
      " |-- stdorToU: string (nullable = true)\n",
      " |-- Acorn: string (nullable = true)\n",
      " |-- Socialeconomic: string (nullable = true)\n",
      " |-- File: string (nullable = true)\n",
      " |-- vis: float (nullable = true)\n",
      " |-- windDir: integer (nullable = true)\n",
      " |-- temp: float (nullable = true)\n",
      " |-- dew: float (nullable = true)\n",
      " |-- pres: float (nullable = true)\n",
      " |-- apptemp: float (nullable = true)\n",
      " |-- windSpd: float (nullable = true)\n",
      " |-- precip: string (nullable = true)\n",
      " |-- icon: string (nullable = true)\n",
      " |-- humid: float (nullable = true)\n",
      " |-- summary: string (nullable = true)\n",
      " |-- date: date (nullable = true)\n",
      " |-- holiday_binary: string (nullable = false)\n",
      " |-- month: string (nullable = true)\n",
      " |-- day: string (nullable = true)\n",
      " |-- hour: string (nullable = true)\n",
      "\n",
      "+----------+-------------------+---------+------+--------+-------+--------------+-------+-----+-------+-----+----+-------+-------+-------+------+-----------------+-----+-------------+----------+--------------+-----+---+----+\n",
      "|   holiday|               time|    LCLid|energy|stdorToU|  Acorn|Socialeconomic|   File|  vis|windDir| temp| dew|   pres|apptemp|windSpd|precip|             icon|humid|      summary|      date|holiday_binary|month|day|hour|\n",
      "+----------+-------------------+---------+------+--------+-------+--------------+-------+-----+-------+-----+----+-------+-------+-------+------+-----------------+-----+-------------+----------+--------------+-----+---+----+\n",
      "|2012-10-10|2012-10-10 13:00:00|MAC003597| 0.436|     Std|ACORN-A|      Affluent|block_0|13.52|    102|14.13|6.03|1015.34|  14.13|   2.67|  rain|partly-cloudy-day| 0.58|Partly Cloudy|2012-10-10|             0|   10|  4|  13|\n",
      "|2012-10-10|2012-10-10 14:00:00|MAC003597| 0.609|     Std|ACORN-A|      Affluent|block_0|13.52|    108|14.12|6.72|1014.93|  14.12|   2.63|  rain|partly-cloudy-day| 0.61|Mostly Cloudy|2012-10-10|             0|   10|  4|  14|\n",
      "|2012-10-10|2012-10-10 15:00:00|MAC003597| 0.724|     Std|ACORN-A|      Affluent|block_0|13.07|    105|13.63|7.43|1014.42|  13.63|   2.89|  rain|partly-cloudy-day| 0.66|Mostly Cloudy|2012-10-10|             0|   10|  4|  15|\n",
      "|2012-10-10|2012-10-10 16:00:00|MAC003597| 0.828|     Std|ACORN-A|      Affluent|block_0|13.47|    108|13.47|7.05|1014.12|  13.47|   3.39|  rain|partly-cloudy-day| 0.65|Mostly Cloudy|2012-10-10|             0|   10|  4|  16|\n",
      "|2012-10-10|2012-10-10 17:00:00|MAC003597| 1.295|     Std|ACORN-A|      Affluent|block_0|13.44|    116|12.76|6.63|1014.01|  12.76|   2.91|  rain|partly-cloudy-day| 0.66|Mostly Cloudy|2012-10-10|             0|   10|  4|  17|\n",
      "+----------+-------------------+---------+------+--------+-------+--------------+-------+-----+-------+-----+----+-------+-------+-------+------+-----------------+-----+-------------+----------+--------------+-----+---+----+\n",
      "only showing top 5 rows\n",
      "\n"
     ]
    }
   ],
   "source": [
    "combined_hourly_df.printSchema()\n",
    "combined_hourly_df.show(5)"
   ]
  },
  {
   "cell_type": "code",
   "execution_count": 53,
   "id": "closed-growth",
   "metadata": {},
   "outputs": [
    {
     "name": "stdout",
     "output_type": "stream",
     "text": [
      "+-----+------+--------+-----+--------------+----+---+-------+----+---+----+-------+-------+------+----+-----+-------+--------------+-----+---+----+\n",
      "|LCLid|energy|stdorToU|Acorn|Socialeconomic|File|vis|windDir|temp|dew|pres|apptemp|windSpd|precip|icon|humid|summary|holiday_binary|month|day|hour|\n",
      "+-----+------+--------+-----+--------------+----+---+-------+----+---+----+-------+-------+------+----+-----+-------+--------------+-----+---+----+\n",
      "|    0|     0|       0|    0|             0|   0|  0|      0|   0|  0|  10|      0|      0|     0|   0|    0|      0|             0|    0|  0|   0|\n",
      "+-----+------+--------+-----+--------------+----+---+-------+----+---+----+-------+-------+------+----+-----+-------+--------------+-----+---+----+\n",
      "\n"
     ]
    }
   ],
   "source": [
    "# check to see if there are any null values\n",
    "hourly_timestamp_cols_filtered = [c for c, t in combined_hourly_df.dtypes if t not in ['timestamp','date']]\n",
    "\n",
    "hourly_data_nullcheck = combined_hourly_df.select(*hourly_timestamp_cols_filtered) \n",
    "\n",
    "hourly_data_nullcheck.select([count(when(isnan(c) | col(c).isNull() | (col(c) == \"NA\") | (col(c) == \"NULL\"),c)) \\\n",
    "        .alias(c) for c in hourly_data_nullcheck.columns]).show()"
   ]
  },
  {
   "cell_type": "code",
   "execution_count": 54,
   "id": "pending-investment",
   "metadata": {},
   "outputs": [],
   "source": [
    "# remove all rows which have null values\n",
    "\n",
    "# combined_hourly_df = combined_hourly_df.na.drop()"
   ]
  },
  {
   "cell_type": "code",
   "execution_count": 55,
   "id": "concrete-testament",
   "metadata": {},
   "outputs": [
    {
     "name": "stdout",
     "output_type": "stream",
     "text": [
      "+-----+------+--------+-----+--------------+----+---+-------+----+---+----+-------+-------+------+----+-----+-------+--------------+-----+---+----+\n",
      "|LCLid|energy|stdorToU|Acorn|Socialeconomic|File|vis|windDir|temp|dew|pres|apptemp|windSpd|precip|icon|humid|summary|holiday_binary|month|day|hour|\n",
      "+-----+------+--------+-----+--------------+----+---+-------+----+---+----+-------+-------+------+----+-----+-------+--------------+-----+---+----+\n",
      "|    0|     0|       0|    0|             0|   0|  0|      0|   0|  0|  10|      0|      0|     0|   0|    0|      0|             0|    0|  0|   0|\n",
      "+-----+------+--------+-----+--------------+----+---+-------+----+---+----+-------+-------+------+----+-----+-------+--------------+-----+---+----+\n",
      "\n"
     ]
    }
   ],
   "source": [
    "hourly_data_nullcheck = combined_hourly_df.select(*hourly_timestamp_cols_filtered) \n",
    "\n",
    "hourly_data_nullcheck.select([count(when(isnan(c) | col(c).isNull() | (col(c) == \"NA\") | (col(c) == \"NULL\"),c)) \\\n",
    "        .alias(c) for c in hourly_data_nullcheck.columns]).show()"
   ]
  },
  {
   "cell_type": "code",
   "execution_count": 56,
   "id": "collective-counter",
   "metadata": {},
   "outputs": [
    {
     "name": "stdout",
     "output_type": "stream",
     "text": [
      "+-----------+-----+\n",
      "|partitionId|count|\n",
      "+-----------+-----+\n",
      "|          3|12106|\n",
      "+-----------+-----+\n",
      "\n"
     ]
    }
   ],
   "source": [
    "# check to see how datapoints are partitioned\n",
    "combined_hourly_df \\\n",
    "    .withColumn(\"partitionId\", spark_partition_id())\\\n",
    "    .groupBy(\"partitionId\")\\\n",
    "    .count()\\\n",
    "    .orderBy(asc(\"partitionID\"))\\\n",
    "    .show()"
   ]
  },
  {
   "cell_type": "markdown",
   "id": "temporal-arrival",
   "metadata": {},
   "source": [
    "# Explore Data"
   ]
  },
  {
   "cell_type": "markdown",
   "id": "sorted-alliance",
   "metadata": {},
   "source": [
    "### Meters"
   ]
  },
  {
   "cell_type": "code",
   "execution_count": 57,
   "id": "spread-medicare",
   "metadata": {},
   "outputs": [
    {
     "name": "stdout",
     "output_type": "stream",
     "text": [
      "+---------------------+\n",
      "|count(DISTINCT LCLid)|\n",
      "+---------------------+\n",
      "|                 5561|\n",
      "+---------------------+\n",
      "\n"
     ]
    }
   ],
   "source": [
    "# count unique meters in the database\n",
    "\n",
    "combined_daily_df.select(countDistinct(\"LCLid\")).show()"
   ]
  },
  {
   "cell_type": "markdown",
   "id": "bridal-whole",
   "metadata": {},
   "source": [
    "There are 5561 distinct meters (\"LCLid\") in this database "
   ]
  },
  {
   "cell_type": "markdown",
   "id": "particular-investor",
   "metadata": {},
   "source": [
    "### Energy Usage"
   ]
  },
  {
   "cell_type": "markdown",
   "id": "conventional-merchant",
   "metadata": {},
   "source": [
    "####  Daily Energy Consumption"
   ]
  },
  {
   "cell_type": "code",
   "execution_count": 58,
   "id": "silent-pennsylvania",
   "metadata": {},
   "outputs": [
    {
     "name": "stdout",
     "output_type": "stream",
     "text": [
      "+----------------+\n",
      "|Energy Cons. < 0|\n",
      "+----------------+\n",
      "|               0|\n",
      "+----------------+\n",
      "\n",
      "+-----------------+\n",
      "|Energy Cons. == 0|\n",
      "+-----------------+\n",
      "|            14926|\n",
      "+-----------------+\n",
      "\n",
      "+----------------+\n",
      "|Energy Cons. > 0|\n",
      "+----------------+\n",
      "|         3474964|\n",
      "+----------------+\n",
      "\n"
     ]
    }
   ],
   "source": [
    "# count how many observations have no consumption\n",
    "\n",
    "combined_daily_df.select(count(when(col(\"energy_sum\") < 0, 1)).alias(\"Energy Cons. < 0\")).show()\n",
    "combined_daily_df.select(count(when(col(\"energy_sum\") == 0, 1)).alias(\"Energy Cons. == 0\")).show()\n",
    "combined_daily_df.select(count(when(col(\"energy_sum\") > 0, 1)).alias(\"Energy Cons. > 0\")).show()"
   ]
  },
  {
   "cell_type": "code",
   "execution_count": 59,
   "id": "choice-header",
   "metadata": {},
   "outputs": [
    {
     "name": "stdout",
     "output_type": "stream",
     "text": [
      "+-----------------+\n",
      "|Energy Cons. == 0|\n",
      "+-----------------+\n",
      "|                0|\n",
      "+-----------------+\n",
      "\n"
     ]
    }
   ],
   "source": [
    "# remove data points with no daily energy consumption as it could suggest power outage or meter misreading\n",
    "\n",
    "combined_daily_df = combined_daily_df.filter(combined_daily_df.energy_sum > 0)\n",
    "\n",
    "# check to make sure that there are no remaining data points with 0 daily energy consumption.\n",
    "combined_daily_df.select(count(when(col(\"energy_sum\") == 0, 1)).alias(\"Energy Cons. == 0\")).show()"
   ]
  },
  {
   "cell_type": "code",
   "execution_count": 60,
   "id": "congressional-marina",
   "metadata": {},
   "outputs": [
    {
     "data": {
      "text/html": [
       "<div>\n",
       "<style scoped>\n",
       "    .dataframe tbody tr th:only-of-type {\n",
       "        vertical-align: middle;\n",
       "    }\n",
       "\n",
       "    .dataframe tbody tr th {\n",
       "        vertical-align: top;\n",
       "    }\n",
       "\n",
       "    .dataframe thead th {\n",
       "        text-align: right;\n",
       "    }\n",
       "</style>\n",
       "<table border=\"1\" class=\"dataframe\">\n",
       "  <thead>\n",
       "    <tr style=\"text-align: right;\">\n",
       "      <th></th>\n",
       "      <th>energy_mean</th>\n",
       "      <th>min</th>\n",
       "      <th>max</th>\n",
       "      <th>energy_sum</th>\n",
       "    </tr>\n",
       "    <tr>\n",
       "      <th>time</th>\n",
       "      <th></th>\n",
       "      <th></th>\n",
       "      <th></th>\n",
       "      <th></th>\n",
       "    </tr>\n",
       "  </thead>\n",
       "  <tbody>\n",
       "    <tr>\n",
       "      <th>2011-12-08</th>\n",
       "      <td>0.159217</td>\n",
       "      <td>0.087</td>\n",
       "      <td>0.576</td>\n",
       "      <td>3.662</td>\n",
       "    </tr>\n",
       "    <tr>\n",
       "      <th>2011-12-09</th>\n",
       "      <td>0.125750</td>\n",
       "      <td>0.087</td>\n",
       "      <td>0.570</td>\n",
       "      <td>6.036</td>\n",
       "    </tr>\n",
       "    <tr>\n",
       "      <th>2011-12-10</th>\n",
       "      <td>0.209646</td>\n",
       "      <td>0.087</td>\n",
       "      <td>1.322</td>\n",
       "      <td>10.063</td>\n",
       "    </tr>\n",
       "    <tr>\n",
       "      <th>2011-12-11</th>\n",
       "      <td>0.245187</td>\n",
       "      <td>0.088</td>\n",
       "      <td>2.001</td>\n",
       "      <td>11.769</td>\n",
       "    </tr>\n",
       "    <tr>\n",
       "      <th>2011-12-12</th>\n",
       "      <td>0.123187</td>\n",
       "      <td>0.087</td>\n",
       "      <td>0.326</td>\n",
       "      <td>5.913</td>\n",
       "    </tr>\n",
       "    <tr>\n",
       "      <th>...</th>\n",
       "      <td>...</td>\n",
       "      <td>...</td>\n",
       "      <td>...</td>\n",
       "      <td>...</td>\n",
       "    </tr>\n",
       "    <tr>\n",
       "      <th>2014-02-23</th>\n",
       "      <td>0.014229</td>\n",
       "      <td>0.000</td>\n",
       "      <td>0.047</td>\n",
       "      <td>0.683</td>\n",
       "    </tr>\n",
       "    <tr>\n",
       "      <th>2014-02-24</th>\n",
       "      <td>0.053896</td>\n",
       "      <td>0.000</td>\n",
       "      <td>0.722</td>\n",
       "      <td>2.587</td>\n",
       "    </tr>\n",
       "    <tr>\n",
       "      <th>2014-02-25</th>\n",
       "      <td>0.015000</td>\n",
       "      <td>0.000</td>\n",
       "      <td>0.051</td>\n",
       "      <td>0.720</td>\n",
       "    </tr>\n",
       "    <tr>\n",
       "      <th>2014-02-26</th>\n",
       "      <td>0.021896</td>\n",
       "      <td>0.000</td>\n",
       "      <td>0.152</td>\n",
       "      <td>1.051</td>\n",
       "    </tr>\n",
       "    <tr>\n",
       "      <th>2014-02-27</th>\n",
       "      <td>0.015333</td>\n",
       "      <td>0.000</td>\n",
       "      <td>0.092</td>\n",
       "      <td>0.736</td>\n",
       "    </tr>\n",
       "  </tbody>\n",
       "</table>\n",
       "<p>3474964 rows × 4 columns</p>\n",
       "</div>"
      ],
      "text/plain": [
       "            energy_mean    min    max  energy_sum\n",
       "time                                             \n",
       "2011-12-08     0.159217  0.087  0.576       3.662\n",
       "2011-12-09     0.125750  0.087  0.570       6.036\n",
       "2011-12-10     0.209646  0.087  1.322      10.063\n",
       "2011-12-11     0.245187  0.088  2.001      11.769\n",
       "2011-12-12     0.123187  0.087  0.326       5.913\n",
       "...                 ...    ...    ...         ...\n",
       "2014-02-23     0.014229  0.000  0.047       0.683\n",
       "2014-02-24     0.053896  0.000  0.722       2.587\n",
       "2014-02-25     0.015000  0.000  0.051       0.720\n",
       "2014-02-26     0.021896  0.000  0.152       1.051\n",
       "2014-02-27     0.015333  0.000  0.092       0.736\n",
       "\n",
       "[3474964 rows x 4 columns]"
      ]
     },
     "execution_count": 60,
     "metadata": {},
     "output_type": "execute_result"
    }
   ],
   "source": [
    "# convert Spark DataFrame to Pandas dataframe for plotting\n",
    "\n",
    "energy_daily = combined_daily_df.select(\"time\",\"energy_mean\",\"min\",\"max\", \"energy_sum\").toPandas()\n",
    "energy_daily.set_index(\"time\")"
   ]
  },
  {
   "cell_type": "code",
   "execution_count": 61,
   "id": "identical-hearts",
   "metadata": {},
   "outputs": [
    {
     "data": {
      "text/plain": [
       "[Row(holiday=datetime.date(2012, 12, 26)),\n",
       " Row(holiday=datetime.date(2012, 12, 25)),\n",
       " Row(holiday=datetime.date(2012, 8, 27)),\n",
       " Row(holiday=datetime.date(2012, 5, 6)),\n",
       " Row(holiday=datetime.date(2012, 4, 6)),\n",
       " Row(holiday=datetime.date(2012, 7, 5)),\n",
       " Row(holiday=datetime.date(2012, 9, 4)),\n",
       " Row(holiday=datetime.date(2012, 6, 4)),\n",
       " Row(holiday=datetime.date(2012, 2, 1)),\n",
       " Row(holiday=datetime.date(2013, 12, 26)),\n",
       " Row(holiday=datetime.date(2013, 12, 25)),\n",
       " Row(holiday=datetime.date(2013, 8, 26)),\n",
       " Row(holiday=datetime.date(2013, 5, 27)),\n",
       " Row(holiday=datetime.date(2013, 6, 5)),\n",
       " Row(holiday=datetime.date(2013, 1, 4)),\n",
       " Row(holiday=datetime.date(2013, 3, 29)),\n",
       " Row(holiday=datetime.date(2013, 1, 1)),\n",
       " Row(holiday=datetime.date(2014, 1, 1))]"
      ]
     },
     "execution_count": 61,
     "metadata": {},
     "output_type": "execute_result"
    }
   ],
   "source": [
    "# saving holiday dates as a list for plotting\n",
    "\n",
    "holiday_daily_list = holiday_df.select(\"holiday\").filter(col(\"holiday\") < \"2014-04-01\").collect()\n",
    "holiday_daily_list"
   ]
  },
  {
   "cell_type": "code",
   "execution_count": 62,
   "id": "patent-indication",
   "metadata": {},
   "outputs": [
    {
     "data": {
      "image/png": "[encoded data removed]",
      "text/plain": [
       "<Figure size 864x432 with 1 Axes>"
      ]
     },
     "metadata": {
      "needs_background": "light"
     },
     "output_type": "display_data"
    }
   ],
   "source": [
    "plt.figure(figsize=(12,6))\n",
    "plt.scatter(energy_daily[\"time\"], energy_daily[\"energy_sum\"], label=\"Energy Consumption (kWh)\")\n",
    "plt.xlabel(\"Date\")\n",
    "plt.ylabel(\"Daily Energy Consumption (kWh)\")\n",
    "plt.title(\"Daily Energy Consumption\")\n",
    "\n",
    "for h in holiday_daily_list:\n",
    "    plt.axvline(x=h, color='red')\n",
    "\n",
    "# red vertical lines indicate holiday\n",
    "plt.show()"
   ]
  },
  {
   "cell_type": "code",
   "execution_count": 63,
   "id": "characteristic-decrease",
   "metadata": {},
   "outputs": [
    {
     "name": "stdout",
     "output_type": "stream",
     "text": [
      "+------------------+\n",
      "|   avg(energy_sum)|\n",
      "+------------------+\n",
      "|10.196621989162944|\n",
      "+------------------+\n",
      "\n"
     ]
    }
   ],
   "source": [
    "combined_daily_df.select(avg(col(\"energy_sum\"))).show()"
   ]
  },
  {
   "cell_type": "markdown",
   "id": "worst-ensemble",
   "metadata": {},
   "source": [
    "#### Energy Consumption during Holidays"
   ]
  },
  {
   "cell_type": "markdown",
   "id": "stupid-blend",
   "metadata": {},
   "source": [
    "- Determine if there is a substantial increase in daily energy consumption during holidays."
   ]
  },
  {
   "cell_type": "code",
   "execution_count": 64,
   "id": "narrow-yeast",
   "metadata": {},
   "outputs": [
    {
     "name": "stdout",
     "output_type": "stream",
     "text": [
      "+--------------+------------------+\n",
      "|holiday_binary|   avg(energy_sum)|\n",
      "+--------------+------------------+\n",
      "|             0|10.193354887379332|\n",
      "|             1|10.344535523929787|\n",
      "+--------------+------------------+\n",
      "\n"
     ]
    }
   ],
   "source": [
    "combined_daily_df.groupBy(\"holiday_binary\").avg(\"energy_sum\").show()"
   ]
  },
  {
   "cell_type": "markdown",
   "id": "intense-timer",
   "metadata": {},
   "source": [
    "#### Energy Consumption by Month"
   ]
  },
  {
   "cell_type": "code",
   "execution_count": 65,
   "id": "three-sequence",
   "metadata": {},
   "outputs": [
    {
     "name": "stdout",
     "output_type": "stream",
     "text": [
      "+-----+------------------+\n",
      "|month|   avg(energy_sum)|\n",
      "+-----+------------------+\n",
      "|    1|12.225895523498771|\n",
      "|    2|11.979783815832832|\n",
      "|    3|11.980184900553276|\n",
      "|    4|10.177194527437317|\n",
      "|    5|  8.93750052716588|\n",
      "|    6| 8.485935665211828|\n",
      "|    7| 8.193056358522034|\n",
      "|    8| 8.020269908585043|\n",
      "|    9| 8.810358599990609|\n",
      "|   10| 9.829997531978144|\n",
      "|   11|11.312896468686013|\n",
      "|   12|12.173938351206736|\n",
      "+-----+------------------+\n",
      "\n"
     ]
    }
   ],
   "source": [
    "energy_month = combined_daily_df.groupBy(\"month\").avg(\"energy_sum\").orderBy(col(\"month\").cast(IntegerType()))\n",
    "energy_month.show()\n",
    "\n",
    "energy_month_pd = energy_month.toPandas()"
   ]
  },
  {
   "cell_type": "code",
   "execution_count": 66,
   "id": "several-petite",
   "metadata": {},
   "outputs": [
    {
     "data": {
      "image/png": "[encoded data removed]",
      "text/plain": [
       "<Figure size 864x432 with 1 Axes>"
      ]
     },
     "metadata": {
      "needs_background": "light"
     },
     "output_type": "display_data"
    }
   ],
   "source": [
    "plt.figure(figsize=(12,6))\n",
    "plt.plot(energy_month_pd[\"month\"], energy_month_pd[\"avg(energy_sum)\"], label=\"Energy Consumption (kWh)\")\n",
    "plt.xlabel(\"Month\")\n",
    "plt.ylabel(\"Average Daily Energy Consumption (kWh)\")\n",
    "plt.title(\"Daily Energy Consumption by Month\")\n",
    "\n",
    "plt.show()"
   ]
  },
  {
   "cell_type": "markdown",
   "id": "athletic-biology",
   "metadata": {},
   "source": [
    "#### Energy Consumption by Day of Week"
   ]
  },
  {
   "cell_type": "code",
   "execution_count": 67,
   "id": "elegant-contribution",
   "metadata": {},
   "outputs": [
    {
     "name": "stdout",
     "output_type": "stream",
     "text": [
      "+---+------------------+\n",
      "|day|   avg(energy_sum)|\n",
      "+---+------------------+\n",
      "|  1|10.776740811938925|\n",
      "|  2|10.179250341211555|\n",
      "|  3|10.047049729786858|\n",
      "|  4|10.022680493741891|\n",
      "|  5|10.009295087731221|\n",
      "|  6|10.048399460159164|\n",
      "|  7|10.299171786383443|\n",
      "+---+------------------+\n",
      "\n"
     ]
    }
   ],
   "source": [
    "energy_dow = combined_daily_df.groupBy(\"day\").avg(\"energy_sum\").orderBy(col(\"day\").cast(IntegerType()))\n",
    "energy_dow.show()\n",
    "\n",
    "energy_dow_pd = energy_dow.toPandas()"
   ]
  },
  {
   "cell_type": "code",
   "execution_count": 68,
   "id": "colonial-topic",
   "metadata": {},
   "outputs": [
    {
     "data": {
      "image/png": "[encoded data removed]",
      "text/plain": [
       "<Figure size 864x432 with 1 Axes>"
      ]
     },
     "metadata": {
      "needs_background": "light"
     },
     "output_type": "display_data"
    }
   ],
   "source": [
    "plt.figure(figsize=(12,6))\n",
    "plt.plot(energy_dow_pd[\"day\"], energy_dow_pd[\"avg(energy_sum)\"], label=\"Energy Consumption (kWh)\")\n",
    "plt.xlabel(\"Day of Week (1=Sunday, 7=Saturday)\")\n",
    "plt.ylabel(\"Average Daily Energy Consumption (kWh)\")\n",
    "plt.title(\"Daily Energy Consumption by Day of Week\")\n",
    "\n",
    "plt.show()"
   ]
  },
  {
   "cell_type": "markdown",
   "id": "manufactured-motorcycle",
   "metadata": {},
   "source": [
    "#### Hourly Energy Consumption for Single Meter "
   ]
  },
  {
   "cell_type": "code",
   "execution_count": 69,
   "id": "complex-distribution",
   "metadata": {},
   "outputs": [
    {
     "name": "stdout",
     "output_type": "stream",
     "text": [
      "+----------------+\n",
      "|Energy Cons. < 0|\n",
      "+----------------+\n",
      "|               0|\n",
      "+----------------+\n",
      "\n",
      "+-----------------+\n",
      "|Energy Cons. == 0|\n",
      "+-----------------+\n",
      "|                0|\n",
      "+-----------------+\n",
      "\n",
      "+----------------+\n",
      "|Energy Cons. > 0|\n",
      "+----------------+\n",
      "|           12106|\n",
      "+----------------+\n",
      "\n"
     ]
    }
   ],
   "source": [
    "# count how many observations have no consumption\n",
    "\n",
    "combined_hourly_df.select(count(when(col(\"energy\") < 0, 1)).alias(\"Energy Cons. < 0\")).show()\n",
    "combined_hourly_df.select(count(when(col(\"energy\") == 0, 1)).alias(\"Energy Cons. == 0\")).show()\n",
    "combined_hourly_df.select(count(when(col(\"energy\") > 0, 1)).alias(\"Energy Cons. > 0\")).show()"
   ]
  },
  {
   "cell_type": "code",
   "execution_count": 70,
   "id": "latest-objective",
   "metadata": {},
   "outputs": [
    {
     "name": "stdout",
     "output_type": "stream",
     "text": [
      "+-----------------+\n",
      "|Energy Cons. == 0|\n",
      "+-----------------+\n",
      "|                0|\n",
      "+-----------------+\n",
      "\n"
     ]
    }
   ],
   "source": [
    "# remove data points with no hourly energy consumption as it could suggest power outage or meter misreading\n",
    "\n",
    "combined_hourly_df = combined_hourly_df.filter(combined_hourly_df.energy > 0)\n",
    "\n",
    "# check to make sure that there are no remaining data points with 0 daily energy consumption.\n",
    "combined_hourly_df.select(count(when(col(\"energy\") == 0, 1)).alias(\"Energy Cons. == 0\")).show()"
   ]
  },
  {
   "cell_type": "code",
   "execution_count": 71,
   "id": "integrated-diabetes",
   "metadata": {},
   "outputs": [],
   "source": [
    "meter_hourly= combined_hourly_df.select(\"time\").collect()\n",
    "energy_hourly = combined_hourly_df.select(\"energy\").collect()"
   ]
  },
  {
   "cell_type": "code",
   "execution_count": 72,
   "id": "continuous-hawaii",
   "metadata": {},
   "outputs": [],
   "source": [
    "holiday_hourly_list = combined_hourly_df.select(\"time\").filter(col(\"holiday_binary\") == 1).collect()"
   ]
  },
  {
   "cell_type": "code",
   "execution_count": 73,
   "id": "magnetic-contact",
   "metadata": {},
   "outputs": [
    {
     "data": {
      "image/png": "[encoded data removed]",
      "text/plain": [
       "<Figure size 864x432 with 1 Axes>"
      ]
     },
     "metadata": {
      "needs_background": "light"
     },
     "output_type": "display_data"
    }
   ],
   "source": [
    "plt.figure(figsize=(12,6))\n",
    "plt.scatter(meter_hourly, energy_hourly, label=\"Energy Consumption (kWh/hr)\")\n",
    "plt.xlabel(\"Date\")\n",
    "plt.ylabel(\"Hourly Energy Consumption (kWh/hr)\")\n",
    "plt.title(\"Hourly Energy Consumption\")\n",
    "\n",
    "for h in holiday_hourly_list:\n",
    "    plt.axvline(x=h, color='red')\n",
    "\n",
    "plt.show()"
   ]
  },
  {
   "cell_type": "code",
   "execution_count": 74,
   "id": "bound-cologne",
   "metadata": {},
   "outputs": [
    {
     "name": "stdout",
     "output_type": "stream",
     "text": [
      "+-----------------+\n",
      "|      avg(energy)|\n",
      "+-----------------+\n",
      "|0.600751693049246|\n",
      "+-----------------+\n",
      "\n"
     ]
    }
   ],
   "source": [
    "combined_hourly_df.select(avg(col(\"energy\"))).show()"
   ]
  },
  {
   "cell_type": "code",
   "execution_count": 75,
   "id": "impressed-retreat",
   "metadata": {},
   "outputs": [
    {
     "name": "stdout",
     "output_type": "stream",
     "text": [
      "+--------------+------------------+\n",
      "|holiday_binary|       avg(energy)|\n",
      "+--------------+------------------+\n",
      "|             0|0.5987377973426599|\n",
      "|             1|0.6910871209181619|\n",
      "+--------------+------------------+\n",
      "\n"
     ]
    }
   ],
   "source": [
    "combined_hourly_df.groupBy(\"holiday_binary\").avg(\"energy\").show()"
   ]
  },
  {
   "cell_type": "markdown",
   "id": "comparable-matthew",
   "metadata": {},
   "source": [
    "#### Energy Consumption by Hour"
   ]
  },
  {
   "cell_type": "code",
   "execution_count": 76,
   "id": "level-topic",
   "metadata": {},
   "outputs": [
    {
     "name": "stdout",
     "output_type": "stream",
     "text": [
      "+----+-------------------+\n",
      "|hour|        avg(energy)|\n",
      "+----+-------------------+\n",
      "|   0| 0.3586011915689423|\n",
      "|   1| 0.3538015866208644|\n",
      "|   2|0.34993240494969824|\n",
      "|   3|0.34890927018733653|\n",
      "|   4|0.34779761926758856|\n",
      "|   5| 0.3437936505273221|\n",
      "|   6|0.35178571345195886|\n",
      "|   7| 0.3861031738065538|\n",
      "|   8| 0.4602902591465482|\n",
      "|   9| 0.5293293652967328|\n",
      "|  10| 0.5233373011625002|\n",
      "|  11| 0.5770556659809875|\n",
      "|  12| 0.6160912700293083|\n",
      "|  13| 0.6029207914772601|\n",
      "|  14|  0.606229701785758|\n",
      "|  15| 0.6047207915251798|\n",
      "|  16| 0.6750613863810454|\n",
      "|  17|  0.883037620045171|\n",
      "|  18|  1.061613861611574|\n",
      "|  19| 1.0678851475219915|\n",
      "|  20| 1.0538198010756237|\n",
      "|  21|   1.06271881402129|\n",
      "|  22| 0.7815366318910428|\n",
      "|  23| 0.4675972227834993|\n",
      "+----+-------------------+\n",
      "\n"
     ]
    }
   ],
   "source": [
    "energy_hourly_df = combined_hourly_df.groupby(\"hour\").avg(\"energy\").orderBy(col(\"hour\").cast(IntegerType()))\n",
    "energy_hourly_df.show(24)\n",
    "\n",
    "energy_hourly_pd = energy_hourly_df.toPandas()"
   ]
  },
  {
   "cell_type": "code",
   "execution_count": 77,
   "id": "homeless-glory",
   "metadata": {},
   "outputs": [
    {
     "data": {
      "image/png": "[encoded data removed]",
      "text/plain": [
       "<Figure size 864x432 with 1 Axes>"
      ]
     },
     "metadata": {
      "needs_background": "light"
     },
     "output_type": "display_data"
    }
   ],
   "source": [
    "plt.figure(figsize=(12,6))\n",
    "plt.plot(energy_hourly_pd[\"hour\"], energy_hourly_pd[\"avg(energy)\"], label=\"Energy Consumption (kWh/hr)\")\n",
    "plt.xlabel(\"Hour of Day\")\n",
    "plt.ylabel(\"Average Hourly Energy Consumption (kWh/hr)\")\n",
    "plt.title(\"Energy Consumption by Hour of the Day\")\n",
    "\n",
    "plt.show()"
   ]
  },
  {
   "cell_type": "markdown",
   "id": "according-birmingham",
   "metadata": {},
   "source": [
    "### ACRON / Socialeconomic Groups"
   ]
  },
  {
   "cell_type": "code",
   "execution_count": 78,
   "id": "bottom-inventory",
   "metadata": {},
   "outputs": [],
   "source": [
    "acorn_socialeco_daily = combined_daily_df.select(\"time\", \"energy_sum\", \"Acorn\",\"Socialeconomic\").toPandas()"
   ]
  },
  {
   "cell_type": "code",
   "execution_count": 79,
   "id": "golden-gamma",
   "metadata": {},
   "outputs": [
    {
     "data": {
      "text/html": [
       "<div>\n",
       "<style scoped>\n",
       "    .dataframe tbody tr th:only-of-type {\n",
       "        vertical-align: middle;\n",
       "    }\n",
       "\n",
       "    .dataframe tbody tr th {\n",
       "        vertical-align: top;\n",
       "    }\n",
       "\n",
       "    .dataframe thead th {\n",
       "        text-align: right;\n",
       "    }\n",
       "</style>\n",
       "<table border=\"1\" class=\"dataframe\">\n",
       "  <thead>\n",
       "    <tr style=\"text-align: right;\">\n",
       "      <th></th>\n",
       "      <th>time</th>\n",
       "      <th>energy_sum</th>\n",
       "      <th>Acorn</th>\n",
       "      <th>Socialeconomic</th>\n",
       "    </tr>\n",
       "  </thead>\n",
       "  <tbody>\n",
       "    <tr>\n",
       "      <th>0</th>\n",
       "      <td>2011-12-08</td>\n",
       "      <td>3.662</td>\n",
       "      <td>ACORN-E</td>\n",
       "      <td>Affluent</td>\n",
       "    </tr>\n",
       "    <tr>\n",
       "      <th>1</th>\n",
       "      <td>2011-12-09</td>\n",
       "      <td>6.036</td>\n",
       "      <td>ACORN-E</td>\n",
       "      <td>Affluent</td>\n",
       "    </tr>\n",
       "    <tr>\n",
       "      <th>2</th>\n",
       "      <td>2011-12-10</td>\n",
       "      <td>10.063</td>\n",
       "      <td>ACORN-E</td>\n",
       "      <td>Affluent</td>\n",
       "    </tr>\n",
       "    <tr>\n",
       "      <th>3</th>\n",
       "      <td>2011-12-11</td>\n",
       "      <td>11.769</td>\n",
       "      <td>ACORN-E</td>\n",
       "      <td>Affluent</td>\n",
       "    </tr>\n",
       "    <tr>\n",
       "      <th>4</th>\n",
       "      <td>2011-12-12</td>\n",
       "      <td>5.913</td>\n",
       "      <td>ACORN-E</td>\n",
       "      <td>Affluent</td>\n",
       "    </tr>\n",
       "    <tr>\n",
       "      <th>...</th>\n",
       "      <td>...</td>\n",
       "      <td>...</td>\n",
       "      <td>...</td>\n",
       "      <td>...</td>\n",
       "    </tr>\n",
       "    <tr>\n",
       "      <th>3474959</th>\n",
       "      <td>2014-02-23</td>\n",
       "      <td>0.683</td>\n",
       "      <td>ACORN-U</td>\n",
       "      <td>ACORN-U</td>\n",
       "    </tr>\n",
       "    <tr>\n",
       "      <th>3474960</th>\n",
       "      <td>2014-02-24</td>\n",
       "      <td>2.587</td>\n",
       "      <td>ACORN-U</td>\n",
       "      <td>ACORN-U</td>\n",
       "    </tr>\n",
       "    <tr>\n",
       "      <th>3474961</th>\n",
       "      <td>2014-02-25</td>\n",
       "      <td>0.720</td>\n",
       "      <td>ACORN-U</td>\n",
       "      <td>ACORN-U</td>\n",
       "    </tr>\n",
       "    <tr>\n",
       "      <th>3474962</th>\n",
       "      <td>2014-02-26</td>\n",
       "      <td>1.051</td>\n",
       "      <td>ACORN-U</td>\n",
       "      <td>ACORN-U</td>\n",
       "    </tr>\n",
       "    <tr>\n",
       "      <th>3474963</th>\n",
       "      <td>2014-02-27</td>\n",
       "      <td>0.736</td>\n",
       "      <td>ACORN-U</td>\n",
       "      <td>ACORN-U</td>\n",
       "    </tr>\n",
       "  </tbody>\n",
       "</table>\n",
       "<p>3474964 rows × 4 columns</p>\n",
       "</div>"
      ],
      "text/plain": [
       "               time  energy_sum    Acorn Socialeconomic\n",
       "0        2011-12-08       3.662  ACORN-E       Affluent\n",
       "1        2011-12-09       6.036  ACORN-E       Affluent\n",
       "2        2011-12-10      10.063  ACORN-E       Affluent\n",
       "3        2011-12-11      11.769  ACORN-E       Affluent\n",
       "4        2011-12-12       5.913  ACORN-E       Affluent\n",
       "...             ...         ...      ...            ...\n",
       "3474959  2014-02-23       0.683  ACORN-U        ACORN-U\n",
       "3474960  2014-02-24       2.587  ACORN-U        ACORN-U\n",
       "3474961  2014-02-25       0.720  ACORN-U        ACORN-U\n",
       "3474962  2014-02-26       1.051  ACORN-U        ACORN-U\n",
       "3474963  2014-02-27       0.736  ACORN-U        ACORN-U\n",
       "\n",
       "[3474964 rows x 4 columns]"
      ]
     },
     "execution_count": 79,
     "metadata": {},
     "output_type": "execute_result"
    }
   ],
   "source": [
    "acorn_socialeco_daily"
   ]
  },
  {
   "cell_type": "code",
   "execution_count": 80,
   "id": "impossible-personal",
   "metadata": {},
   "outputs": [],
   "source": [
    "acorn_affluent = acorn_socialeco_daily.loc[acorn_socialeco_daily['Acorn'].isin(['ACORN-A', 'ACORN-B', 'ACORN-C'])]\n",
    "acorn_rising = acorn_socialeco_daily.loc[acorn_socialeco_daily['Acorn'].isin(['ACORN-D', 'ACORN-E'])]\n",
    "acorn_comfortable = acorn_socialeco_daily.loc[acorn_socialeco_daily['Acorn'].isin(['ACORN-F', 'ACORN-G', 'ACORN-H', 'ACORN-I', 'ACORN-J'])]\n",
    "acorn_stretched = acorn_socialeco_daily.loc[acorn_socialeco_daily['Acorn'].isin(['ACORN-K', 'ACORN-L', 'ACORN-M', 'ACORN-N'])]\n",
    "acorn_adversity = acorn_socialeco_daily.loc[acorn_socialeco_daily['Acorn'].isin(['ACORN-O', 'ACORN-P', 'ACORN-Q'])]\n",
    "acorn_unknown = acorn_socialeco_daily.loc[acorn_socialeco_daily['Acorn'].isin(['ACORN-U', 'ACORN-'])]"
   ]
  },
  {
   "cell_type": "code",
   "execution_count": 81,
   "id": "unusual-lincoln",
   "metadata": {},
   "outputs": [
    {
     "data": {
      "image/png": "[encoded data removed]",
      "text/plain": [
       "<Figure size 864x432 with 1 Axes>"
      ]
     },
     "metadata": {
      "needs_background": "light"
     },
     "output_type": "display_data"
    }
   ],
   "source": [
    "plt.figure(figsize=(12,6))\n",
    "\n",
    "plt.scatter(acorn_affluent[\"time\"], acorn_affluent[\"energy_sum\"], label=\"A-C: Affluent Acheivers\")\n",
    "plt.scatter(acorn_rising[\"time\"], acorn_rising[\"energy_sum\"], label=\"D-E: Rising Prosperity\")\n",
    "plt.scatter(acorn_comfortable[\"time\"], acorn_comfortable[\"energy_sum\"], label=\"F-J: Comfortable Communities\")\n",
    "plt.scatter(acorn_stretched[\"time\"], acorn_stretched[\"energy_sum\"], label=\"K-N: Financially Stretched\")\n",
    "plt.scatter(acorn_adversity[\"time\"], acorn_adversity[\"energy_sum\"], label=\"O-Q: Urban Adversity\")\n",
    "plt.scatter(acorn_unknown[\"time\"], acorn_unknown[\"energy_sum\"], label=\"Unknown\")\n",
    "\n",
    "plt.xlabel(\"Date\")\n",
    "plt.ylabel(\"Daily Energy Consumption (kWh)\")\n",
    "plt.title(\"Energy Consumption based on Acorn Categories\")\n",
    "plt.legend()\n",
    "\n",
    "plt.show()"
   ]
  },
  {
   "cell_type": "code",
   "execution_count": 82,
   "id": "latter-organ",
   "metadata": {},
   "outputs": [
    {
     "name": "stdout",
     "output_type": "stream",
     "text": [
      "+-------+------------------+\n",
      "|  Acorn|   avg(energy_sum)|\n",
      "+-------+------------------+\n",
      "| ACORN-|12.048254858784349|\n",
      "|ACORN-A| 19.12800664280064|\n",
      "|ACORN-B|11.929023443060226|\n",
      "|ACORN-C|11.981566223237698|\n",
      "|ACORN-D|13.657404168518239|\n",
      "|ACORN-E| 10.43611951338815|\n",
      "|ACORN-F|  9.26099702755155|\n",
      "|ACORN-G|10.230697020405724|\n",
      "|ACORN-H|11.053586421679396|\n",
      "|ACORN-I| 9.463164078754605|\n",
      "|ACORN-J|11.412777221304937|\n",
      "|ACORN-K| 10.09884034965985|\n",
      "|ACORN-L|10.061373440438292|\n",
      "|ACORN-M|10.026656021463499|\n",
      "|ACORN-N| 9.261338167340641|\n",
      "|ACORN-O| 8.579916733043238|\n",
      "|ACORN-P| 6.700596644436196|\n",
      "|ACORN-Q| 7.627956975151605|\n",
      "|ACORN-U| 12.20224336225712|\n",
      "+-------+------------------+\n",
      "\n"
     ]
    }
   ],
   "source": [
    "# aggregating by Acron group and calculating the mean energy_sum per Acorn group\n",
    "\n",
    "energy_acorn_df = combined_daily_df.groupBy(\"Acorn\").avg(\"energy_sum\").orderBy(col(\"Acorn\"))\n",
    "energy_acorn_df.show()\n",
    "\n",
    "energy_acorn_pd = energy_acorn_df.toPandas() "
   ]
  },
  {
   "cell_type": "code",
   "execution_count": 83,
   "id": "italian-leave",
   "metadata": {},
   "outputs": [
    {
     "data": {
      "image/png": "[encoded data removed]",
      "text/plain": [
       "<Figure size 1296x432 with 1 Axes>"
      ]
     },
     "metadata": {
      "needs_background": "light"
     },
     "output_type": "display_data"
    }
   ],
   "source": [
    "plt.figure(figsize=(18,6))\n",
    "plt.bar(energy_acorn_pd[\"Acorn\"], energy_acorn_pd[\"avg(energy_sum)\"])\n",
    "plt.xlabel(\"Acorn Group\")\n",
    "plt.xticks(rotation=45) \n",
    "plt.ylabel(\"Average Daily Energy Consumption (kWh)\")\n",
    "\n",
    "plt.title(\"Energy Consumption by Acorn Group\")\n",
    "\n",
    "plt.show()"
   ]
  },
  {
   "cell_type": "code",
   "execution_count": 84,
   "id": "exempt-nudist",
   "metadata": {},
   "outputs": [
    {
     "data": {
      "image/png": "[encoded data removed]",
      "text/plain": [
       "<Figure size 864x432 with 1 Axes>"
      ]
     },
     "metadata": {
      "needs_background": "light"
     },
     "output_type": "display_data"
    }
   ],
   "source": [
    "plt.figure(figsize=(12,6))\n",
    "\n",
    "socialeco_affluent = acorn_socialeco_daily.loc[acorn_socialeco_daily['Socialeconomic'] == \"Affluent\"]\n",
    "socialeco_comfortable = acorn_socialeco_daily.loc[acorn_socialeco_daily['Socialeconomic'] == \"Comfortable\"]\n",
    "socialeco_adversity = acorn_socialeco_daily.loc[acorn_socialeco_daily['Socialeconomic'] == \"Adversity\"]\n",
    "socialeco_unknown = acorn_socialeco_daily.loc[acorn_socialeco_daily['Socialeconomic'].isin([\"ACORN-U\",\"ACORN-\"])]\n",
    "\n",
    "plt.scatter(socialeco_affluent[\"time\"], socialeco_affluent[\"energy_sum\"], label=\"Affluent\")\n",
    "plt.scatter(socialeco_comfortable[\"time\"], socialeco_comfortable[\"energy_sum\"], label=\"Comfortable\")\n",
    "plt.scatter(socialeco_adversity[\"time\"], socialeco_adversity[\"energy_sum\"], label=\"Adversity\")\n",
    "plt.scatter(socialeco_unknown[\"time\"], socialeco_unknown[\"energy_sum\"], label=\"Unknown\")\n",
    "\n",
    "plt.xlabel(\"Date\")\n",
    "plt.ylabel(\"Daily Energy Consumption (kWh)\")\n",
    "plt.title(\"Energy Consumption based on Socialeconomic Groups\")\n",
    "plt.legend()\n",
    "plt.show()"
   ]
  },
  {
   "cell_type": "code",
   "execution_count": 85,
   "id": "secret-singles",
   "metadata": {},
   "outputs": [
    {
     "name": "stdout",
     "output_type": "stream",
     "text": [
      "+--------------+------------------+\n",
      "|Socialeconomic|   avg(energy_sum)|\n",
      "+--------------+------------------+\n",
      "|       ACORN-U| 12.20224336225712|\n",
      "|        ACORN-|12.048254858784349|\n",
      "|      Affluent|11.558844058868964|\n",
      "|   Comfortable|10.065252870330317|\n",
      "|     Adversity| 8.563998979374434|\n",
      "+--------------+------------------+\n",
      "\n"
     ]
    }
   ],
   "source": [
    "energy_socialeco_df = combined_daily_df.groupBy(\"Socialeconomic\").avg(\"energy_sum\").orderBy(col(\"avg(energy_sum)\").desc())\n",
    "energy_socialeco_df.show()"
   ]
  },
  {
   "cell_type": "code",
   "execution_count": 86,
   "id": "verbal-change",
   "metadata": {},
   "outputs": [
    {
     "data": {
      "image/png": "[encoded data removed]",
      "text/plain": [
       "<Figure size 864x432 with 1 Axes>"
      ]
     },
     "metadata": {
      "needs_background": "light"
     },
     "output_type": "display_data"
    }
   ],
   "source": [
    "energy_socialeco_pd = energy_socialeco_df.toPandas()\n",
    "\n",
    "plt.figure(figsize=(12,6))\n",
    "plt.bar(energy_socialeco_pd[\"Socialeconomic\"], energy_socialeco_pd[\"avg(energy_sum)\"])\n",
    "plt.xlabel(\"Socialeconomic Group\")\n",
    "plt.ylabel(\"Average Daily Energy Consumption (kWh)\")\n",
    "\n",
    "plt.title(\"Energy Consumption by Socialeconomic Group\")\n",
    "\n",
    "plt.show()"
   ]
  },
  {
   "cell_type": "markdown",
   "id": "green-sally",
   "metadata": {},
   "source": [
    "#### Energy Consumption by Billing Method"
   ]
  },
  {
   "cell_type": "code",
   "execution_count": 87,
   "id": "hollywood-employment",
   "metadata": {},
   "outputs": [
    {
     "data": {
      "text/html": [
       "<div>\n",
       "<style scoped>\n",
       "    .dataframe tbody tr th:only-of-type {\n",
       "        vertical-align: middle;\n",
       "    }\n",
       "\n",
       "    .dataframe tbody tr th {\n",
       "        vertical-align: top;\n",
       "    }\n",
       "\n",
       "    .dataframe thead th {\n",
       "        text-align: right;\n",
       "    }\n",
       "</style>\n",
       "<table border=\"1\" class=\"dataframe\">\n",
       "  <thead>\n",
       "    <tr style=\"text-align: right;\">\n",
       "      <th></th>\n",
       "      <th>time</th>\n",
       "      <th>energy_sum</th>\n",
       "      <th>stdorToU</th>\n",
       "    </tr>\n",
       "  </thead>\n",
       "  <tbody>\n",
       "    <tr>\n",
       "      <th>0</th>\n",
       "      <td>2011-12-08</td>\n",
       "      <td>3.662</td>\n",
       "      <td>ToU</td>\n",
       "    </tr>\n",
       "    <tr>\n",
       "      <th>1</th>\n",
       "      <td>2011-12-09</td>\n",
       "      <td>6.036</td>\n",
       "      <td>ToU</td>\n",
       "    </tr>\n",
       "    <tr>\n",
       "      <th>2</th>\n",
       "      <td>2011-12-10</td>\n",
       "      <td>10.063</td>\n",
       "      <td>ToU</td>\n",
       "    </tr>\n",
       "    <tr>\n",
       "      <th>3</th>\n",
       "      <td>2011-12-11</td>\n",
       "      <td>11.769</td>\n",
       "      <td>ToU</td>\n",
       "    </tr>\n",
       "    <tr>\n",
       "      <th>4</th>\n",
       "      <td>2011-12-12</td>\n",
       "      <td>5.913</td>\n",
       "      <td>ToU</td>\n",
       "    </tr>\n",
       "    <tr>\n",
       "      <th>...</th>\n",
       "      <td>...</td>\n",
       "      <td>...</td>\n",
       "      <td>...</td>\n",
       "    </tr>\n",
       "    <tr>\n",
       "      <th>3474959</th>\n",
       "      <td>2014-02-23</td>\n",
       "      <td>0.683</td>\n",
       "      <td>Std</td>\n",
       "    </tr>\n",
       "    <tr>\n",
       "      <th>3474960</th>\n",
       "      <td>2014-02-24</td>\n",
       "      <td>2.587</td>\n",
       "      <td>Std</td>\n",
       "    </tr>\n",
       "    <tr>\n",
       "      <th>3474961</th>\n",
       "      <td>2014-02-25</td>\n",
       "      <td>0.720</td>\n",
       "      <td>Std</td>\n",
       "    </tr>\n",
       "    <tr>\n",
       "      <th>3474962</th>\n",
       "      <td>2014-02-26</td>\n",
       "      <td>1.051</td>\n",
       "      <td>Std</td>\n",
       "    </tr>\n",
       "    <tr>\n",
       "      <th>3474963</th>\n",
       "      <td>2014-02-27</td>\n",
       "      <td>0.736</td>\n",
       "      <td>Std</td>\n",
       "    </tr>\n",
       "  </tbody>\n",
       "</table>\n",
       "<p>3474964 rows × 3 columns</p>\n",
       "</div>"
      ],
      "text/plain": [
       "               time  energy_sum stdorToU\n",
       "0        2011-12-08       3.662      ToU\n",
       "1        2011-12-09       6.036      ToU\n",
       "2        2011-12-10      10.063      ToU\n",
       "3        2011-12-11      11.769      ToU\n",
       "4        2011-12-12       5.913      ToU\n",
       "...             ...         ...      ...\n",
       "3474959  2014-02-23       0.683      Std\n",
       "3474960  2014-02-24       2.587      Std\n",
       "3474961  2014-02-25       0.720      Std\n",
       "3474962  2014-02-26       1.051      Std\n",
       "3474963  2014-02-27       0.736      Std\n",
       "\n",
       "[3474964 rows x 3 columns]"
      ]
     },
     "execution_count": 87,
     "metadata": {},
     "output_type": "execute_result"
    }
   ],
   "source": [
    "billing_daily = combined_daily_df.select(\"time\", \"energy_sum\", \"stdorToU\").toPandas()\n",
    "billing_daily"
   ]
  },
  {
   "cell_type": "code",
   "execution_count": 88,
   "id": "heated-jacob",
   "metadata": {},
   "outputs": [],
   "source": [
    "billing_standard = billing_daily.loc[billing_daily['stdorToU'].isin(['Std'])]\n",
    "billing_ToU = billing_daily.loc[billing_daily['stdorToU'].isin(['ToU'])]"
   ]
  },
  {
   "cell_type": "code",
   "execution_count": 89,
   "id": "normal-surgeon",
   "metadata": {},
   "outputs": [
    {
     "data": {
      "image/png": "[encoded data removed]",
      "text/plain": [
       "<Figure size 864x432 with 1 Axes>"
      ]
     },
     "metadata": {
      "needs_background": "light"
     },
     "output_type": "display_data"
    }
   ],
   "source": [
    "plt.figure(figsize=(12,6))\n",
    "\n",
    "plt.scatter(billing_standard[\"time\"], billing_standard[\"energy_sum\"], label=\"Standard Billing\")\n",
    "plt.scatter(billing_ToU[\"time\"], billing_ToU[\"energy_sum\"], label=\"Time-Of-Use Billing\")\n",
    "\n",
    "plt.xlabel(\"Date\")\n",
    "plt.ylabel(\"Daily Energy Consumption (kWh)\")\n",
    "plt.title(\"Energy Consumption based on Billing Method\")\n",
    "plt.legend()\n",
    "\n",
    "plt.show()"
   ]
  },
  {
   "cell_type": "code",
   "execution_count": 90,
   "id": "located-architect",
   "metadata": {},
   "outputs": [
    {
     "name": "stdout",
     "output_type": "stream",
     "text": [
      "+--------+------------------+\n",
      "|stdorToU|   avg(energy_sum)|\n",
      "+--------+------------------+\n",
      "|     Std|10.360841009694253|\n",
      "|     ToU| 9.545980184543152|\n",
      "+--------+------------------+\n",
      "\n"
     ]
    }
   ],
   "source": [
    "combined_daily_df.groupBy(\"stdorToU\").avg(\"energy_sum\").show()"
   ]
  },
  {
   "cell_type": "markdown",
   "id": "emotional-glossary",
   "metadata": {},
   "source": [
    "### Weather "
   ]
  },
  {
   "cell_type": "markdown",
   "id": "individual-decrease",
   "metadata": {},
   "source": [
    "#### Daily Weather "
   ]
  },
  {
   "cell_type": "code",
   "execution_count": 91,
   "id": "extended-optics",
   "metadata": {},
   "outputs": [],
   "source": [
    "daily_time = combined_daily_df.select(\"time\").collect()"
   ]
  },
  {
   "cell_type": "code",
   "execution_count": 92,
   "id": "committed-district",
   "metadata": {},
   "outputs": [],
   "source": [
    "daily_energy_sum = combined_daily_df.select(\"energy_sum\").collect()\n",
    "daily_temp_High = combined_daily_df.select(\"tempHigh\").collect()\n",
    "daily_temp_Low = combined_daily_df.select(\"tempLow\").collect()"
   ]
  },
  {
   "cell_type": "code",
   "execution_count": 93,
   "id": "suspected-shipping",
   "metadata": {},
   "outputs": [
    {
     "data": {
      "image/png": "[encoded data removed]",
      "text/plain": [
       "<Figure size 864x432 with 2 Axes>"
      ]
     },
     "metadata": {
      "needs_background": "light"
     },
     "output_type": "display_data"
    }
   ],
   "source": [
    "fig, ax1 = plt.subplots(figsize=(12,6))\n",
    "\n",
    "ax1.scatter(daily_time, daily_energy_sum, label=\"Energy Consumption\")\n",
    "ax1.set_xlabel(\"Date\")\n",
    "ax1.set_ylabel(\"Energy Consumption (kWh)\")\n",
    "\n",
    "ax2 = ax1.twinx() \n",
    "ax2.scatter(daily_time, daily_temp_High, color='orange', label=\"High Temperature\")\n",
    "ax2.scatter(daily_time, daily_temp_Low, color='red', label=\"Low Temperature\")\n",
    "ax2.set_ylabel(\"Temperature (C)\")\n",
    "\n",
    "plt.title(\"Daily Energy Consumption over Time\")\n",
    "\n",
    "ax1.legend(loc = \"upper left\")\n",
    "ax2.legend(loc = \"upper right\")\n",
    "fig.tight_layout()\n",
    "plt.show()"
   ]
  },
  {
   "cell_type": "code",
   "execution_count": 94,
   "id": "compatible-attitude",
   "metadata": {},
   "outputs": [
    {
     "data": {
      "text/plain": [
       "-0.1732051877631666"
      ]
     },
     "execution_count": 94,
     "metadata": {},
     "output_type": "execute_result"
    }
   ],
   "source": [
    "# correlation between Daily High Temperature and Energy Consumption:\n",
    "\n",
    "combined_daily_df.stat.corr('energy_sum','tempHigh')"
   ]
  },
  {
   "cell_type": "markdown",
   "id": "renewable-mauritius",
   "metadata": {},
   "source": [
    "#### Energy Consumption by Weather Outlook"
   ]
  },
  {
   "cell_type": "code",
   "execution_count": 95,
   "id": "careful-prince",
   "metadata": {},
   "outputs": [
    {
     "name": "stdout",
     "output_type": "stream",
     "text": [
      "+-------------------+------------------+\n",
      "|               icon|   avg(energy_sum)|\n",
      "+-------------------+------------------+\n",
      "|          clear-day| 9.608332991260264|\n",
      "|             cloudy|10.661536624241617|\n",
      "|                fog|11.144131894964474|\n",
      "|  partly-cloudy-day|  9.93359312604149|\n",
      "|partly-cloudy-night|11.939521135913347|\n",
      "|               wind|10.647832970154838|\n",
      "+-------------------+------------------+\n",
      "\n"
     ]
    }
   ],
   "source": [
    "energy_icon_df = combined_daily_df.groupBy(\"icon\").avg(\"energy_sum\").orderBy(col(\"icon\"))\n",
    "energy_icon_df.show()"
   ]
  },
  {
   "cell_type": "code",
   "execution_count": 96,
   "id": "european-courtesy",
   "metadata": {},
   "outputs": [
    {
     "data": {
      "image/png": "[encoded data removed]",
      "text/plain": [
       "<Figure size 864x432 with 1 Axes>"
      ]
     },
     "metadata": {
      "needs_background": "light"
     },
     "output_type": "display_data"
    }
   ],
   "source": [
    "energy_icon_pd = energy_icon_df.toPandas()\n",
    "\n",
    "plt.figure(figsize=(12,6))\n",
    "plt.bar(energy_icon_pd[\"icon\"], energy_icon_pd[\"avg(energy_sum)\"])\n",
    "plt.xlabel(\"Weather Outlook\")\n",
    "plt.ylabel(\"Average Daily Energy Consumption (kWh)\")\n",
    "plt.xticks(rotation=45) \n",
    "plt.title(\"Energy Consumption by Weather Outlook\")\n",
    "\n",
    "plt.show()"
   ]
  },
  {
   "cell_type": "markdown",
   "id": "animated-serbia",
   "metadata": {},
   "source": [
    "#### Energy Consumption by Wind Speed"
   ]
  },
  {
   "cell_type": "code",
   "execution_count": 97,
   "id": "growing-hungarian",
   "metadata": {},
   "outputs": [],
   "source": [
    "daily_windSpd = combined_daily_df.select(\"windSpd\").collect()"
   ]
  },
  {
   "cell_type": "code",
   "execution_count": 98,
   "id": "central-sandwich",
   "metadata": {},
   "outputs": [
    {
     "data": {
      "image/png": "[encoded data removed]",
      "text/plain": [
       "<Figure size 864x432 with 2 Axes>"
      ]
     },
     "metadata": {
      "needs_background": "light"
     },
     "output_type": "display_data"
    }
   ],
   "source": [
    "fig, ax1 = plt.subplots(figsize=(12,6))\n",
    "\n",
    "ax1.scatter(daily_time, daily_energy_sum, label=\"Energy Consumption\")\n",
    "ax1.set_xlabel(\"Date\")\n",
    "ax1.set_ylabel(\"Energy Consumption (kWh)\")\n",
    "\n",
    "ax2 = ax1.twinx() \n",
    "ax2.scatter(daily_time, daily_windSpd, color='orange', label=\"Wind Speed\")\n",
    "ax2.set_ylabel(\"Wind Speed (km/hr)\")\n",
    "\n",
    "plt.title(\"Daily Energy Consumption by Wind Speed\")\n",
    "\n",
    "ax1.legend(loc = \"upper left\")\n",
    "ax2.legend(loc = \"upper right\")\n",
    "fig.tight_layout()\n",
    "plt.show()"
   ]
  },
  {
   "cell_type": "code",
   "execution_count": 99,
   "id": "soviet-shooting",
   "metadata": {},
   "outputs": [
    {
     "data": {
      "text/plain": [
       "0.03402477922759102"
      ]
     },
     "execution_count": 99,
     "metadata": {},
     "output_type": "execute_result"
    }
   ],
   "source": [
    "# correlation between Daily Energy Consumption and Wind Speed:\n",
    "\n",
    "combined_daily_df.stat.corr('energy_sum','WindSpd')"
   ]
  },
  {
   "cell_type": "markdown",
   "id": "amber-kruger",
   "metadata": {},
   "source": [
    "#### Energy Consumption by UV Index"
   ]
  },
  {
   "cell_type": "code",
   "execution_count": 100,
   "id": "compatible-circuit",
   "metadata": {},
   "outputs": [
    {
     "name": "stdout",
     "output_type": "stream",
     "text": [
      "+---+------------------+\n",
      "| uv|   avg(energy_sum)|\n",
      "+---+------------------+\n",
      "|0.0| 11.90211761609107|\n",
      "|1.0|11.605169262305026|\n",
      "|2.0|10.289125969888508|\n",
      "|3.0| 9.593432321132601|\n",
      "|4.0|  8.71420807406983|\n",
      "|5.0| 8.523422494328603|\n",
      "|6.0| 8.386132952310797|\n",
      "|7.0| 8.120977163093405|\n",
      "+---+------------------+\n",
      "\n"
     ]
    }
   ],
   "source": [
    "energy_uv_df = combined_daily_df.groupBy(\"uv\").avg(\"energy_sum\").orderBy(col(\"uv\"))\n",
    "energy_uv_df.show()"
   ]
  },
  {
   "cell_type": "code",
   "execution_count": 101,
   "id": "proof-combining",
   "metadata": {},
   "outputs": [
    {
     "data": {
      "image/png": "[encoded data removed]",
      "text/plain": [
       "<Figure size 864x432 with 1 Axes>"
      ]
     },
     "metadata": {
      "needs_background": "light"
     },
     "output_type": "display_data"
    }
   ],
   "source": [
    "energy_uv_pd = energy_uv_df.toPandas()\n",
    "\n",
    "plt.figure(figsize=(12,6))\n",
    "plt.bar(energy_uv_pd[\"uv\"], energy_uv_pd[\"avg(energy_sum)\"])\n",
    "plt.xlabel(\"UV Index\")\n",
    "plt.ylabel(\"Average Daily Energy Consumption (kWh)\")\n",
    "\n",
    "plt.title(\"Energy Consumption by UV Index\")\n",
    "\n",
    "plt.show()"
   ]
  },
  {
   "cell_type": "markdown",
   "id": "promising-hormone",
   "metadata": {},
   "source": [
    "# Regression Models"
   ]
  },
  {
   "cell_type": "markdown",
   "id": "catholic-foster",
   "metadata": {},
   "source": [
    "#### Linear Regression Model with Daily Data"
   ]
  },
  {
   "cell_type": "code",
   "execution_count": 102,
   "id": "basic-twins",
   "metadata": {},
   "outputs": [],
   "source": [
    "model_daily_df = combined_daily_df.select(\"energy_sum\", \"stdorToU\", \"Acorn\", \"Socialeconomic\", \"windDir\", \"windSpd\", \"icon\", \"dew\", \"cloudCover\", \"pres\", \"precip\", \"vis\", \"humid\", \"uv\", \"tempHigh\", \"tempLow\", \"moonPhase\", \"month\", \"day\", \"holiday_binary\")"
   ]
  },
  {
   "cell_type": "code",
   "execution_count": 103,
   "id": "passing-reynolds",
   "metadata": {},
   "outputs": [
    {
     "name": "stdout",
     "output_type": "stream",
     "text": [
      "Correlation to energy_sum for windDir -0.02\n",
      "Correlation to energy_sum for windSpd 0.03\n",
      "Correlation to energy_sum for dew -0.15\n",
      "Correlation to energy_sum for cloudCover 0.06\n",
      "Correlation to energy_sum for pres -0.04\n",
      "Correlation to energy_sum for vis -0.06\n",
      "Correlation to energy_sum for humid 0.08\n",
      "Correlation to energy_sum for tempHigh -0.17\n",
      "Correlation to energy_sum for tempLow -0.16\n",
      "Correlation to energy_sum for moonPhase -0.01\n"
     ]
    }
   ],
   "source": [
    "# correlation of numerical features vs. energy_sum\n",
    "# citing https://towardsdatascience.com/building-a-linear-regression-with-pyspark-and-\n",
    "# mllib-d065c3ba246a for code reference\n",
    "\n",
    "for i in model_daily_df.columns:\n",
    "    if i not in \"energy_sum\":\n",
    "        if not( isinstance(model_daily_df.select(i).take(1)[0][0], str)):\n",
    "            print( \"Correlation to energy_sum for\", i, round(model_daily_df.stat.corr('energy_sum',i),2))"
   ]
  },
  {
   "cell_type": "code",
   "execution_count": 104,
   "id": "white-parade",
   "metadata": {},
   "outputs": [
    {
     "name": "stdout",
     "output_type": "stream",
     "text": [
      "+----------+--------+-------+--------------+-------+-------+-------------------+-----+----------+-------+------+-----+-----+---+--------+-------+---------+-----+---+--------------+\n",
      "|energy_sum|stdorToU|  Acorn|Socialeconomic|windDir|windSpd|               icon|  dew|cloudCover|   pres|precip|  vis|humid| uv|tempHigh|tempLow|moonPhase|month|day|holiday_binary|\n",
      "+----------+--------+-------+--------------+-------+-------+-------------------+-----+----------+-------+------+-----+-----+---+--------+-------+---------+-----+---+--------------+\n",
      "|     3.662|     ToU|ACORN-E|      Affluent|    234|   7.01|               wind| 5.96|      0.53|1010.84|  rain|12.59| 0.81|1.0|   12.89|   3.76|     0.43|   12|  5|             0|\n",
      "|     6.036|     ToU|ACORN-E|      Affluent|    255|   5.65|  partly-cloudy-day| 0.41|      0.15| 1010.6|  rain|12.83| 0.71|1.0|    7.68|  -0.13|     0.46|   12|  6|             0|\n",
      "|    10.063|     ToU|ACORN-E|      Affluent|    247|   3.08|  partly-cloudy-day|-0.34|      0.17|1015.58|  rain|12.83| 0.81|1.0|    6.08|   2.48|     0.49|   12|  7|             0|\n",
      "|    11.769|     ToU|ACORN-E|      Affluent|    198|   3.94|  partly-cloudy-day| 4.49|      0.56|1007.71|  rain|12.09| 0.88|1.0|    8.59|   3.09|     0.53|   12|  1|             0|\n",
      "|     5.913|     ToU|ACORN-E|      Affluent|    221|   5.02|               wind|  4.1|      0.38|1002.47|  rain|12.05| 0.84|1.0|    8.53|   6.88|     0.56|   12|  2|             0|\n",
      "|     4.551|     ToU|ACORN-E|      Affluent|    233|   7.44|               wind| 3.62|      0.42| 990.27|  rain|12.55| 0.75|1.0|    8.48|   4.16|     0.59|   12|  3|             0|\n",
      "|     4.812|     ToU|ACORN-E|      Affluent|    228|   4.48|  partly-cloudy-day| 1.68|      0.36| 994.48|  rain| 13.2| 0.79|1.0|    5.81|   4.08|     0.63|   12|  4|             0|\n",
      "|     8.238|     ToU|ACORN-E|      Affluent|    234|   4.71|               wind| 2.41|      0.42| 996.75|  rain|12.79| 0.77|1.0|    7.97|    1.8|     0.66|   12|  5|             0|\n",
      "|    29.402|     ToU|ACORN-E|      Affluent|    315|   3.71|  partly-cloudy-day|  1.6|       0.7|  988.1|  rain|10.96| 0.88|1.0|    4.53|   0.24|      0.7|   12|  6|             0|\n",
      "|     9.807|     ToU|ACORN-E|      Affluent|    285|   3.99|  partly-cloudy-day| 0.96|      0.37|1008.46|  rain|11.64| 0.86|1.0|    5.35|  -0.01|     0.73|   12|  7|             0|\n",
      "|    22.991|     ToU|ACORN-E|      Affluent|    289|    3.6|  partly-cloudy-day|-0.31|      0.22|1016.37|  rain|13.04| 0.84|1.0|    5.49|  -0.84|     0.77|   12|  1|             0|\n",
      "|    24.405|     ToU|ACORN-E|      Affluent|    235|    2.7|  partly-cloudy-day| 2.45|      0.47|1014.39|  rain|10.43| 0.94|1.0|    6.64|   5.83|     0.81|   12|  2|             0|\n",
      "|     8.585|     ToU|ACORN-E|      Affluent|    279|   4.25|  partly-cloudy-day| 3.64|      0.48|1015.09|  rain|12.89| 0.81|1.0|    8.26|   5.93|     0.85|   12|  3|             0|\n",
      "|     6.056|     ToU|ACORN-E|      Affluent|    266|    2.9|  partly-cloudy-day|  8.6|      0.67|1017.91|  rain| 9.41| 0.94|0.0|   12.14|   8.08|     0.88|   12|  4|             0|\n",
      "|     7.737|     ToU|ACORN-E|      Affluent|    257|   4.31|partly-cloudy-night| 8.07|      0.38|1024.71|  rain|12.99| 0.87|1.0|   12.14|  10.35|     0.92|   12|  5|             0|\n",
      "|    10.657|     ToU|ACORN-E|      Affluent|    247|   4.85|  partly-cloudy-day| 7.08|      0.74|1017.67|  rain|12.36| 0.85|0.0|   11.21|   3.17|     0.96|   12|  6|             0|\n",
      "|     9.261|     ToU|ACORN-E|      Affluent|    252|   4.46|partly-cloudy-night| 2.79|      0.37|1028.17|  rain|13.16|  0.8|1.0|    7.93|   7.45|     0.99|   12|  7|             0|\n",
      "|     5.671|     ToU|ACORN-E|      Affluent|    237|   5.81|  partly-cloudy-day|  7.9|      0.88|1028.45|  rain|13.99| 0.83|0.0|   11.54|  11.52|     0.03|   12|  1|             0|\n",
      "|     5.673|     ToU|ACORN-E|      Affluent|    236|   5.44|  partly-cloudy-day| 8.88|      0.81|1033.14|  rain|13.23| 0.84|1.0|   12.91|   9.79|     0.07|   12|  2|             0|\n",
      "|     5.649|     ToU|ACORN-E|      Affluent|    225|   3.54|  partly-cloudy-day| 5.47|      0.85|1032.76|  rain|13.39| 0.74|0.0|   10.33|   8.03|      0.1|   12|  3|             0|\n",
      "+----------+--------+-------+--------------+-------+-------+-------------------+-----+----------+-------+------+-----+-----+---+--------+-------+---------+-----+---+--------------+\n",
      "only showing top 20 rows\n",
      "\n"
     ]
    }
   ],
   "source": [
    "model_daily_df.show()"
   ]
  },
  {
   "cell_type": "code",
   "execution_count": 105,
   "id": "international-writing",
   "metadata": {},
   "outputs": [],
   "source": [
    "# prepare data\n",
    "\n",
    "supervised_daily = RFormula(formula=\"energy_sum ~.\")\n",
    "\n",
    "fittedRF_daily = supervised_daily.fit(model_daily_df)"
   ]
  },
  {
   "cell_type": "code",
   "execution_count": 106,
   "id": "dressed-plumbing",
   "metadata": {},
   "outputs": [],
   "source": [
    "# perform 80% train - 20% test split\n",
    "train_daily, test_daily = model_daily_df.randomSplit([0.8, 0.2], seed=63)"
   ]
  },
  {
   "cell_type": "code",
   "execution_count": 107,
   "id": "engaged-immune",
   "metadata": {},
   "outputs": [
    {
     "name": "stdout",
     "output_type": "stream",
     "text": [
      "+----------+--------+-------+--------------+-------+-------+-----------------+----+----------+-------+------+-----+-----+---+--------+-------+---------+-----+---+--------------+--------------------+--------------------+\n",
      "|energy_sum|stdorToU|  Acorn|Socialeconomic|windDir|windSpd|             icon| dew|cloudCover|   pres|precip|  vis|humid| uv|tempHigh|tempLow|moonPhase|month|day|holiday_binary|            features|               label|\n",
      "+----------+--------+-------+--------------+-------+-------+-----------------+----+----------+-------+------+-----+-----+---+--------+-------+---------+-----+---+--------------+--------------------+--------------------+\n",
      "|     0.001|     Std|ACORN-E|      Affluent|    157|   2.19|              fog|2.76|      0.37|1010.13|  rain| 6.36| 0.89|1.0|    7.66|   5.76|     0.66|    1|  3|             0|(64,[0,1,19,23,24...|0.001000000047497...|\n",
      "|     0.001|     Std|ACORN-E|      Affluent|    192|    4.4|             wind|3.88|      0.44|1000.02|  rain|11.67| 0.87|1.0|    8.78|   8.78|     0.15|    1|  1|             0|(64,[0,1,19,23,24...|0.001000000047497...|\n",
      "|     0.001|     Std|ACORN-E|      Affluent|    203|   4.46|partly-cloudy-day|5.21|      0.61| 993.71|  rain|11.27| 0.84|0.0|    9.58|   1.72|     0.12|    1|  7|             0|(64,[0,1,19,23,24...|0.001000000047497...|\n",
      "|     0.001|     Std|ACORN-E|      Affluent|    204|   4.15|partly-cloudy-day|7.02|       0.5|1011.94|  rain|11.99| 0.85|1.0|   11.62|   9.25|     0.26|    1|  4|             0|(64,[0,1,19,23,24...|0.001000000047497...|\n",
      "|     0.001|     Std|ACORN-E|      Affluent|    211|    0.2|              fog|2.59|      0.17|1007.71|  rain| 9.64| 0.89|1.0|    8.44|   1.97|     0.63|    1|  2|             0|(64,[0,1,19,23,24...|0.001000000047497...|\n",
      "+----------+--------+-------+--------------+-------+-------+-----------------+----+----------+-------+------+-----+-----+---+--------+-------+---------+-----+---+--------------+--------------------+--------------------+\n",
      "only showing top 5 rows\n",
      "\n",
      "+----------+--------+-------+--------------+-------+-------+-----------------+-----+----------+-------+------+-----+-----+---+--------+-------+---------+-----+---+--------------+--------------------+--------------------+\n",
      "|energy_sum|stdorToU|  Acorn|Socialeconomic|windDir|windSpd|             icon|  dew|cloudCover|   pres|precip|  vis|humid| uv|tempHigh|tempLow|moonPhase|month|day|holiday_binary|            features|               label|\n",
      "+----------+--------+-------+--------------+-------+-------+-----------------+-----+----------+-------+------+-----+-----+---+--------+-------+---------+-----+---+--------------+--------------------+--------------------+\n",
      "|     0.001|     Std|ACORN-E|      Affluent|    185|   4.72|partly-cloudy-day| 5.77|      0.59|1004.27|  rain|12.13| 0.85|0.0|   10.36|   5.77|     0.96|   12|  3|             0|(64,[0,1,19,23,24...|0.001000000047497...|\n",
      "|     0.001|     Std|ACORN-E|      Affluent|    215|   6.35|             wind|12.75|      0.49|1004.52|  rain|11.31| 0.85|1.0|   16.66|  11.66|     0.73|   10|  6|             0|(64,[0,1,19,23,24...|0.001000000047497...|\n",
      "|     0.001|     Std|ACORN-E|      Affluent|    217|    8.3|             wind| 7.64|      0.58| 994.61|  rain|10.67| 0.78|1.0|   12.37|  10.23|     0.19|    1|  2|             0|(64,[0,1,19,23,24...|0.001000000047497...|\n",
      "|     0.001|     Std|ACORN-E|      Affluent|    245|   6.03|             wind| 4.86|      0.39| 1006.3|  rain|12.63| 0.77|1.0|   10.29|   2.68|     0.29|    1|  5|             0|(64,[0,1,19,23,24...|0.001000000047497...|\n",
      "|     0.001|     Std|ACORN-E|      Affluent|    247|    2.5|partly-cloudy-day| 1.69|      0.29|1004.33|  rain|13.08| 0.81|1.0|    6.82|   5.11|     0.45|    1|  3|             0|(64,[0,1,19,23,24...|0.001000000047497...|\n",
      "+----------+--------+-------+--------------+-------+-------+-----------------+-----+----------+-------+------+-----+-----+---+--------+-------+---------+-----+---+--------------+--------------------+--------------------+\n",
      "only showing top 5 rows\n",
      "\n"
     ]
    }
   ],
   "source": [
    "prepared_daily_train_df = fittedRF_daily.transform(train_daily)\n",
    "prepared_daily_test_df = fittedRF_daily.transform(test_daily)\n",
    "\n",
    "prepared_daily_train_df.show(5)\n",
    "prepared_daily_test_df.show(5)"
   ]
  },
  {
   "cell_type": "code",
   "execution_count": 108,
   "id": "biological-fifty",
   "metadata": {},
   "outputs": [
    {
     "name": "stdout",
     "output_type": "stream",
     "text": [
      "+----------------------------------------------------------------------------------------------------------------------------------------------------------------------------------------------------------------------------------------------------------------------------------+\n",
      "|features                                                                                                                                                                                                                                                                          |\n",
      "+----------------------------------------------------------------------------------------------------------------------------------------------------------------------------------------------------------------------------------------------------------------------------------+\n",
      "|(64,[0,1,19,23,24,27,30,31,32,33,34,35,36,43,44,45,47,58,63],[1.0,1.0,1.0,157.0,2.190000057220459,1.0,2.759999990463257,0.3700000047683716,1010.1300048828125,1.0,6.360000133514404,0.8899999856948853,1.0,7.659999847412109,5.760000228881836,0.6600000262260437,1.0,1.0,1.0])   |\n",
      "|(64,[0,1,19,23,24,26,30,31,32,33,34,35,36,43,44,45,47,63],[1.0,1.0,1.0,192.0,4.400000095367432,1.0,3.880000114440918,0.4399999976158142,1000.02001953125,1.0,11.670000076293945,0.8700000047683716,1.0,8.779999732971191,8.779999732971191,0.15000000596046448,1.0,1.0])          |\n",
      "|(64,[0,1,19,23,24,25,30,31,32,33,34,35,42,43,44,45,47,60,63],[1.0,1.0,1.0,203.0,4.460000038146973,1.0,5.210000038146973,0.6100000143051147,993.7100219726562,1.0,11.270000457763672,0.8399999737739563,1.0,9.579999923706055,1.7200000286102295,0.11999999731779099,1.0,1.0,1.0]) |\n",
      "|(64,[0,1,19,23,24,25,30,31,32,33,34,35,36,43,44,45,47,62,63],[1.0,1.0,1.0,204.0,4.150000095367432,1.0,7.019999980926514,0.5,1011.9400024414062,1.0,11.989999771118164,0.8500000238418579,1.0,11.619999885559082,9.25,0.25999999046325684,1.0,1.0,1.0])                            |\n",
      "|(64,[0,1,19,23,24,27,30,31,32,33,34,35,36,43,44,45,47,59,63],[1.0,1.0,1.0,211.0,0.20000000298023224,1.0,2.5899999141693115,0.17000000178813934,1007.7100219726562,1.0,9.640000343322754,0.8899999856948853,1.0,8.4399995803833,1.9700000286102295,0.6299999952316284,1.0,1.0,1.0])|\n",
      "+----------------------------------------------------------------------------------------------------------------------------------------------------------------------------------------------------------------------------------------------------------------------------------+\n",
      "only showing top 5 rows\n",
      "\n"
     ]
    }
   ],
   "source": [
    "prepared_daily_train_df.select(\"features\").show(5,truncate=False)"
   ]
  },
  {
   "cell_type": "code",
   "execution_count": 109,
   "id": "ideal-circle",
   "metadata": {},
   "outputs": [
    {
     "data": {
      "text/plain": [
       "10.196621989162944"
      ]
     },
     "execution_count": 109,
     "metadata": {},
     "output_type": "execute_result"
    }
   ],
   "source": [
    "mean_energy_daily=model_daily_df.select(avg(col(\"energy_sum\"))).collect()[0][0]\n",
    "mean_energy_daily"
   ]
  },
  {
   "cell_type": "code",
   "execution_count": 110,
   "id": "superb-agreement",
   "metadata": {},
   "outputs": [
    {
     "name": "stdout",
     "output_type": "stream",
     "text": [
      "+-------+------------------+\n",
      "|summary|        energy_sum|\n",
      "+-------+------------------+\n",
      "|  count|           3474964|\n",
      "|   mean|10.196621989162944|\n",
      "| stddev| 9.120938792278329|\n",
      "|    min|             0.001|\n",
      "|    max|           332.556|\n",
      "+-------+------------------+\n",
      "\n"
     ]
    }
   ],
   "source": [
    "model_daily_df.select(\"energy_sum\").describe().show()"
   ]
  },
  {
   "cell_type": "code",
   "execution_count": 111,
   "id": "aggregate-bread",
   "metadata": {},
   "outputs": [
    {
     "name": "stdout",
     "output_type": "stream",
     "text": [
      "Coefficients: [ 1.07 -0.49 -1.74 -0.86  0.7   0.57  2.68  0.    0.62  7.97 -0.13  0.83\n",
      " -2.54  0.4   1.09 -0.81 -0.7   0.93  0.65  0.78 -0.83  0.    0.93 -0.\n",
      "  0.01  0.    0.   -0.03  0.19 -0.22 -0.1   0.53 -0.   -0.6  -0.03  1.12\n",
      "  0.54 -0.35 -0.35  0.27 -0.19  0.    0.45 -0.05  0.    0.    0.58  0.4\n",
      " -0.01 -0.77 -0.79  0.12 -0.62 -0.99 -0.94 -0.81 -0.27 -0.54 -0.47 -0.34\n",
      " -0.23 -0.53 -0.51  0.  ]\n",
      "Intercept: 13.89\n"
     ]
    }
   ],
   "source": [
    "# create linear regression model\n",
    "\n",
    "lr_daily = LinearRegression(featuresCol=\"features\", labelCol=\"label\", maxIter=20, regParam=0.1, elasticNetParam=0.1)\n",
    "\n",
    "lr_daily_model = lr_daily.fit(prepared_daily_train_df)\n",
    "\n",
    "# view model coefficients and intercept\n",
    "\n",
    "print(\"Coefficients: \" + str(np.round(lr_daily_model.coefficients,2)))\n",
    "print(\"Intercept: \" + str(np.round(lr_daily_model.intercept,2)))"
   ]
  },
  {
   "cell_type": "code",
   "execution_count": 112,
   "id": "brazilian-northeast",
   "metadata": {},
   "outputs": [
    {
     "name": "stdout",
     "output_type": "stream",
     "text": [
      "Maximum model coefficient: 7.97\n",
      "Index position of maximum model coefficient: 9\n"
     ]
    },
    {
     "data": {
      "text/plain": [
       "[{'idx': 23, 'name': 'windDir'},\n",
       " {'idx': 24, 'name': 'windSpd'},\n",
       " {'idx': 30, 'name': 'dew'},\n",
       " {'idx': 31, 'name': 'cloudCover'},\n",
       " {'idx': 32, 'name': 'pres'},\n",
       " {'idx': 34, 'name': 'vis'},\n",
       " {'idx': 35, 'name': 'humid'},\n",
       " {'idx': 43, 'name': 'tempHigh'},\n",
       " {'idx': 44, 'name': 'tempLow'},\n",
       " {'idx': 45, 'name': 'moonPhase'},\n",
       " {'idx': 0, 'name': 'stdorToU_Std'},\n",
       " {'idx': 1, 'name': 'Acorn_ACORN-E'},\n",
       " {'idx': 2, 'name': 'Acorn_ACORN-Q'},\n",
       " {'idx': 3, 'name': 'Acorn_ACORN-F'},\n",
       " {'idx': 4, 'name': 'Acorn_ACORN-H'},\n",
       " {'idx': 5, 'name': 'Acorn_ACORN-L'},\n",
       " {'idx': 6, 'name': 'Acorn_ACORN-D'},\n",
       " {'idx': 7, 'name': 'Acorn_ACORN-G'},\n",
       " {'idx': 8, 'name': 'Acorn_ACORN-K'},\n",
       " {'idx': 9, 'name': 'Acorn_ACORN-A'},\n",
       " {'idx': 10, 'name': 'Acorn_ACORN-N'},\n",
       " {'idx': 11, 'name': 'Acorn_ACORN-C'},\n",
       " {'idx': 12, 'name': 'Acorn_ACORN-P'},\n",
       " {'idx': 13, 'name': 'Acorn_ACORN-M'},\n",
       " {'idx': 14, 'name': 'Acorn_ACORN-J'},\n",
       " {'idx': 15, 'name': 'Acorn_ACORN-O'},\n",
       " {'idx': 16, 'name': 'Acorn_ACORN-I'},\n",
       " {'idx': 17, 'name': 'Acorn_ACORN-U'},\n",
       " {'idx': 18, 'name': 'Acorn_ACORN-B'},\n",
       " {'idx': 19, 'name': 'Socialeconomic_Affluent'},\n",
       " {'idx': 20, 'name': 'Socialeconomic_Adversity'},\n",
       " {'idx': 21, 'name': 'Socialeconomic_Comfortable'},\n",
       " {'idx': 22, 'name': 'Socialeconomic_ACORN-U'},\n",
       " {'idx': 25, 'name': 'icon_partly-cloudy-day'},\n",
       " {'idx': 26, 'name': 'icon_wind'},\n",
       " {'idx': 27, 'name': 'icon_fog'},\n",
       " {'idx': 28, 'name': 'icon_partly-cloudy-night'},\n",
       " {'idx': 29, 'name': 'icon_cloudy'},\n",
       " {'idx': 33, 'name': 'precip_rain'},\n",
       " {'idx': 36, 'name': 'uv_1.0'},\n",
       " {'idx': 37, 'name': 'uv_4.0'},\n",
       " {'idx': 38, 'name': 'uv_5.0'},\n",
       " {'idx': 39, 'name': 'uv_2.0'},\n",
       " {'idx': 40, 'name': 'uv_6.0'},\n",
       " {'idx': 41, 'name': 'uv_3.0'},\n",
       " {'idx': 42, 'name': 'uv_0.0'},\n",
       " {'idx': 46, 'name': 'month_12'},\n",
       " {'idx': 47, 'name': 'month_1'},\n",
       " {'idx': 48, 'name': 'month_11'},\n",
       " {'idx': 49, 'name': 'month_10'},\n",
       " {'idx': 50, 'name': 'month_8'},\n",
       " {'idx': 51, 'name': 'month_2'},\n",
       " {'idx': 52, 'name': 'month_7'},\n",
       " {'idx': 53, 'name': 'month_9'},\n",
       " {'idx': 54, 'name': 'month_6'},\n",
       " {'idx': 55, 'name': 'month_5'},\n",
       " {'idx': 56, 'name': 'month_4'},\n",
       " {'idx': 57, 'name': 'day_5'},\n",
       " {'idx': 58, 'name': 'day_3'},\n",
       " {'idx': 59, 'name': 'day_2'},\n",
       " {'idx': 60, 'name': 'day_7'},\n",
       " {'idx': 61, 'name': 'day_6'},\n",
       " {'idx': 62, 'name': 'day_4'},\n",
       " {'idx': 63, 'name': 'holiday_binary_0'}]"
      ]
     },
     "execution_count": 112,
     "metadata": {},
     "output_type": "execute_result"
    }
   ],
   "source": [
    "# view index-to-feature mapping to identify which index position corresponds with which feature\n",
    "\n",
    "coef_daily = lr_daily_model.coefficients\n",
    "\n",
    "print(\"Maximum model coefficient:\", np.round(max(np.abs(coef_daily)),2))\n",
    "print(\"Index position of maximum model coefficient:\", np.argmax(coef_daily))\n",
    "\n",
    "numeric_coeff_daily = prepared_daily_train_df.select(\"features\").schema[0].metadata.get(\n",
    "    'ml_attr').get('attrs').get('numeric')\n",
    "categorical_coeff_daily = prepared_daily_train_df.select(\"features\").schema[0].metadata.get(\n",
    "    'ml_attr').get('attrs').get('binary')\n",
    "\n",
    "model_coeff_daily = numeric_coeff_daily + categorical_coeff_daily \n",
    "model_coeff_daily"
   ]
  },
  {
   "cell_type": "code",
   "execution_count": 113,
   "id": "exceptional-gender",
   "metadata": {},
   "outputs": [
    {
     "name": "stdout",
     "output_type": "stream",
     "text": [
      "RMSE: 8.70\n",
      "r2: 0.090\n"
     ]
    }
   ],
   "source": [
    "# view training R2 and RMSE\n",
    "trainingSummary_daily = lr_daily_model.summary\n",
    "print(\"RMSE: %.2f\" % trainingSummary_daily.rootMeanSquaredError)\n",
    "print(\"r2: %.3f\" % trainingSummary_daily.r2)"
   ]
  },
  {
   "cell_type": "code",
   "execution_count": 114,
   "id": "international-camcorder",
   "metadata": {},
   "outputs": [],
   "source": [
    "# view test predictions\n",
    "lr_daily_predictions = lr_daily_model.transform(prepared_daily_test_df)\n",
    "lr_daily_predictions_df = lr_daily_predictions.select(\"prediction\",\"energy_sum\").toPandas()"
   ]
  },
  {
   "cell_type": "code",
   "execution_count": 115,
   "id": "genetic-cologne",
   "metadata": {},
   "outputs": [
    {
     "data": {
      "text/plain": [
       "count    696380.000000\n",
       "mean         10.198299\n",
       "std           2.670770\n",
       "min           2.769965\n",
       "25%           8.470494\n",
       "50%           9.906351\n",
       "75%          11.807068\n",
       "max          23.414399\n",
       "Name: prediction, dtype: float64"
      ]
     },
     "execution_count": 115,
     "metadata": {},
     "output_type": "execute_result"
    }
   ],
   "source": [
    "# view test predictions\n",
    "lr_daily_predictions_df['prediction'].describe()"
   ]
  },
  {
   "cell_type": "code",
   "execution_count": 116,
   "id": "average-starter",
   "metadata": {},
   "outputs": [
    {
     "data": {
      "image/png": "[encoded data removed]",
      "text/plain": [
       "<Figure size 864x432 with 1 Axes>"
      ]
     },
     "metadata": {
      "needs_background": "light"
     },
     "output_type": "display_data"
    }
   ],
   "source": [
    "# view test predictions as compared to actual energy consumption data \n",
    "plt.figure(figsize=(12,6))\n",
    "plt.scatter(lr_daily_predictions_df['energy_sum'],lr_daily_predictions_df['prediction'])\n",
    "plt.xlabel(\"Actual Daily Energy Consumption (kWh)\")\n",
    "plt.ylabel(\"Predicted Daily Energy Consumption (kWh)\")\n",
    "plt.title(\"Actual vs Predicted Daily Energy Consumption on Test Data\")\n",
    "plt.show()"
   ]
  },
  {
   "cell_type": "code",
   "execution_count": 117,
   "id": "ecological-clerk",
   "metadata": {},
   "outputs": [
    {
     "name": "stdout",
     "output_type": "stream",
     "text": [
      "R Squared (R2) on test data = 0.089\n"
     ]
    }
   ],
   "source": [
    "# view test R2\n",
    "lr_daily_evaluator = RegressionEvaluator(predictionCol=\"prediction\", labelCol=\"energy_sum\",\n",
    "                                        metricName=\"r2\")\n",
    "lr_daily_test_r2 = lr_daily_evaluator.evaluate(lr_daily_predictions)\n",
    "print(\"R Squared (R2) on test data = %.2g\" % lr_daily_test_r2)"
   ]
  },
  {
   "cell_type": "code",
   "execution_count": 118,
   "id": "animal-denmark",
   "metadata": {},
   "outputs": [
    {
     "name": "stdout",
     "output_type": "stream",
     "text": [
      "Root Mean Squared Error (RMSE) on test data = 8.71\n"
     ]
    }
   ],
   "source": [
    "# view test RMSE\n",
    "lr_daily_test_result = lr_daily_model.evaluate(prepared_daily_test_df)\n",
    "print(\"Root Mean Squared Error (RMSE) on test data = %.3g\" % \n",
    "      lr_daily_test_result.rootMeanSquaredError)"
   ]
  },
  {
   "cell_type": "markdown",
   "id": "light-attention",
   "metadata": {},
   "source": [
    "### Decision Tree"
   ]
  },
  {
   "cell_type": "code",
   "execution_count": 119,
   "id": "isolated-ordering",
   "metadata": {},
   "outputs": [],
   "source": [
    "# build decision tree model and fit on the training dataset used for linear regression\n",
    "daily_dt = DecisionTreeRegressor(featuresCol='features')\n",
    "daily_dt_model = daily_dt.fit(prepared_daily_train_df)"
   ]
  },
  {
   "cell_type": "code",
   "execution_count": 120,
   "id": "introductory-seeker",
   "metadata": {},
   "outputs": [
    {
     "name": "stdout",
     "output_type": "stream",
     "text": [
      "+-----------------+--------------------+--------------------+\n",
      "|       prediction|               label|            features|\n",
      "+-----------------+--------------------+--------------------+\n",
      "|12.40950142386265|0.001000000047497...|(64,[0,1,19,23,24...|\n",
      "| 8.34941033777542|0.001000000047497...|(64,[0,1,19,23,24...|\n",
      "|12.40950142386265|0.001000000047497...|(64,[0,1,19,23,24...|\n",
      "|12.40950142386265|0.001000000047497...|(64,[0,1,19,23,24...|\n",
      "|12.40950142386265|0.001000000047497...|(64,[0,1,19,23,24...|\n",
      "+-----------------+--------------------+--------------------+\n",
      "only showing top 5 rows\n",
      "\n"
     ]
    }
   ],
   "source": [
    "# making predictions on test dataset\n",
    "\n",
    "daily_dt_predictions = daily_dt_model.transform(prepared_daily_test_df)\n",
    "daily_dt_predictions.select(\"prediction\", \"label\", \"features\").show(5)"
   ]
  },
  {
   "cell_type": "code",
   "execution_count": 121,
   "id": "impaired-kenya",
   "metadata": {},
   "outputs": [
    {
     "name": "stdout",
     "output_type": "stream",
     "text": [
      "Root Mean Squared Error (RMSE) on test data = 8.75\n"
     ]
    }
   ],
   "source": [
    "# Show decision tree performance\n",
    "\n",
    "# Select (prediction, true label) and compute test error\n",
    "daily_dt_evaluator = RegressionEvaluator(\n",
    "    labelCol=\"label\", predictionCol=\"prediction\", metricName=\"rmse\")\n",
    "daily_dt_rmse = daily_dt_evaluator.evaluate(daily_dt_predictions)\n",
    "print(\"Root Mean Squared Error (RMSE) on test data = %.3g\" % daily_dt_rmse)\n"
   ]
  },
  {
   "cell_type": "code",
   "execution_count": 122,
   "id": "statutory-zambia",
   "metadata": {},
   "outputs": [
    {
     "data": {
      "text/plain": [
       "SparseVector(64, {0: 0.0128, 2: 0.0581, 3: 0.026, 6: 0.0936, 9: 0.3243, 12: 0.0141, 20: 0.1163, 36: 0.001, 37: 0.0006, 43: 0.3519, 46: 0.0003, 50: 0.0002, 55: 0.0008, 58: 0.0001})"
      ]
     },
     "execution_count": 122,
     "metadata": {},
     "output_type": "execute_result"
    }
   ],
   "source": [
    "# View decision tree feature importance\n",
    "# Check with linear regression index-to-feature mapping to identify features with highest magnitude.\n",
    "daily_dt_model.featureImportances"
   ]
  },
  {
   "cell_type": "markdown",
   "id": "bright-relay",
   "metadata": {},
   "source": [
    "#### Random Forest Regression"
   ]
  },
  {
   "cell_type": "code",
   "execution_count": 123,
   "id": "thermal-exclusive",
   "metadata": {},
   "outputs": [],
   "source": [
    "# build random forest model and fit on the training dataset used for linear regression\n",
    "daily_rf = RandomForestRegressor(featuresCol=\"features\")\n",
    "daily_rf_model = daily_rf.fit(prepared_daily_train_df)"
   ]
  },
  {
   "cell_type": "code",
   "execution_count": 124,
   "id": "industrial-people",
   "metadata": {},
   "outputs": [
    {
     "name": "stdout",
     "output_type": "stream",
     "text": [
      "+------------------+--------------------+--------------------+\n",
      "|        prediction|               label|            features|\n",
      "+------------------+--------------------+--------------------+\n",
      "|12.008921380790559|0.001000000047497...|(64,[0,1,19,23,24...|\n",
      "| 9.508962607370705|0.001000000047497...|(64,[0,1,19,23,24...|\n",
      "|11.406650471195688|0.001000000047497...|(64,[0,1,19,23,24...|\n",
      "|12.597117715891931|0.001000000047497...|(64,[0,1,19,23,24...|\n",
      "|12.465459005182565|0.001000000047497...|(64,[0,1,19,23,24...|\n",
      "+------------------+--------------------+--------------------+\n",
      "only showing top 5 rows\n",
      "\n"
     ]
    }
   ],
   "source": [
    "# making predictions on test dataset\n",
    "daily_rf_predictions = daily_rf_model.transform(prepared_daily_test_df)\n",
    "daily_rf_predictions.select(\"prediction\", \"label\", \"features\").show(5)"
   ]
  },
  {
   "cell_type": "code",
   "execution_count": 125,
   "id": "accurate-richards",
   "metadata": {},
   "outputs": [
    {
     "name": "stdout",
     "output_type": "stream",
     "text": [
      "Root Mean Squared Error (RMSE) on test data = 8.74\n"
     ]
    }
   ],
   "source": [
    "# Show random forest tree performance\n",
    "\n",
    "# Select (prediction, true label) and compute test error\n",
    "daily_rf_evaluator = RegressionEvaluator(\n",
    "    labelCol=\"label\", predictionCol=\"prediction\", metricName=\"rmse\")\n",
    "daily_rf_rmse = daily_rf_evaluator.evaluate(daily_rf_predictions)\n",
    "print(\"Root Mean Squared Error (RMSE) on test data = %.3g\" % daily_rf_rmse)"
   ]
  },
  {
   "cell_type": "code",
   "execution_count": 126,
   "id": "signal-watts",
   "metadata": {},
   "outputs": [
    {
     "data": {
      "text/plain": [
       "SparseVector(64, {0: 0.0081, 1: 0.024, 2: 0.0702, 3: 0.0118, 4: 0.0019, 5: 0.0052, 6: 0.0418, 8: 0.0016, 9: 0.2922, 11: 0.0003, 12: 0.004, 13: 0.0002, 14: 0.0009, 15: 0.0001, 17: 0.0007, 19: 0.0399, 20: 0.0975, 21: 0.0063, 23: 0.0001, 24: 0.0001, 25: 0.0, 27: 0.0, 28: 0.0, 30: 0.0697, 31: 0.0003, 32: 0.0001, 33: 0.0001, 34: 0.0001, 35: 0.002, 36: 0.0322, 37: 0.0015, 38: 0.0004, 39: 0.0003, 41: 0.0, 42: 0.0023, 43: 0.1981, 44: 0.076, 45: 0.0001, 46: 0.0004, 47: 0.0039, 48: 0.0001, 49: 0.0029, 50: 0.0005, 51: 0.0, 52: 0.0, 55: 0.0019, 56: 0.0002, 57: 0.0, 58: 0.0, 60: 0.0, 61: 0.0})"
      ]
     },
     "execution_count": 126,
     "metadata": {},
     "output_type": "execute_result"
    }
   ],
   "source": [
    "# View random forest feature importance.  \n",
    "# Check with linear regression index-to-feature mapping to identify features with highest magnitude.\n",
    "daily_rf_model.featureImportances"
   ]
  },
  {
   "cell_type": "markdown",
   "id": "surface-ethernet",
   "metadata": {},
   "source": [
    "### Gradient Boosted Tree Regression"
   ]
  },
  {
   "cell_type": "code",
   "execution_count": 127,
   "id": "accepting-seventh",
   "metadata": {},
   "outputs": [],
   "source": [
    "# build gradient boosted tree model and fit on the training dataset used for linear regression\n",
    "daily_gbt = GBTRegressor(featuresCol=\"features\")\n",
    "daily_gbt_model = daily_gbt.fit(prepared_daily_train_df)"
   ]
  },
  {
   "cell_type": "code",
   "execution_count": 128,
   "id": "studied-capitol",
   "metadata": {},
   "outputs": [
    {
     "name": "stdout",
     "output_type": "stream",
     "text": [
      "+------------------+--------------------+--------------------+\n",
      "|        prediction|               label|            features|\n",
      "+------------------+--------------------+--------------------+\n",
      "| 12.50148310760473|0.001000000047497...|(64,[0,1,19,23,24...|\n",
      "| 8.969642023420574|0.001000000047497...|(64,[0,1,19,23,24...|\n",
      "|12.538030715974894|0.001000000047497...|(64,[0,1,19,23,24...|\n",
      "|12.333155367930322|0.001000000047497...|(64,[0,1,19,23,24...|\n",
      "|12.820850462739088|0.001000000047497...|(64,[0,1,19,23,24...|\n",
      "+------------------+--------------------+--------------------+\n",
      "only showing top 5 rows\n",
      "\n"
     ]
    }
   ],
   "source": [
    "# making predictions on test dataset\n",
    "\n",
    "daily_gbt_predictions = daily_gbt_model.transform(prepared_daily_test_df)\n",
    "daily_gbt_predictions.select(\"prediction\", \"label\", \"features\").show(5)"
   ]
  },
  {
   "cell_type": "code",
   "execution_count": 129,
   "id": "comic-tract",
   "metadata": {},
   "outputs": [
    {
     "name": "stdout",
     "output_type": "stream",
     "text": [
      "Root Mean Squared Error (RMSE) on test data = 8.69\n"
     ]
    }
   ],
   "source": [
    "# Show gradient tree performance\n",
    "\n",
    "# Select (prediction, true label) and compute test error\n",
    "daily_gbt_evaluator = RegressionEvaluator(\n",
    "    labelCol=\"label\", predictionCol=\"prediction\", metricName=\"rmse\")\n",
    "daily_gbt_rmse = daily_gbt_evaluator.evaluate(daily_gbt_predictions)\n",
    "print(\"Root Mean Squared Error (RMSE) on test data = %.3g\" % daily_gbt_rmse)"
   ]
  },
  {
   "cell_type": "code",
   "execution_count": 130,
   "id": "documentary-singles",
   "metadata": {},
   "outputs": [
    {
     "data": {
      "text/plain": [
       "SparseVector(64, {0: 0.0979, 1: 0.0108, 2: 0.0255, 3: 0.019, 4: 0.0172, 5: 0.0001, 6: 0.0353, 7: 0.0033, 8: 0.0025, 9: 0.1193, 10: 0.0067, 11: 0.0315, 12: 0.0568, 13: 0.002, 14: 0.0171, 15: 0.0183, 16: 0.0052, 17: 0.0168, 18: 0.0092, 19: 0.0003, 20: 0.0554, 23: 0.0066, 24: 0.0031, 25: 0.0004, 28: 0.0, 29: 0.0, 30: 0.0106, 31: 0.0037, 32: 0.0069, 33: 0.0002, 34: 0.0041, 35: 0.0038, 36: 0.0227, 37: 0.02, 38: 0.0076, 39: 0.0022, 40: 0.0002, 41: 0.0006, 42: 0.0034, 43: 0.294, 44: 0.0025, 45: 0.0025, 46: 0.0159, 47: 0.0024, 48: 0.0002, 49: 0.0121, 50: 0.0011, 51: 0.0006, 52: 0.0001, 53: 0.0003, 54: 0.0, 55: 0.0067, 56: 0.0035, 57: 0.0018, 58: 0.0029, 59: 0.0014, 60: 0.0003, 61: 0.0023, 62: 0.0027, 63: 0.0002})"
      ]
     },
     "execution_count": 130,
     "metadata": {},
     "output_type": "execute_result"
    }
   ],
   "source": [
    "# View gradient boosted tree feature importance.  \n",
    "# Check with linear regression index-to-feature mapping to identify features with highest magnitude.\n",
    "daily_gbt_model.featureImportances"
   ]
  },
  {
   "cell_type": "markdown",
   "id": "european-threat",
   "metadata": {},
   "source": [
    "## Regression for Single Meter Hourly Dataset"
   ]
  },
  {
   "cell_type": "code",
   "execution_count": 131,
   "id": "exposed-lemon",
   "metadata": {},
   "outputs": [],
   "source": [
    "model_hourly_df = combined_hourly_df.select(\"energy\", \"windDir\", \"windSpd\", \"icon\", \"dew\", \"vis\",\"precip\", \"humid\", \"temp\", \"month\", \"day\", \"hour\", \"holiday_binary\")"
   ]
  },
  {
   "cell_type": "code",
   "execution_count": 132,
   "id": "allied-summit",
   "metadata": {},
   "outputs": [
    {
     "name": "stdout",
     "output_type": "stream",
     "text": [
      "+------+-------+-------+-------------------+----+-----+------+-----+-----+-----+---+----+--------------+\n",
      "|energy|windDir|windSpd|               icon| dew|  vis|precip|humid| temp|month|day|hour|holiday_binary|\n",
      "+------+-------+-------+-------------------+----+-----+------+-----+-----+-----+---+----+--------------+\n",
      "| 0.436|    102|   2.67|  partly-cloudy-day|6.03|13.52|  rain| 0.58|14.13|   10|  4|  13|             0|\n",
      "| 0.609|    108|   2.63|  partly-cloudy-day|6.72|13.52|  rain| 0.61|14.12|   10|  4|  14|             0|\n",
      "| 0.724|    105|   2.89|  partly-cloudy-day|7.43|13.07|  rain| 0.66|13.63|   10|  4|  15|             0|\n",
      "| 0.828|    108|   3.39|  partly-cloudy-day|7.05|13.47|  rain| 0.65|13.47|   10|  4|  16|             0|\n",
      "| 1.295|    116|   2.91|  partly-cloudy-day|6.63|13.44|  rain| 0.66|12.76|   10|  4|  17|             0|\n",
      "| 0.728|    125|   2.74|partly-cloudy-night|6.16|13.34|  rain| 0.67|12.13|   10|  4|  18|             0|\n",
      "| 0.695|    117|   2.45|partly-cloudy-night|6.05|12.76|  rain| 0.71|11.02|   10|  4|  19|             0|\n",
      "| 1.094|    115|   2.33|partly-cloudy-night|5.94|12.55|  rain| 0.75| 10.1|   10|  4|  20|             0|\n",
      "| 0.624|    107|   2.27|partly-cloudy-night|6.03|12.89|  rain| 0.76| 10.0|   10|  4|  21|             0|\n",
      "| 0.436|    105|   2.12|partly-cloudy-night|6.11|12.87|  rain| 0.76|10.18|   10|  4|  22|             0|\n",
      "| 0.354|    108|   2.48|partly-cloudy-night|6.13|12.86|  rain| 0.77|10.05|   10|  4|  23|             0|\n",
      "| 0.399|    110|   2.78|partly-cloudy-night| 6.2|12.81|  rain| 0.79| 9.63|   10|  5|   0|             0|\n",
      "| 0.359|    106|   2.88|partly-cloudy-night|6.64|13.23|  rain|  0.8| 9.99|   10|  5|   1|             0|\n",
      "| 0.347|    111|   3.23|partly-cloudy-night| 6.6|13.87|  rain|  0.8| 9.92|   10|  5|   2|             0|\n",
      "| 0.419|    110|   2.78|partly-cloudy-night|6.66|13.23|  rain| 0.82| 9.61|   10|  5|   3|             0|\n",
      "| 0.376|    100|   3.18|partly-cloudy-night|7.38|12.75|  rain| 0.84| 9.93|   10|  5|   4|             0|\n",
      "| 0.338|     91|   3.21|partly-cloudy-night|7.09|11.57|  rain| 0.87| 9.15|   10|  5|   5|             0|\n",
      "| 0.415|     99|   3.12|partly-cloudy-night|7.29|10.88|  rain| 0.88| 9.19|   10|  5|   6|             0|\n",
      "| 0.638|     99|    3.5|  partly-cloudy-day|7.83| 9.01|  rain| 0.87| 9.83|   10|  5|   7|             0|\n",
      "| 0.811|    107|   3.21|  partly-cloudy-day|8.47| 7.89|  rain| 0.85|10.83|   10|  5|   8|             0|\n",
      "+------+-------+-------+-------------------+----+-----+------+-----+-----+-----+---+----+--------------+\n",
      "only showing top 20 rows\n",
      "\n"
     ]
    }
   ],
   "source": [
    "model_hourly_df.show()"
   ]
  },
  {
   "cell_type": "code",
   "execution_count": 133,
   "id": "alien-installation",
   "metadata": {},
   "outputs": [
    {
     "data": {
      "text/plain": [
       "0.600751693049246"
      ]
     },
     "execution_count": 133,
     "metadata": {},
     "output_type": "execute_result"
    }
   ],
   "source": [
    "mean_energy_hourly=model_hourly_df.select(avg(col(\"energy\"))).collect()[0][0]\n",
    "mean_energy_hourly"
   ]
  },
  {
   "cell_type": "code",
   "execution_count": 134,
   "id": "harmful-recipe",
   "metadata": {},
   "outputs": [
    {
     "name": "stdout",
     "output_type": "stream",
     "text": [
      "+-------+-------------------+\n",
      "|summary|             energy|\n",
      "+-------+-------------------+\n",
      "|  count|              12106|\n",
      "|   mean|  0.600751693049246|\n",
      "| stddev|0.39240966375465336|\n",
      "|    min|              0.132|\n",
      "|    max|              3.831|\n",
      "+-------+-------------------+\n",
      "\n"
     ]
    }
   ],
   "source": [
    "model_hourly_df.select(\"energy\").describe().show()"
   ]
  },
  {
   "cell_type": "code",
   "execution_count": 135,
   "id": "indirect-scholarship",
   "metadata": {},
   "outputs": [
    {
     "name": "stdout",
     "output_type": "stream",
     "text": [
      "Correlation to energy for windDir -0.0\n",
      "Correlation to energy for windSpd 0.12\n",
      "Correlation to energy for dew -0.05\n",
      "Correlation to energy for vis 0.03\n",
      "Correlation to energy for humid 0.0\n",
      "Correlation to energy for temp -0.05\n"
     ]
    }
   ],
   "source": [
    "# correlation of numerical features vs. energy_sum\n",
    "# citing https://towardsdatascience.com/building-a-linear-regression-with-pyspark-and-\n",
    "# mllib-d065c3ba246a for code reference\n",
    "\n",
    "for i in model_hourly_df.columns:\n",
    "    if i not in \"energy\":\n",
    "        if not( isinstance(model_hourly_df.select(i).take(1)[0][0], str)):\n",
    "            print( \"Correlation to energy for\", i, round(model_hourly_df.stat.corr('energy',i),2))"
   ]
  },
  {
   "cell_type": "code",
   "execution_count": 136,
   "id": "about-beatles",
   "metadata": {},
   "outputs": [],
   "source": [
    "# prepare data\n",
    "\n",
    "supervised_hourly = RFormula(formula=\"energy ~ .\")\n",
    "\n",
    "fittedRF_hourly = supervised_hourly.fit(model_hourly_df)"
   ]
  },
  {
   "cell_type": "code",
   "execution_count": 137,
   "id": "unlimited-coalition",
   "metadata": {},
   "outputs": [],
   "source": [
    "# perform 80% train - 20% test split\n",
    "train_hourly, test_hourly = model_hourly_df.randomSplit([0.8, 0.2], seed=63)"
   ]
  },
  {
   "cell_type": "code",
   "execution_count": 138,
   "id": "appropriate-ocean",
   "metadata": {},
   "outputs": [
    {
     "name": "stdout",
     "output_type": "stream",
     "text": [
      "+------+-------+-------+-----------------+-----+-----+------+-----+-----+-----+---+----+--------------+--------------------+-------------------+\n",
      "|energy|windDir|windSpd|             icon|  dew|  vis|precip|humid| temp|month|day|hour|holiday_binary|            features|              label|\n",
      "+------+-------+-------+-----------------+-----+-----+------+-----+-----+-----+---+----+--------------+--------------------+-------------------+\n",
      "| 0.142|    276|   3.54|      clear-night| 2.73|13.53|  rain| 0.78| 6.32|    5|  5|  23|             0|(54,[0,1,3,8,9,10...| 0.1420000046491623|\n",
      "| 0.147|     23|   4.07|      clear-night|-1.88|13.02|  snow| 0.84|  0.5|    4|  4|   4|             0|(54,[0,1,3,8,9,11...| 0.1469999998807907|\n",
      "| 0.149|     36|   3.77|      clear-night|-2.86|13.92|  snow| 0.78| 0.48|    4|  3|   4|             0|(54,[0,1,3,8,9,11...|0.14900000393390656|\n",
      "| 0.152|    153|   1.93|partly-cloudy-day| 4.08|12.26|  rain| 0.52|13.78|    5|  5|  11|             0|(54,[0,1,2,8,9,10...|0.15199999511241913|\n",
      "| 0.154|     27|   4.61|      clear-night|-1.89|12.86|  rain| 0.79| 1.36|    4|  5|   3|             0|(54,[0,1,3,8,9,10...|0.15399999916553497|\n",
      "+------+-------+-------+-----------------+-----+-----+------+-----+-----+-----+---+----+--------------+--------------------+-------------------+\n",
      "only showing top 5 rows\n",
      "\n",
      "+------+-------+-------+-----------------+-----+-----+------+-----+-----+-----+---+----+--------------+--------------------+-------------------+\n",
      "|energy|windDir|windSpd|             icon|  dew|  vis|precip|humid| temp|month|day|hour|holiday_binary|            features|              label|\n",
      "+------+-------+-------+-----------------+-----+-----+------+-----+-----+-----+---+----+--------------+--------------------+-------------------+\n",
      "| 0.132|    314|   4.72|partly-cloudy-day| 2.34|11.78|  rain| 0.73| 6.84|    5|  5|   6|             0|(54,[0,1,2,8,9,10...|0.13199999928474426|\n",
      "| 0.146|    355|   3.09|      clear-night|-0.97|11.73|  snow| 0.87| 0.95|    4|  7|   4|             0|(54,[0,1,3,8,9,11...| 0.1459999978542328|\n",
      "| 0.153|    288|   2.34|      clear-night| 3.54|14.21|  rain| 0.82| 6.38|    5|  1|   4|             0|(54,[0,1,3,8,9,10...|0.15299999713897705|\n",
      "| 0.158|    278|   3.09|partly-cloudy-day| 3.18|16.09|  rain|  0.4|17.01|    5|  6|  11|             0|(54,[0,1,2,8,9,10...|0.15800000727176666|\n",
      "| 0.163|    236|   1.17|      clear-night| 1.27| 8.93|  rain| 0.93| 2.29|   11|  7|   4|             0|(54,[0,1,3,8,9,10...|0.16300000250339508|\n",
      "+------+-------+-------+-----------------+-----+-----+------+-----+-----+-----+---+----+--------------+--------------------+-------------------+\n",
      "only showing top 5 rows\n",
      "\n"
     ]
    }
   ],
   "source": [
    "prepared_hourly_train_df = fittedRF_hourly.transform(train_hourly)\n",
    "prepared_hourly_test_df = fittedRF_hourly.transform(test_hourly)\n",
    "\n",
    "prepared_hourly_train_df.show(5)\n",
    "prepared_hourly_test_df.show(5)"
   ]
  },
  {
   "cell_type": "code",
   "execution_count": 139,
   "id": "graphic-person",
   "metadata": {},
   "outputs": [
    {
     "name": "stdout",
     "output_type": "stream",
     "text": [
      "+-------------------------------------------------------------------------------------------------------------------------------------------------------------------+\n",
      "|features                                                                                                                                                           |\n",
      "+-------------------------------------------------------------------------------------------------------------------------------------------------------------------+\n",
      "|(54,[0,1,3,8,9,10,11,12,19,24,45,53],[276.0,3.5399999618530273,1.0,2.7300000190734863,13.529999732971191,1.0,0.7799999713897705,6.320000171661377,1.0,1.0,1.0,1.0])|\n",
      "|(54,[0,1,3,8,9,11,12,22,25,46,53],[23.0,4.070000171661377,1.0,-1.8799999952316284,13.020000457763672,0.8399999737739563,0.5,1.0,1.0,1.0,1.0])                      |\n",
      "|(54,[0,1,3,8,9,11,12,22,28,46,53],[36.0,3.7699999809265137,1.0,-2.859999895095825,13.920000076293945,0.7799999713897705,0.47999998927116394,1.0,1.0,1.0,1.0])      |\n",
      "|(54,[0,1,2,8,9,10,11,12,19,24,51,53],[153.0,1.9299999475479126,1.0,4.079999923706055,12.260000228881836,1.0,0.5199999809265137,13.779999732971191,1.0,1.0,1.0,1.0])|\n",
      "|(54,[0,1,3,8,9,10,11,12,22,24,30,53],[27.0,4.610000133514404,1.0,-1.8899999856948853,12.859999656677246,1.0,0.7900000214576721,1.3600000143051147,1.0,1.0,1.0,1.0])|\n",
      "+-------------------------------------------------------------------------------------------------------------------------------------------------------------------+\n",
      "only showing top 5 rows\n",
      "\n"
     ]
    }
   ],
   "source": [
    "prepared_hourly_train_df.select(\"features\").show(5,truncate=False)"
   ]
  },
  {
   "cell_type": "code",
   "execution_count": 140,
   "id": "widespread-majority",
   "metadata": {},
   "outputs": [
    {
     "name": "stdout",
     "output_type": "stream",
     "text": [
      "Coefficients: [ 0.    0.01  0.   -0.02  0.06  0.    0.    0.    0.    0.    0.    0.04\n",
      " -0.    0.07  0.08 -0.01  0.02  0.    0.   -0.17 -0.02  0.   -0.12 -0.04\n",
      "  0.    0.   -0.01  0.    0.    0.   -0.14  0.    0.    0.    0.05  0.21\n",
      "  0.34  0.35  0.34  0.35  0.13 -0.14 -0.13  0.    0.   -0.04 -0.14 -0.15\n",
      " -0.15 -0.12  0.    0.   -0.14  0.  ]\n",
      "Intercept: 0.5\n"
     ]
    }
   ],
   "source": [
    "# create linear regression model\n",
    "\n",
    "lr_hourly = LinearRegression(featuresCol=\"features\", labelCol=\"label\", maxIter=20, regParam=0.1, elasticNetParam=0.1)\n",
    "\n",
    "lr_hourly_model = lr_hourly.fit(prepared_hourly_train_df)\n",
    "\n",
    "# view model coefficients and intercept\n",
    "print(\"Coefficients: \" + str(np.round(lr_hourly_model.coefficients,2)))\n",
    "print(\"Intercept: \" + str(np.round(lr_hourly_model.intercept,2)))"
   ]
  },
  {
   "cell_type": "code",
   "execution_count": 141,
   "id": "innovative-lloyd",
   "metadata": {},
   "outputs": [
    {
     "name": "stdout",
     "output_type": "stream",
     "text": [
      "Maximum model coefficient: 0.35\n",
      "Index position of maximum model coefficient: 37\n"
     ]
    },
    {
     "data": {
      "text/plain": [
       "[{'idx': 0, 'name': 'windDir'},\n",
       " {'idx': 1, 'name': 'windSpd'},\n",
       " {'idx': 8, 'name': 'dew'},\n",
       " {'idx': 9, 'name': 'vis'},\n",
       " {'idx': 11, 'name': 'humid'},\n",
       " {'idx': 12, 'name': 'temp'},\n",
       " {'idx': 2, 'name': 'icon_partly-cloudy-day'},\n",
       " {'idx': 3, 'name': 'icon_clear-night'},\n",
       " {'idx': 4, 'name': 'icon_partly-cloudy-night'},\n",
       " {'idx': 5, 'name': 'icon_cloudy'},\n",
       " {'idx': 6, 'name': 'icon_wind'},\n",
       " {'idx': 7, 'name': 'icon_clear-day'},\n",
       " {'idx': 10, 'name': 'precip_rain'},\n",
       " {'idx': 13, 'name': 'month_12'},\n",
       " {'idx': 14, 'name': 'month_1'},\n",
       " {'idx': 15, 'name': 'month_11'},\n",
       " {'idx': 16, 'name': 'month_2'},\n",
       " {'idx': 17, 'name': 'month_10'},\n",
       " {'idx': 18, 'name': 'month_3'},\n",
       " {'idx': 19, 'name': 'month_5'},\n",
       " {'idx': 20, 'name': 'month_7'},\n",
       " {'idx': 21, 'name': 'month_8'},\n",
       " {'idx': 22, 'name': 'month_4'},\n",
       " {'idx': 23, 'name': 'month_6'},\n",
       " {'idx': 24, 'name': 'day_5'},\n",
       " {'idx': 25, 'name': 'day_4'},\n",
       " {'idx': 26, 'name': 'day_6'},\n",
       " {'idx': 27, 'name': 'day_7'},\n",
       " {'idx': 28, 'name': 'day_3'},\n",
       " {'idx': 29, 'name': 'day_2'},\n",
       " {'idx': 30, 'name': 'hour_3'},\n",
       " {'idx': 31, 'name': 'hour_13'},\n",
       " {'idx': 32, 'name': 'hour_14'},\n",
       " {'idx': 33, 'name': 'hour_15'},\n",
       " {'idx': 34, 'name': 'hour_16'},\n",
       " {'idx': 35, 'name': 'hour_17'},\n",
       " {'idx': 36, 'name': 'hour_18'},\n",
       " {'idx': 37, 'name': 'hour_19'},\n",
       " {'idx': 38, 'name': 'hour_20'},\n",
       " {'idx': 39, 'name': 'hour_21'},\n",
       " {'idx': 40, 'name': 'hour_22'},\n",
       " {'idx': 41, 'name': 'hour_0'},\n",
       " {'idx': 42, 'name': 'hour_1'},\n",
       " {'idx': 43, 'name': 'hour_10'},\n",
       " {'idx': 44, 'name': 'hour_12'},\n",
       " {'idx': 45, 'name': 'hour_23'},\n",
       " {'idx': 46, 'name': 'hour_4'},\n",
       " {'idx': 47, 'name': 'hour_5'},\n",
       " {'idx': 48, 'name': 'hour_6'},\n",
       " {'idx': 49, 'name': 'hour_7'},\n",
       " {'idx': 50, 'name': 'hour_9'},\n",
       " {'idx': 51, 'name': 'hour_11'},\n",
       " {'idx': 52, 'name': 'hour_2'},\n",
       " {'idx': 53, 'name': 'holiday_binary_0'}]"
      ]
     },
     "execution_count": 141,
     "metadata": {},
     "output_type": "execute_result"
    }
   ],
   "source": [
    "# view index-to-feature mapping to identify which index position corresponds with which feature\n",
    "\n",
    "coef_hourly = lr_hourly_model.coefficients\n",
    "\n",
    "print(\"Maximum model coefficient:\", np.round(max(np.abs(coef_hourly)),2))\n",
    "print(\"Index position of maximum model coefficient:\", np.argmax(coef_hourly))\n",
    "\n",
    "numeric_coeff_hourly = prepared_hourly_train_df.select(\"features\").schema[0].metadata.get(\n",
    "    'ml_attr').get('attrs').get('numeric')\n",
    "categorical_coeff_hourly = prepared_hourly_train_df.select(\"features\").schema[0].metadata.get(\n",
    "    'ml_attr').get('attrs').get('binary')\n",
    "\n",
    "model_coeff_hourly = numeric_coeff_hourly + categorical_coeff_hourly \n",
    "model_coeff_hourly"
   ]
  },
  {
   "cell_type": "code",
   "execution_count": 142,
   "id": "knowing-garden",
   "metadata": {},
   "outputs": [
    {
     "name": "stdout",
     "output_type": "stream",
     "text": [
      "RMSE: 0.30\n",
      "r2: 0.44\n"
     ]
    }
   ],
   "source": [
    "# view training R2 and RMSE\n",
    "\n",
    "trainingSummary_hourly = lr_hourly_model.summary\n",
    "print(\"RMSE: %.2f\" % trainingSummary_hourly.rootMeanSquaredError)\n",
    "print(\"r2: %.2f\" % trainingSummary_hourly.r2)"
   ]
  },
  {
   "cell_type": "code",
   "execution_count": 143,
   "id": "located-remedy",
   "metadata": {},
   "outputs": [],
   "source": [
    "# view test predictions\n",
    "lr_hourly_predictions = lr_hourly_model.transform(prepared_hourly_test_df)\n",
    "lr_hourly_predictions_df = lr_hourly_predictions.select(\"prediction\",\"energy\").toPandas()"
   ]
  },
  {
   "cell_type": "code",
   "execution_count": 144,
   "id": "broke-manchester",
   "metadata": {},
   "outputs": [
    {
     "data": {
      "text/html": [
       "<div>\n",
       "<style scoped>\n",
       "    .dataframe tbody tr th:only-of-type {\n",
       "        vertical-align: middle;\n",
       "    }\n",
       "\n",
       "    .dataframe tbody tr th {\n",
       "        vertical-align: top;\n",
       "    }\n",
       "\n",
       "    .dataframe thead th {\n",
       "        text-align: right;\n",
       "    }\n",
       "</style>\n",
       "<table border=\"1\" class=\"dataframe\">\n",
       "  <thead>\n",
       "    <tr style=\"text-align: right;\">\n",
       "      <th></th>\n",
       "      <th>prediction</th>\n",
       "      <th>energy</th>\n",
       "    </tr>\n",
       "  </thead>\n",
       "  <tbody>\n",
       "    <tr>\n",
       "      <th>count</th>\n",
       "      <td>2449.000000</td>\n",
       "      <td>2449.000000</td>\n",
       "    </tr>\n",
       "    <tr>\n",
       "      <th>mean</th>\n",
       "      <td>0.595825</td>\n",
       "      <td>0.593989</td>\n",
       "    </tr>\n",
       "    <tr>\n",
       "      <th>std</th>\n",
       "      <td>0.188664</td>\n",
       "      <td>0.383963</td>\n",
       "    </tr>\n",
       "    <tr>\n",
       "      <th>min</th>\n",
       "      <td>0.205937</td>\n",
       "      <td>0.132000</td>\n",
       "    </tr>\n",
       "    <tr>\n",
       "      <th>25%</th>\n",
       "      <td>0.467950</td>\n",
       "      <td>0.356000</td>\n",
       "    </tr>\n",
       "    <tr>\n",
       "      <th>50%</th>\n",
       "      <td>0.565002</td>\n",
       "      <td>0.442000</td>\n",
       "    </tr>\n",
       "    <tr>\n",
       "      <th>75%</th>\n",
       "      <td>0.670405</td>\n",
       "      <td>0.734000</td>\n",
       "    </tr>\n",
       "    <tr>\n",
       "      <th>max</th>\n",
       "      <td>1.087038</td>\n",
       "      <td>2.676000</td>\n",
       "    </tr>\n",
       "  </tbody>\n",
       "</table>\n",
       "</div>"
      ],
      "text/plain": [
       "        prediction       energy\n",
       "count  2449.000000  2449.000000\n",
       "mean      0.595825     0.593989\n",
       "std       0.188664     0.383963\n",
       "min       0.205937     0.132000\n",
       "25%       0.467950     0.356000\n",
       "50%       0.565002     0.442000\n",
       "75%       0.670405     0.734000\n",
       "max       1.087038     2.676000"
      ]
     },
     "execution_count": 144,
     "metadata": {},
     "output_type": "execute_result"
    }
   ],
   "source": [
    "lr_hourly_predictions_df.describe()"
   ]
  },
  {
   "cell_type": "code",
   "execution_count": 145,
   "id": "tribal-enterprise",
   "metadata": {},
   "outputs": [
    {
     "data": {
      "image/png": "[encoded data removed]",
      "text/plain": [
       "<Figure size 864x432 with 1 Axes>"
      ]
     },
     "metadata": {
      "needs_background": "light"
     },
     "output_type": "display_data"
    }
   ],
   "source": [
    "# view test predictions as compared to the actual hourly energy consumption data\n",
    "\n",
    "plt.figure(figsize=(12,6))\n",
    "plt.scatter(lr_hourly_predictions_df['energy'],lr_hourly_predictions_df['prediction'])\n",
    "plt.xlabel(\"Actual Hourly Energy Consumption (kWh/hr)\")\n",
    "plt.ylabel(\"Predicted Hourly Energy Consumption (kWh/hr)\")\n",
    "plt.ylim(0,2.5)\n",
    "plt.title(\"Actual vs Predicted Hourly Energy Consumption on Test Data\")\n",
    "plt.show()"
   ]
  },
  {
   "cell_type": "code",
   "execution_count": 146,
   "id": "early-cursor",
   "metadata": {},
   "outputs": [
    {
     "name": "stdout",
     "output_type": "stream",
     "text": [
      "R Squared (R2) on test data = 0.45\n"
     ]
    }
   ],
   "source": [
    "# view test R2 \n",
    "\n",
    "lr_hourly_evaluator = RegressionEvaluator(predictionCol=\"prediction\", labelCol=\"energy\",\n",
    "                                        metricName=\"r2\")\n",
    "\n",
    "lr_hourly_test_r2 = lr_hourly_evaluator.evaluate(lr_hourly_predictions)\n",
    "print(\"R Squared (R2) on test data = %.2g\" % lr_hourly_test_r2)"
   ]
  },
  {
   "cell_type": "code",
   "execution_count": 147,
   "id": "technical-stake",
   "metadata": {},
   "outputs": [
    {
     "name": "stdout",
     "output_type": "stream",
     "text": [
      "Root Mean Squared Error (RMSE) on test data = 0.29\n"
     ]
    }
   ],
   "source": [
    "# view test R2 \n",
    "\n",
    "lr_hourly_test_result = lr_hourly_model.evaluate(prepared_hourly_test_df)\n",
    "print(\"Root Mean Squared Error (RMSE) on test data = %.2g\" % \n",
    "      lr_hourly_test_result.rootMeanSquaredError)"
   ]
  },
  {
   "cell_type": "markdown",
   "id": "appreciated-roller",
   "metadata": {},
   "source": [
    "#### Decision Tree"
   ]
  },
  {
   "cell_type": "code",
   "execution_count": 148,
   "id": "inner-cuisine",
   "metadata": {},
   "outputs": [],
   "source": [
    "# build decision tree model and fit on the training dataset used for linear regression\n",
    "hourly_dt = DecisionTreeRegressor(featuresCol='features')\n",
    "hourly_dt_model = hourly_dt.fit(prepared_hourly_train_df)"
   ]
  },
  {
   "cell_type": "code",
   "execution_count": 149,
   "id": "insured-transparency",
   "metadata": {},
   "outputs": [
    {
     "name": "stdout",
     "output_type": "stream",
     "text": [
      "+-------------------+-------------------+--------------------+\n",
      "|         prediction|              label|            features|\n",
      "+-------------------+-------------------+--------------------+\n",
      "|0.48844852541358047|0.13199999928474426|(54,[0,1,2,8,9,10...|\n",
      "|0.48844852541358047| 0.1459999978542328|(54,[0,1,3,8,9,11...|\n",
      "|0.48844852541358047|0.15299999713897705|(54,[0,1,3,8,9,10...|\n",
      "|0.48844852541358047|0.15800000727176666|(54,[0,1,2,8,9,10...|\n",
      "|0.48844852541358047|0.16300000250339508|(54,[0,1,3,8,9,10...|\n",
      "+-------------------+-------------------+--------------------+\n",
      "only showing top 5 rows\n",
      "\n"
     ]
    }
   ],
   "source": [
    "# making predictions on test dataset\n",
    "\n",
    "hourly_dt_predictions = hourly_dt_model.transform(prepared_hourly_test_df)\n",
    "hourly_dt_predictions.select(\"prediction\", \"label\", \"features\").show(5)"
   ]
  },
  {
   "cell_type": "code",
   "execution_count": 150,
   "id": "posted-extent",
   "metadata": {},
   "outputs": [
    {
     "name": "stdout",
     "output_type": "stream",
     "text": [
      "Root Mean Squared Error (RMSE) on test data = 0.31\n"
     ]
    }
   ],
   "source": [
    "# Show decision tree performance\n",
    "\n",
    "# Select (prediction, true label) and compute test error\n",
    "hourly_dt_evaluator = RegressionEvaluator(\n",
    "    labelCol=\"label\", predictionCol=\"prediction\", metricName=\"rmse\")\n",
    "hourly_dt_rmse = hourly_dt_evaluator.evaluate(hourly_dt_predictions)\n",
    "print(\"Root Mean Squared Error (RMSE) on test data = %.2g\" % hourly_dt_rmse)"
   ]
  },
  {
   "cell_type": "code",
   "execution_count": 151,
   "id": "reflected-workstation",
   "metadata": {},
   "outputs": [
    {
     "data": {
      "text/plain": [
       "SparseVector(54, {0: 0.0012, 1: 0.0125, 2: 0.0352, 5: 0.0005, 9: 0.0009, 11: 0.0075, 12: 0.0714, 15: 0.0048, 19: 0.0155, 20: 0.0036, 22: 0.0092, 23: 0.0041, 28: 0.0005, 29: 0.0006, 35: 0.1082, 36: 0.2011, 37: 0.1691, 38: 0.1693, 39: 0.1848})"
      ]
     },
     "execution_count": 151,
     "metadata": {},
     "output_type": "execute_result"
    }
   ],
   "source": [
    "# View decision tree feature importance\n",
    "# Check with linear regression index-to-feature mapping to identify features with highest magnitude.\n",
    "\n",
    "hourly_dt_model.featureImportances"
   ]
  },
  {
   "cell_type": "markdown",
   "id": "severe-career",
   "metadata": {},
   "source": [
    "#### Random Forest"
   ]
  },
  {
   "cell_type": "code",
   "execution_count": 152,
   "id": "pursuant-click",
   "metadata": {},
   "outputs": [],
   "source": [
    "# build random forest model and fit on the training dataset used for linear regression\n",
    "\n",
    "hourly_rf = RandomForestRegressor(featuresCol=\"features\")\n",
    "hourly_rf_model = hourly_rf.fit(prepared_hourly_train_df)"
   ]
  },
  {
   "cell_type": "code",
   "execution_count": 153,
   "id": "brutal-radical",
   "metadata": {},
   "outputs": [
    {
     "name": "stdout",
     "output_type": "stream",
     "text": [
      "+-------------------+-------------------+--------------------+\n",
      "|         prediction|              label|            features|\n",
      "+-------------------+-------------------+--------------------+\n",
      "|0.43939069106270195|0.13199999928474426|(54,[0,1,2,8,9,10...|\n",
      "|0.49021827635947135| 0.1459999978542328|(54,[0,1,3,8,9,11...|\n",
      "| 0.4021700884896978|0.15299999713897705|(54,[0,1,3,8,9,10...|\n",
      "| 0.4450608263335571|0.15800000727176666|(54,[0,1,2,8,9,10...|\n",
      "|0.49021827635947135|0.16300000250339508|(54,[0,1,3,8,9,10...|\n",
      "+-------------------+-------------------+--------------------+\n",
      "only showing top 5 rows\n",
      "\n"
     ]
    }
   ],
   "source": [
    "# making predictions on test dataset\n",
    "\n",
    "hourly_rf_predictions = hourly_rf_model.transform(prepared_hourly_test_df)\n",
    "hourly_rf_predictions.select(\"prediction\", \"label\", \"features\").show(5)"
   ]
  },
  {
   "cell_type": "code",
   "execution_count": 154,
   "id": "ranging-endorsement",
   "metadata": {},
   "outputs": [
    {
     "name": "stdout",
     "output_type": "stream",
     "text": [
      "Root Mean Squared Error (RMSE) on test data = 0.3\n"
     ]
    }
   ],
   "source": [
    "# Show random forest tree performance\n",
    "\n",
    "# Select (prediction, true label) and compute test error\n",
    "hourly_rf_evaluator = RegressionEvaluator(\n",
    "    labelCol=\"label\", predictionCol=\"prediction\", metricName=\"rmse\")\n",
    "hourly_rf_rmse = hourly_rf_evaluator.evaluate(hourly_rf_predictions)\n",
    "print(\"Root Mean Squared Error (RMSE) on test data = %.2g\" % hourly_rf_rmse)"
   ]
  },
  {
   "cell_type": "code",
   "execution_count": 155,
   "id": "reflected-watson",
   "metadata": {},
   "outputs": [
    {
     "data": {
      "text/plain": [
       "SparseVector(54, {0: 0.0038, 1: 0.0119, 2: 0.0104, 3: 0.0122, 4: 0.0655, 5: 0.0003, 6: 0.0004, 7: 0.0009, 8: 0.0117, 9: 0.0094, 11: 0.0256, 12: 0.044, 13: 0.0095, 14: 0.0144, 15: 0.0016, 16: 0.004, 17: 0.0002, 18: 0.0, 19: 0.0311, 20: 0.0008, 21: 0.0003, 22: 0.002, 23: 0.0005, 24: 0.0003, 25: 0.0017, 26: 0.001, 27: 0.0024, 28: 0.0008, 29: 0.0015, 30: 0.0035, 32: 0.0001, 35: 0.0474, 36: 0.1696, 37: 0.185, 38: 0.1561, 39: 0.1495, 40: 0.008, 41: 0.001, 45: 0.0, 46: 0.0022, 48: 0.0024, 49: 0.0028, 52: 0.004, 53: 0.0005})"
      ]
     },
     "execution_count": 155,
     "metadata": {},
     "output_type": "execute_result"
    }
   ],
   "source": [
    "# View random forest feature importance.  \n",
    "# Check with linear regression index-to-feature mapping to identify features with highest magnitude.\n",
    "\n",
    "hourly_rf_model.featureImportances"
   ]
  },
  {
   "cell_type": "markdown",
   "id": "bronze-magic",
   "metadata": {},
   "source": [
    "#### Gradient Boosted Tree Regression"
   ]
  },
  {
   "cell_type": "code",
   "execution_count": 156,
   "id": "thorough-support",
   "metadata": {},
   "outputs": [],
   "source": [
    "# build gradient boosted tree model and fit on the training dataset used for linear regression\n",
    "\n",
    "hourly_gbt = GBTRegressor(featuresCol=\"features\")\n",
    "hourly_gbt_model = hourly_gbt.fit(prepared_hourly_train_df)"
   ]
  },
  {
   "cell_type": "code",
   "execution_count": 157,
   "id": "clean-execution",
   "metadata": {},
   "outputs": [
    {
     "name": "stdout",
     "output_type": "stream",
     "text": [
      "+-------------------+-------------------+--------------------+\n",
      "|         prediction|              label|            features|\n",
      "+-------------------+-------------------+--------------------+\n",
      "| 0.2693043978400851|0.13199999928474426|(54,[0,1,2,8,9,10...|\n",
      "| 0.2288880997289212| 0.1459999978542328|(54,[0,1,3,8,9,11...|\n",
      "|0.23100066877841569|0.15299999713897705|(54,[0,1,3,8,9,10...|\n",
      "| 0.3106264801036512|0.15800000727176666|(54,[0,1,2,8,9,10...|\n",
      "|0.33202708304816847|0.16300000250339508|(54,[0,1,3,8,9,10...|\n",
      "+-------------------+-------------------+--------------------+\n",
      "only showing top 5 rows\n",
      "\n"
     ]
    }
   ],
   "source": [
    "# making predictions on test dataset\n",
    "\n",
    "hourly_gbt_predictions = hourly_gbt_model.transform(prepared_hourly_test_df)\n",
    "hourly_gbt_predictions.select(\"prediction\", \"label\", \"features\").show(5)"
   ]
  },
  {
   "cell_type": "code",
   "execution_count": 158,
   "id": "blind-occasions",
   "metadata": {},
   "outputs": [
    {
     "name": "stdout",
     "output_type": "stream",
     "text": [
      "Root Mean Squared Error (RMSE) on test data = 0.26\n"
     ]
    }
   ],
   "source": [
    "# Show gradient tree performance\n",
    "\n",
    "# Select (prediction, true label) and compute test error\n",
    "hourly_gbt_evaluator = RegressionEvaluator(\n",
    "    labelCol=\"label\", predictionCol=\"prediction\", metricName=\"rmse\")\n",
    "hourly_gbt_rmse = hourly_gbt_evaluator.evaluate(hourly_gbt_predictions)\n",
    "print(\"Root Mean Squared Error (RMSE) on test data = %.2g\" % hourly_gbt_rmse)"
   ]
  },
  {
   "cell_type": "code",
   "execution_count": 159,
   "id": "built-scanning",
   "metadata": {},
   "outputs": [
    {
     "data": {
      "text/plain": [
       "SparseVector(54, {0: 0.0301, 1: 0.0394, 2: 0.0445, 3: 0.0449, 4: 0.0107, 5: 0.001, 6: 0.0, 7: 0.0002, 8: 0.0252, 9: 0.0242, 11: 0.0487, 12: 0.0884, 13: 0.0358, 14: 0.0391, 15: 0.0097, 16: 0.0124, 17: 0.0016, 18: 0.0116, 19: 0.0643, 20: 0.0005, 22: 0.0555, 23: 0.0021, 24: 0.0015, 25: 0.0001, 26: 0.0044, 27: 0.0012, 28: 0.0026, 29: 0.0015, 30: 0.008, 31: 0.0052, 32: 0.0076, 33: 0.0055, 34: 0.0351, 35: 0.0251, 36: 0.0333, 37: 0.0276, 38: 0.0294, 39: 0.0345, 40: 0.1017, 41: 0.0071, 42: 0.0069, 44: 0.0079, 46: 0.0096, 47: 0.0108, 48: 0.0169, 49: 0.0122, 51: 0.0032, 52: 0.0098, 53: 0.0013})"
      ]
     },
     "execution_count": 159,
     "metadata": {},
     "output_type": "execute_result"
    }
   ],
   "source": [
    "# View gradient boosted tree feature importance.  \n",
    "# Check with linear regression index-to-feature mapping to identify features with highest magnitude.\n",
    "\n",
    "hourly_gbt_model.featureImportances"
   ]
  },
  {
   "cell_type": "markdown",
   "id": "muslim-behalf",
   "metadata": {},
   "source": [
    "### Model Summary\n"
   ]
  },
  {
   "cell_type": "code",
   "execution_count": 160,
   "id": "based-shell",
   "metadata": {},
   "outputs": [],
   "source": [
    "# create a table to summarize the results across all models\n",
    "result_data = {'Overall Daily Model':  [mean_energy_daily, lr_daily_test_r2, lr_daily_test_result.rootMeanSquaredError, daily_dt_rmse, daily_rf_rmse, daily_gbt_rmse],\n",
    "        'Single Meter Hourly Model': [mean_energy_hourly, lr_hourly_test_r2, lr_hourly_test_result.rootMeanSquaredError, hourly_dt_rmse, hourly_rf_rmse, hourly_gbt_rmse],\n",
    "        'Model': ['Mean Energy Consumption (kWh or kWh/hr)','Linear Regression Test R2','Linear Regression Test RMSE', 'Decision Tree Test RMSE', 'Random Forest Test RMSE', 'Gradient Boosted Test RMSE'],\n",
    "              }\n",
    "\n",
    "model_results = pd.DataFrame(result_data).set_index('Model')"
   ]
  },
  {
   "cell_type": "code",
   "execution_count": 161,
   "id": "floral-holder",
   "metadata": {},
   "outputs": [
    {
     "data": {
      "text/html": [
       "<div>\n",
       "<style scoped>\n",
       "    .dataframe tbody tr th:only-of-type {\n",
       "        vertical-align: middle;\n",
       "    }\n",
       "\n",
       "    .dataframe tbody tr th {\n",
       "        vertical-align: top;\n",
       "    }\n",
       "\n",
       "    .dataframe thead th {\n",
       "        text-align: right;\n",
       "    }\n",
       "</style>\n",
       "<table border=\"1\" class=\"dataframe\">\n",
       "  <thead>\n",
       "    <tr style=\"text-align: right;\">\n",
       "      <th></th>\n",
       "      <th>Overall Daily Model</th>\n",
       "      <th>Single Meter Hourly Model</th>\n",
       "    </tr>\n",
       "    <tr>\n",
       "      <th>Model</th>\n",
       "      <th></th>\n",
       "      <th></th>\n",
       "    </tr>\n",
       "  </thead>\n",
       "  <tbody>\n",
       "    <tr>\n",
       "      <th>Mean Energy Consumption (kWh or kWh/hr)</th>\n",
       "      <td>10.196622</td>\n",
       "      <td>0.600752</td>\n",
       "    </tr>\n",
       "    <tr>\n",
       "      <th>Linear Regression Test R2</th>\n",
       "      <td>0.089387</td>\n",
       "      <td>0.448217</td>\n",
       "    </tr>\n",
       "    <tr>\n",
       "      <th>Linear Regression Test RMSE</th>\n",
       "      <td>8.707719</td>\n",
       "      <td>0.285158</td>\n",
       "    </tr>\n",
       "    <tr>\n",
       "      <th>Decision Tree Test RMSE</th>\n",
       "      <td>8.750116</td>\n",
       "      <td>0.306728</td>\n",
       "    </tr>\n",
       "    <tr>\n",
       "      <th>Random Forest Test RMSE</th>\n",
       "      <td>8.744138</td>\n",
       "      <td>0.303716</td>\n",
       "    </tr>\n",
       "    <tr>\n",
       "      <th>Gradient Boosted Test RMSE</th>\n",
       "      <td>8.691600</td>\n",
       "      <td>0.259193</td>\n",
       "    </tr>\n",
       "  </tbody>\n",
       "</table>\n",
       "</div>"
      ],
      "text/plain": [
       "                                         Overall Daily Model  \\\n",
       "Model                                                          \n",
       "Mean Energy Consumption (kWh or kWh/hr)            10.196622   \n",
       "Linear Regression Test R2                           0.089387   \n",
       "Linear Regression Test RMSE                         8.707719   \n",
       "Decision Tree Test RMSE                             8.750116   \n",
       "Random Forest Test RMSE                             8.744138   \n",
       "Gradient Boosted Test RMSE                          8.691600   \n",
       "\n",
       "                                         Single Meter Hourly Model  \n",
       "Model                                                               \n",
       "Mean Energy Consumption (kWh or kWh/hr)                   0.600752  \n",
       "Linear Regression Test R2                                 0.448217  \n",
       "Linear Regression Test RMSE                               0.285158  \n",
       "Decision Tree Test RMSE                                   0.306728  \n",
       "Random Forest Test RMSE                                   0.303716  \n",
       "Gradient Boosted Test RMSE                                0.259193  "
      ]
     },
     "execution_count": 161,
     "metadata": {},
     "output_type": "execute_result"
    }
   ],
   "source": [
    "model_results"
   ]
  }
 ],
 "metadata": {
  "kernelspec": {
   "display_name": "e63",
   "language": "python",
   "name": "e63"
  },
  "language_info": {
   "codemirror_mode": {
    "name": "ipython",
    "version": 3
   },
   "file_extension": ".py",
   "mimetype": "text/x-python",
   "name": "python",
   "nbconvert_exporter": "python",
   "pygments_lexer": "ipython3",
   "version": "3.9.1"
  }
 },
 "nbformat": 4,
 "nbformat_minor": 5
}
